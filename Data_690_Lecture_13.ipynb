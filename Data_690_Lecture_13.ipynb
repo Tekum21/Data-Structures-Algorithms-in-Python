{
  "nbformat": 4,
  "nbformat_minor": 0,
  "metadata": {
    "kernelspec": {
      "display_name": "Python 3",
      "language": "python",
      "name": "python3"
    },
    "language_info": {
      "codemirror_mode": {
        "name": "ipython",
        "version": 3
      },
      "file_extension": ".py",
      "mimetype": "text/x-python",
      "name": "python",
      "nbconvert_exporter": "python",
      "pygments_lexer": "ipython3",
      "version": "3.6.8"
    },
    "colab": {
      "name": "Data 690 Lecture 13.ipynb",
      "provenance": []
    }
  },
  "cells": [
    {
      "cell_type": "markdown",
      "metadata": {
        "id": "9NgqxOQqdPzN",
        "colab_type": "text"
      },
      "source": [
        "Note:\n",
        "Today's lecture is from Jake VanderPlas' [Python Data Science Handbook](https://jakevdp.github.io/PythonDataScienceHandbook/).\n",
        "- \n",
        "# Piviot Tables\n",
        "\n",
        "[Wikipedia](https://en.wikipedia.org/wiki/Pivot_table) definition ... \n",
        "\n",
        ">A pivot table is a table of statistics that summarizes the data of a more extensive table (such as from a database, spreadsheet, or business intelligence program). This summary might include sums, averages, or other statistics, which the pivot table groups together in a meaningful way.\n",
        "\n",
        "> Pivot tables are a technique in data processing. They arrange and rearrange (or \"pivot\") statistics in order to draw attention to useful information. \n",
        "\n",
        "- Takes column-wise data as input\n",
        "- Groups the entries into a **two-dimensional table** providing a multidimensional summarization of the data\n",
        "- **Pivot tables can be thought of as a *multidimensional* version of [groupBy](https://pandas.pydata.org/pandas-docs/stable/reference/api/pandas.DataFrame.groupby.html) aggregation.**\n",
        "\n",
        ">A groupby operation involves some combination of splitting the object, applying a function, and combining the results. This can be used to group large amounts of data and compute operations on these groups.\n",
        "\n",
        "  - Split and combine within split-apply-combine happen across a **two-dimensional** grid"
      ]
    },
    {
      "cell_type": "markdown",
      "metadata": {
        "id": "H8oL7WuwdPzO",
        "colab_type": "text"
      },
      "source": [
        "## Motivating Pivot Tables\n",
        "Using *Titanic* passengers data from the Seaborn library"
      ]
    },
    {
      "cell_type": "code",
      "metadata": {
        "id": "eDHfCFAtdPzP",
        "colab_type": "code",
        "colab": {}
      },
      "source": [
        "import numpy as np\n",
        "import pandas as pd\n",
        "import seaborn as sns\n",
        "titanic = sns.load_dataset('titanic')"
      ],
      "execution_count": null,
      "outputs": []
    },
    {
      "cell_type": "code",
      "metadata": {
        "id": "3pjs4ydNdPzS",
        "colab_type": "code",
        "colab": {},
        "outputId": "7bca03f0-5e0d-48a3-c2f5-26f76b947b6f"
      },
      "source": [
        "titanic.head()"
      ],
      "execution_count": null,
      "outputs": [
        {
          "output_type": "execute_result",
          "data": {
            "text/html": [
              "<div>\n",
              "<style scoped>\n",
              "    .dataframe tbody tr th:only-of-type {\n",
              "        vertical-align: middle;\n",
              "    }\n",
              "\n",
              "    .dataframe tbody tr th {\n",
              "        vertical-align: top;\n",
              "    }\n",
              "\n",
              "    .dataframe thead th {\n",
              "        text-align: right;\n",
              "    }\n",
              "</style>\n",
              "<table border=\"1\" class=\"dataframe\">\n",
              "  <thead>\n",
              "    <tr style=\"text-align: right;\">\n",
              "      <th></th>\n",
              "      <th>survived</th>\n",
              "      <th>pclass</th>\n",
              "      <th>sex</th>\n",
              "      <th>age</th>\n",
              "      <th>sibsp</th>\n",
              "      <th>parch</th>\n",
              "      <th>fare</th>\n",
              "      <th>embarked</th>\n",
              "      <th>class</th>\n",
              "      <th>who</th>\n",
              "      <th>adult_male</th>\n",
              "      <th>deck</th>\n",
              "      <th>embark_town</th>\n",
              "      <th>alive</th>\n",
              "      <th>alone</th>\n",
              "    </tr>\n",
              "  </thead>\n",
              "  <tbody>\n",
              "    <tr>\n",
              "      <th>0</th>\n",
              "      <td>0</td>\n",
              "      <td>3</td>\n",
              "      <td>male</td>\n",
              "      <td>22.0</td>\n",
              "      <td>1</td>\n",
              "      <td>0</td>\n",
              "      <td>7.2500</td>\n",
              "      <td>S</td>\n",
              "      <td>Third</td>\n",
              "      <td>man</td>\n",
              "      <td>True</td>\n",
              "      <td>NaN</td>\n",
              "      <td>Southampton</td>\n",
              "      <td>no</td>\n",
              "      <td>False</td>\n",
              "    </tr>\n",
              "    <tr>\n",
              "      <th>1</th>\n",
              "      <td>1</td>\n",
              "      <td>1</td>\n",
              "      <td>female</td>\n",
              "      <td>38.0</td>\n",
              "      <td>1</td>\n",
              "      <td>0</td>\n",
              "      <td>71.2833</td>\n",
              "      <td>C</td>\n",
              "      <td>First</td>\n",
              "      <td>woman</td>\n",
              "      <td>False</td>\n",
              "      <td>C</td>\n",
              "      <td>Cherbourg</td>\n",
              "      <td>yes</td>\n",
              "      <td>False</td>\n",
              "    </tr>\n",
              "    <tr>\n",
              "      <th>2</th>\n",
              "      <td>1</td>\n",
              "      <td>3</td>\n",
              "      <td>female</td>\n",
              "      <td>26.0</td>\n",
              "      <td>0</td>\n",
              "      <td>0</td>\n",
              "      <td>7.9250</td>\n",
              "      <td>S</td>\n",
              "      <td>Third</td>\n",
              "      <td>woman</td>\n",
              "      <td>False</td>\n",
              "      <td>NaN</td>\n",
              "      <td>Southampton</td>\n",
              "      <td>yes</td>\n",
              "      <td>True</td>\n",
              "    </tr>\n",
              "    <tr>\n",
              "      <th>3</th>\n",
              "      <td>1</td>\n",
              "      <td>1</td>\n",
              "      <td>female</td>\n",
              "      <td>35.0</td>\n",
              "      <td>1</td>\n",
              "      <td>0</td>\n",
              "      <td>53.1000</td>\n",
              "      <td>S</td>\n",
              "      <td>First</td>\n",
              "      <td>woman</td>\n",
              "      <td>False</td>\n",
              "      <td>C</td>\n",
              "      <td>Southampton</td>\n",
              "      <td>yes</td>\n",
              "      <td>False</td>\n",
              "    </tr>\n",
              "    <tr>\n",
              "      <th>4</th>\n",
              "      <td>0</td>\n",
              "      <td>3</td>\n",
              "      <td>male</td>\n",
              "      <td>35.0</td>\n",
              "      <td>0</td>\n",
              "      <td>0</td>\n",
              "      <td>8.0500</td>\n",
              "      <td>S</td>\n",
              "      <td>Third</td>\n",
              "      <td>man</td>\n",
              "      <td>True</td>\n",
              "      <td>NaN</td>\n",
              "      <td>Southampton</td>\n",
              "      <td>no</td>\n",
              "      <td>True</td>\n",
              "    </tr>\n",
              "  </tbody>\n",
              "</table>\n",
              "</div>"
            ],
            "text/plain": [
              "   survived  pclass     sex   age  sibsp  parch     fare embarked  class  \\\n",
              "0         0       3    male  22.0      1      0   7.2500        S  Third   \n",
              "1         1       1  female  38.0      1      0  71.2833        C  First   \n",
              "2         1       3  female  26.0      0      0   7.9250        S  Third   \n",
              "3         1       1  female  35.0      1      0  53.1000        S  First   \n",
              "4         0       3    male  35.0      0      0   8.0500        S  Third   \n",
              "\n",
              "     who  adult_male deck  embark_town alive  alone  \n",
              "0    man        True  NaN  Southampton    no  False  \n",
              "1  woman       False    C    Cherbourg   yes  False  \n",
              "2  woman       False  NaN  Southampton   yes   True  \n",
              "3  woman       False    C  Southampton   yes  False  \n",
              "4    man        True  NaN  Southampton    no   True  "
            ]
          },
          "metadata": {
            "tags": []
          },
          "execution_count": 2
        }
      ]
    },
    {
      "cell_type": "markdown",
      "metadata": {
        "id": "-bbRJtEOdPzV",
        "colab_type": "text"
      },
      "source": [
        "## Pivot Tables by Hand"
      ]
    },
    {
      "cell_type": "markdown",
      "metadata": {
        "id": "qAl9DsW7dPzV",
        "colab_type": "text"
      },
      "source": [
        "Looking at the survival rate by gender."
      ]
    },
    {
      "cell_type": "code",
      "metadata": {
        "id": "NvG9RMFmdPzW",
        "colab_type": "code",
        "colab": {},
        "outputId": "2ad47f3d-0475-4dd1-ab66-448a1dc761dd"
      },
      "source": [
        "titanic.groupby('sex')[['survived']].mean()"
      ],
      "execution_count": null,
      "outputs": [
        {
          "output_type": "execute_result",
          "data": {
            "text/html": [
              "<div>\n",
              "<style scoped>\n",
              "    .dataframe tbody tr th:only-of-type {\n",
              "        vertical-align: middle;\n",
              "    }\n",
              "\n",
              "    .dataframe tbody tr th {\n",
              "        vertical-align: top;\n",
              "    }\n",
              "\n",
              "    .dataframe thead th {\n",
              "        text-align: right;\n",
              "    }\n",
              "</style>\n",
              "<table border=\"1\" class=\"dataframe\">\n",
              "  <thead>\n",
              "    <tr style=\"text-align: right;\">\n",
              "      <th></th>\n",
              "      <th>survived</th>\n",
              "    </tr>\n",
              "    <tr>\n",
              "      <th>sex</th>\n",
              "      <th></th>\n",
              "    </tr>\n",
              "  </thead>\n",
              "  <tbody>\n",
              "    <tr>\n",
              "      <th>female</th>\n",
              "      <td>0.742038</td>\n",
              "    </tr>\n",
              "    <tr>\n",
              "      <th>male</th>\n",
              "      <td>0.188908</td>\n",
              "    </tr>\n",
              "  </tbody>\n",
              "</table>\n",
              "</div>"
            ],
            "text/plain": [
              "        survived\n",
              "sex             \n",
              "female  0.742038\n",
              "male    0.188908"
            ]
          },
          "metadata": {
            "tags": []
          },
          "execution_count": 3
        }
      ]
    },
    {
      "cell_type": "markdown",
      "metadata": {
        "id": "CubnVTBJdPzY",
        "colab_type": "text"
      },
      "source": [
        "- Three of four females on board survived.\n",
        "- Only one in five males survived. "
      ]
    },
    {
      "cell_type": "markdown",
      "metadata": {
        "id": "PK9QXfCVdPzY",
        "colab_type": "text"
      },
      "source": [
        "### Taking it deeper\n",
        "- *Group by* gender, class\n",
        "- *Select* survival,\n",
        "- *Appy* a mean aggregate\n",
        "- *Combine* the resulting groups\n",
        "- *Unstack* hierachical index to reveal the hidden multidimentionality. "
      ]
    },
    {
      "cell_type": "code",
      "metadata": {
        "id": "S9mIREbmdPzZ",
        "colab_type": "code",
        "colab": {},
        "outputId": "5d263f19-350d-4f01-be6b-8e9f4eadbec1"
      },
      "source": [
        "titanic.groupby(['sex', 'class'])['survived'].aggregate('mean').unstack()"
      ],
      "execution_count": null,
      "outputs": [
        {
          "output_type": "execute_result",
          "data": {
            "text/html": [
              "<div>\n",
              "<style scoped>\n",
              "    .dataframe tbody tr th:only-of-type {\n",
              "        vertical-align: middle;\n",
              "    }\n",
              "\n",
              "    .dataframe tbody tr th {\n",
              "        vertical-align: top;\n",
              "    }\n",
              "\n",
              "    .dataframe thead th {\n",
              "        text-align: right;\n",
              "    }\n",
              "</style>\n",
              "<table border=\"1\" class=\"dataframe\">\n",
              "  <thead>\n",
              "    <tr style=\"text-align: right;\">\n",
              "      <th>class</th>\n",
              "      <th>First</th>\n",
              "      <th>Second</th>\n",
              "      <th>Third</th>\n",
              "    </tr>\n",
              "    <tr>\n",
              "      <th>sex</th>\n",
              "      <th></th>\n",
              "      <th></th>\n",
              "      <th></th>\n",
              "    </tr>\n",
              "  </thead>\n",
              "  <tbody>\n",
              "    <tr>\n",
              "      <th>female</th>\n",
              "      <td>0.968085</td>\n",
              "      <td>0.921053</td>\n",
              "      <td>0.500000</td>\n",
              "    </tr>\n",
              "    <tr>\n",
              "      <th>male</th>\n",
              "      <td>0.368852</td>\n",
              "      <td>0.157407</td>\n",
              "      <td>0.135447</td>\n",
              "    </tr>\n",
              "  </tbody>\n",
              "</table>\n",
              "</div>"
            ],
            "text/plain": [
              "class      First    Second     Third\n",
              "sex                                 \n",
              "female  0.968085  0.921053  0.500000\n",
              "male    0.368852  0.157407  0.135447"
            ]
          },
          "metadata": {
            "tags": []
          },
          "execution_count": 4
        }
      ]
    },
    {
      "cell_type": "markdown",
      "metadata": {
        "id": "l8CAf9ubdPzb",
        "colab_type": "text"
      },
      "source": [
        "#### Let's unpack"
      ]
    },
    {
      "cell_type": "markdown",
      "metadata": {
        "id": "KQK28hy9dPzb",
        "colab_type": "text"
      },
      "source": [
        "- groupby(['sex', 'class']) returns pandas.DataFrameGroupby object\n",
        "- groupby(['sex', 'class'])['survived'] returns SeriesGroupBy"
      ]
    },
    {
      "cell_type": "code",
      "metadata": {
        "id": "Hv6OhznrdPzc",
        "colab_type": "code",
        "colab": {},
        "outputId": "c2c0669d-3239-4629-e2f3-0857ae2ca0c6"
      },
      "source": [
        "titanic.groupby(['sex', 'class'])['survived']"
      ],
      "execution_count": null,
      "outputs": [
        {
          "output_type": "execute_result",
          "data": {
            "text/plain": [
              "<pandas.core.groupby.generic.SeriesGroupBy object at 0x0000024AD2B20C18>"
            ]
          },
          "metadata": {
            "tags": []
          },
          "execution_count": 5
        }
      ]
    },
    {
      "cell_type": "markdown",
      "metadata": {
        "id": "6ZwBvVOGdPze",
        "colab_type": "text"
      },
      "source": [
        "The result of applying ``aggregate`` method "
      ]
    },
    {
      "cell_type": "code",
      "metadata": {
        "id": "pVWKmw6cdPze",
        "colab_type": "code",
        "colab": {},
        "outputId": "f7082a00-44f9-45ec-b75d-7ef04fdef093"
      },
      "source": [
        "titanic.groupby(['sex', 'class'])['survived'].aggregate('mean')"
      ],
      "execution_count": null,
      "outputs": [
        {
          "output_type": "execute_result",
          "data": {
            "text/plain": [
              "sex     class \n",
              "female  First     0.968085\n",
              "        Second    0.921053\n",
              "        Third     0.500000\n",
              "male    First     0.368852\n",
              "        Second    0.157407\n",
              "        Third     0.135447\n",
              "Name: survived, dtype: float64"
            ]
          },
          "metadata": {
            "tags": []
          },
          "execution_count": 6
        }
      ]
    },
    {
      "cell_type": "markdown",
      "metadata": {
        "id": "Ug_KPZMEdPzh",
        "colab_type": "text"
      },
      "source": [
        "``groupy`` on multiple columns creates a ``MultiIndex``"
      ]
    },
    {
      "cell_type": "code",
      "metadata": {
        "id": "_3ZlHchxdPzh",
        "colab_type": "code",
        "colab": {},
        "outputId": "9a06353a-ae7d-43dd-b6f7-d1b556f563b8"
      },
      "source": [
        "titanic.groupby(['sex', 'class'])['survived'].aggregate('mean').index"
      ],
      "execution_count": null,
      "outputs": [
        {
          "output_type": "execute_result",
          "data": {
            "text/plain": [
              "MultiIndex([('female',  'First'),\n",
              "            ('female', 'Second'),\n",
              "            ('female',  'Third'),\n",
              "            (  'male',  'First'),\n",
              "            (  'male', 'Second'),\n",
              "            (  'male',  'Third')],\n",
              "           names=['sex', 'class'])"
            ]
          },
          "metadata": {
            "tags": []
          },
          "execution_count": 7
        }
      ]
    },
    {
      "cell_type": "markdown",
      "metadata": {
        "id": "hu52h4zFdPzj",
        "colab_type": "text"
      },
      "source": [
        "Compare the result of using only a single column (below) for the ``groupby`` operation with that of using multiple columns (above)."
      ]
    },
    {
      "cell_type": "code",
      "metadata": {
        "id": "SzxfgdladPzj",
        "colab_type": "code",
        "colab": {},
        "outputId": "a742f443-10ec-4fa5-b2e2-192cb02ae501"
      },
      "source": [
        "titanic.groupby(['sex'])['survived'].aggregate('mean').index"
      ],
      "execution_count": null,
      "outputs": [
        {
          "output_type": "execute_result",
          "data": {
            "text/plain": [
              "Index(['female', 'male'], dtype='object', name='sex')"
            ]
          },
          "metadata": {
            "tags": []
          },
          "execution_count": 8
        }
      ]
    },
    {
      "cell_type": "markdown",
      "metadata": {
        "id": "Qryk_yh9dPzl",
        "colab_type": "text"
      },
      "source": [
        "Getting back to the sample code ... \n",
        "\n",
        "We learned from the last lecture, ``unstack`` creates wider form of the data.\n",
        "- The inner most (last) row index becomes the innermost column index"
      ]
    },
    {
      "cell_type": "code",
      "metadata": {
        "id": "So7_LQ1XdPzm",
        "colab_type": "code",
        "colab": {},
        "outputId": "583a9328-f16f-4f33-b55d-33544092d26b"
      },
      "source": [
        "titanic.groupby(['sex', 'class'])['survived'].aggregate('mean')"
      ],
      "execution_count": null,
      "outputs": [
        {
          "output_type": "execute_result",
          "data": {
            "text/plain": [
              "sex     class \n",
              "female  First     0.968085\n",
              "        Second    0.921053\n",
              "        Third     0.500000\n",
              "male    First     0.368852\n",
              "        Second    0.157407\n",
              "        Third     0.135447\n",
              "Name: survived, dtype: float64"
            ]
          },
          "metadata": {
            "tags": []
          },
          "execution_count": 9
        }
      ]
    },
    {
      "cell_type": "code",
      "metadata": {
        "id": "--WHZixmdPzo",
        "colab_type": "code",
        "colab": {},
        "outputId": "33353125-fee4-4ce6-fa89-7319e6521bc3"
      },
      "source": [
        "titanic.groupby(['sex', 'class'])['survived'].aggregate('mean').unstack()"
      ],
      "execution_count": null,
      "outputs": [
        {
          "output_type": "execute_result",
          "data": {
            "text/html": [
              "<div>\n",
              "<style scoped>\n",
              "    .dataframe tbody tr th:only-of-type {\n",
              "        vertical-align: middle;\n",
              "    }\n",
              "\n",
              "    .dataframe tbody tr th {\n",
              "        vertical-align: top;\n",
              "    }\n",
              "\n",
              "    .dataframe thead th {\n",
              "        text-align: right;\n",
              "    }\n",
              "</style>\n",
              "<table border=\"1\" class=\"dataframe\">\n",
              "  <thead>\n",
              "    <tr style=\"text-align: right;\">\n",
              "      <th>class</th>\n",
              "      <th>First</th>\n",
              "      <th>Second</th>\n",
              "      <th>Third</th>\n",
              "    </tr>\n",
              "    <tr>\n",
              "      <th>sex</th>\n",
              "      <th></th>\n",
              "      <th></th>\n",
              "      <th></th>\n",
              "    </tr>\n",
              "  </thead>\n",
              "  <tbody>\n",
              "    <tr>\n",
              "      <th>female</th>\n",
              "      <td>0.968085</td>\n",
              "      <td>0.921053</td>\n",
              "      <td>0.500000</td>\n",
              "    </tr>\n",
              "    <tr>\n",
              "      <th>male</th>\n",
              "      <td>0.368852</td>\n",
              "      <td>0.157407</td>\n",
              "      <td>0.135447</td>\n",
              "    </tr>\n",
              "  </tbody>\n",
              "</table>\n",
              "</div>"
            ],
            "text/plain": [
              "class      First    Second     Third\n",
              "sex                                 \n",
              "female  0.968085  0.921053  0.500000\n",
              "male    0.368852  0.157407  0.135447"
            ]
          },
          "metadata": {
            "tags": []
          },
          "execution_count": 10
        }
      ]
    },
    {
      "cell_type": "markdown",
      "metadata": {
        "id": "9RLJLNEEdPzq",
        "colab_type": "text"
      },
      "source": [
        "## Pivot Table Syntax\n",
        "\n",
        "The manual approach of using ``groupby`` allows us to have better understanding of how gender and class affected the survival. However, the code becomes more complicated. \n",
        "\n",
        "Below example is the same as the above sample (manual). It uses [DataFrame.pivot_table()](https://pandas.pydata.org/pandas-docs/stable/reference/api/pandas.DataFrame.pivot_table.html) method.\n",
        "\n",
        "> DataFrame.pivot_table(self, values=None, index=None, columns=None, aggfunc='mean', fill_value=None, margins=False, dropna=True, margins_name='All', observed=False) → 'DataFrame'[source]\n",
        "\n",
        ">    Create a spreadsheet-style pivot table as a DataFrame.\n",
        "\n",
        ">    The levels in the pivot table will be stored in MultiIndex objects (hierarchical indexes) on the index and columns of the result DataFrame."
      ]
    },
    {
      "cell_type": "code",
      "metadata": {
        "id": "NrihQ2kIdPzr",
        "colab_type": "code",
        "colab": {},
        "outputId": "393438a6-74b8-46b4-f651-c43ee04717ba"
      },
      "source": [
        "titanic.head()"
      ],
      "execution_count": null,
      "outputs": [
        {
          "output_type": "execute_result",
          "data": {
            "text/html": [
              "<div>\n",
              "<style scoped>\n",
              "    .dataframe tbody tr th:only-of-type {\n",
              "        vertical-align: middle;\n",
              "    }\n",
              "\n",
              "    .dataframe tbody tr th {\n",
              "        vertical-align: top;\n",
              "    }\n",
              "\n",
              "    .dataframe thead th {\n",
              "        text-align: right;\n",
              "    }\n",
              "</style>\n",
              "<table border=\"1\" class=\"dataframe\">\n",
              "  <thead>\n",
              "    <tr style=\"text-align: right;\">\n",
              "      <th></th>\n",
              "      <th>survived</th>\n",
              "      <th>pclass</th>\n",
              "      <th>sex</th>\n",
              "      <th>age</th>\n",
              "      <th>sibsp</th>\n",
              "      <th>parch</th>\n",
              "      <th>fare</th>\n",
              "      <th>embarked</th>\n",
              "      <th>class</th>\n",
              "      <th>who</th>\n",
              "      <th>adult_male</th>\n",
              "      <th>deck</th>\n",
              "      <th>embark_town</th>\n",
              "      <th>alive</th>\n",
              "      <th>alone</th>\n",
              "    </tr>\n",
              "  </thead>\n",
              "  <tbody>\n",
              "    <tr>\n",
              "      <th>0</th>\n",
              "      <td>0</td>\n",
              "      <td>3</td>\n",
              "      <td>male</td>\n",
              "      <td>22.0</td>\n",
              "      <td>1</td>\n",
              "      <td>0</td>\n",
              "      <td>7.2500</td>\n",
              "      <td>S</td>\n",
              "      <td>Third</td>\n",
              "      <td>man</td>\n",
              "      <td>True</td>\n",
              "      <td>NaN</td>\n",
              "      <td>Southampton</td>\n",
              "      <td>no</td>\n",
              "      <td>False</td>\n",
              "    </tr>\n",
              "    <tr>\n",
              "      <th>1</th>\n",
              "      <td>1</td>\n",
              "      <td>1</td>\n",
              "      <td>female</td>\n",
              "      <td>38.0</td>\n",
              "      <td>1</td>\n",
              "      <td>0</td>\n",
              "      <td>71.2833</td>\n",
              "      <td>C</td>\n",
              "      <td>First</td>\n",
              "      <td>woman</td>\n",
              "      <td>False</td>\n",
              "      <td>C</td>\n",
              "      <td>Cherbourg</td>\n",
              "      <td>yes</td>\n",
              "      <td>False</td>\n",
              "    </tr>\n",
              "    <tr>\n",
              "      <th>2</th>\n",
              "      <td>1</td>\n",
              "      <td>3</td>\n",
              "      <td>female</td>\n",
              "      <td>26.0</td>\n",
              "      <td>0</td>\n",
              "      <td>0</td>\n",
              "      <td>7.9250</td>\n",
              "      <td>S</td>\n",
              "      <td>Third</td>\n",
              "      <td>woman</td>\n",
              "      <td>False</td>\n",
              "      <td>NaN</td>\n",
              "      <td>Southampton</td>\n",
              "      <td>yes</td>\n",
              "      <td>True</td>\n",
              "    </tr>\n",
              "    <tr>\n",
              "      <th>3</th>\n",
              "      <td>1</td>\n",
              "      <td>1</td>\n",
              "      <td>female</td>\n",
              "      <td>35.0</td>\n",
              "      <td>1</td>\n",
              "      <td>0</td>\n",
              "      <td>53.1000</td>\n",
              "      <td>S</td>\n",
              "      <td>First</td>\n",
              "      <td>woman</td>\n",
              "      <td>False</td>\n",
              "      <td>C</td>\n",
              "      <td>Southampton</td>\n",
              "      <td>yes</td>\n",
              "      <td>False</td>\n",
              "    </tr>\n",
              "    <tr>\n",
              "      <th>4</th>\n",
              "      <td>0</td>\n",
              "      <td>3</td>\n",
              "      <td>male</td>\n",
              "      <td>35.0</td>\n",
              "      <td>0</td>\n",
              "      <td>0</td>\n",
              "      <td>8.0500</td>\n",
              "      <td>S</td>\n",
              "      <td>Third</td>\n",
              "      <td>man</td>\n",
              "      <td>True</td>\n",
              "      <td>NaN</td>\n",
              "      <td>Southampton</td>\n",
              "      <td>no</td>\n",
              "      <td>True</td>\n",
              "    </tr>\n",
              "  </tbody>\n",
              "</table>\n",
              "</div>"
            ],
            "text/plain": [
              "   survived  pclass     sex   age  sibsp  parch     fare embarked  class  \\\n",
              "0         0       3    male  22.0      1      0   7.2500        S  Third   \n",
              "1         1       1  female  38.0      1      0  71.2833        C  First   \n",
              "2         1       3  female  26.0      0      0   7.9250        S  Third   \n",
              "3         1       1  female  35.0      1      0  53.1000        S  First   \n",
              "4         0       3    male  35.0      0      0   8.0500        S  Third   \n",
              "\n",
              "     who  adult_male deck  embark_town alive  alone  \n",
              "0    man        True  NaN  Southampton    no  False  \n",
              "1  woman       False    C    Cherbourg   yes  False  \n",
              "2  woman       False  NaN  Southampton   yes   True  \n",
              "3  woman       False    C  Southampton   yes  False  \n",
              "4    man        True  NaN  Southampton    no   True  "
            ]
          },
          "metadata": {
            "tags": []
          },
          "execution_count": 11
        }
      ]
    },
    {
      "cell_type": "code",
      "metadata": {
        "id": "RSMap2o_dPzt",
        "colab_type": "code",
        "colab": {},
        "outputId": "f6a6ec97-7595-44aa-9e8e-2f4de52166a0"
      },
      "source": [
        "titanic.pivot_table('survived', index='sex', columns='class')"
      ],
      "execution_count": null,
      "outputs": [
        {
          "output_type": "execute_result",
          "data": {
            "text/html": [
              "<div>\n",
              "<style scoped>\n",
              "    .dataframe tbody tr th:only-of-type {\n",
              "        vertical-align: middle;\n",
              "    }\n",
              "\n",
              "    .dataframe tbody tr th {\n",
              "        vertical-align: top;\n",
              "    }\n",
              "\n",
              "    .dataframe thead th {\n",
              "        text-align: right;\n",
              "    }\n",
              "</style>\n",
              "<table border=\"1\" class=\"dataframe\">\n",
              "  <thead>\n",
              "    <tr style=\"text-align: right;\">\n",
              "      <th>class</th>\n",
              "      <th>First</th>\n",
              "      <th>Second</th>\n",
              "      <th>Third</th>\n",
              "    </tr>\n",
              "    <tr>\n",
              "      <th>sex</th>\n",
              "      <th></th>\n",
              "      <th></th>\n",
              "      <th></th>\n",
              "    </tr>\n",
              "  </thead>\n",
              "  <tbody>\n",
              "    <tr>\n",
              "      <th>female</th>\n",
              "      <td>0.968085</td>\n",
              "      <td>0.921053</td>\n",
              "      <td>0.500000</td>\n",
              "    </tr>\n",
              "    <tr>\n",
              "      <th>male</th>\n",
              "      <td>0.368852</td>\n",
              "      <td>0.157407</td>\n",
              "      <td>0.135447</td>\n",
              "    </tr>\n",
              "  </tbody>\n",
              "</table>\n",
              "</div>"
            ],
            "text/plain": [
              "class      First    Second     Third\n",
              "sex                                 \n",
              "female  0.968085  0.921053  0.500000\n",
              "male    0.368852  0.157407  0.135447"
            ]
          },
          "metadata": {
            "tags": []
          },
          "execution_count": 12
        }
      ]
    },
    {
      "cell_type": "markdown",
      "metadata": {
        "id": "pt_clyYBdPzu",
        "colab_type": "text"
      },
      "source": [
        "The resulting table using pivot_table is more readable and produces the same result as the ``groupby`` approach."
      ]
    },
    {
      "cell_type": "markdown",
      "metadata": {
        "id": "1ZUR1rlkdPzv",
        "colab_type": "text"
      },
      "source": [
        "### Multi-level pivot tables\n",
        "\n",
        "Grouping in pivot tables can be specified with multiple levels\n",
        "\n",
        "First, on pd.cut() method ...\n",
        "\n",
        "[pandas.cut()](https://pandas.pydata.org/pandas-docs/stable/reference/api/pandas.cut.html)\n",
        "\n",
        "> pandas.cut(x, bins, right: bool = True, labels=None, retbins: bool = False, precision: int = 3, include_lowest: bool = False, duplicates: str = 'raise')[source]\n",
        "\n",
        ">    Bin values into discrete intervals.\n",
        "\n",
        ">    Use cut when you need to segment and sort data values into bins. This function is also useful for going from a continuous variable to a categorical variable. For example, cut could convert ages to groups of age ranges. Supports binning into an equal number of bins, or a pre-specified array of bins.\n",
        "\n",
        "For more info, refer to this [article](https://pbpython.com/pandas-qcut-cut.html).\n",
        "\n",
        "``pd.cut()`` returns a [pd.Categorical](https://pandas.pydata.org/pandas-docs/stable/reference/api/pandas.Categorical.html) object. "
      ]
    },
    {
      "cell_type": "code",
      "metadata": {
        "id": "Ga-xrgRfdPzw",
        "colab_type": "code",
        "colab": {},
        "outputId": "4e6a7602-844e-4ae9-fa57-5e2bfc4112e1"
      },
      "source": [
        "age = pd.cut(titanic['age'], [0, 18, 80])\n",
        "age"
      ],
      "execution_count": null,
      "outputs": [
        {
          "output_type": "execute_result",
          "data": {
            "text/plain": [
              "0      (18.0, 80.0]\n",
              "1      (18.0, 80.0]\n",
              "2      (18.0, 80.0]\n",
              "3      (18.0, 80.0]\n",
              "4      (18.0, 80.0]\n",
              "           ...     \n",
              "886    (18.0, 80.0]\n",
              "887    (18.0, 80.0]\n",
              "888             NaN\n",
              "889    (18.0, 80.0]\n",
              "890    (18.0, 80.0]\n",
              "Name: age, Length: 891, dtype: category\n",
              "Categories (2, interval[int64]): [(0, 18] < (18, 80]]"
            ]
          },
          "metadata": {
            "tags": []
          },
          "execution_count": 13
        }
      ]
    },
    {
      "cell_type": "code",
      "metadata": {
        "id": "smzP2Hq6dPzy",
        "colab_type": "code",
        "colab": {},
        "outputId": "dfc11541-a6c5-4dee-b04e-267571b3413e"
      },
      "source": [
        "titanic.pivot_table('survived', ['sex', age], 'class')"
      ],
      "execution_count": null,
      "outputs": [
        {
          "output_type": "execute_result",
          "data": {
            "text/html": [
              "<div>\n",
              "<style scoped>\n",
              "    .dataframe tbody tr th:only-of-type {\n",
              "        vertical-align: middle;\n",
              "    }\n",
              "\n",
              "    .dataframe tbody tr th {\n",
              "        vertical-align: top;\n",
              "    }\n",
              "\n",
              "    .dataframe thead th {\n",
              "        text-align: right;\n",
              "    }\n",
              "</style>\n",
              "<table border=\"1\" class=\"dataframe\">\n",
              "  <thead>\n",
              "    <tr style=\"text-align: right;\">\n",
              "      <th></th>\n",
              "      <th>class</th>\n",
              "      <th>First</th>\n",
              "      <th>Second</th>\n",
              "      <th>Third</th>\n",
              "    </tr>\n",
              "    <tr>\n",
              "      <th>sex</th>\n",
              "      <th>age</th>\n",
              "      <th></th>\n",
              "      <th></th>\n",
              "      <th></th>\n",
              "    </tr>\n",
              "  </thead>\n",
              "  <tbody>\n",
              "    <tr>\n",
              "      <th rowspan=\"2\" valign=\"top\">female</th>\n",
              "      <th>(0, 18]</th>\n",
              "      <td>0.909091</td>\n",
              "      <td>1.000000</td>\n",
              "      <td>0.511628</td>\n",
              "    </tr>\n",
              "    <tr>\n",
              "      <th>(18, 80]</th>\n",
              "      <td>0.972973</td>\n",
              "      <td>0.900000</td>\n",
              "      <td>0.423729</td>\n",
              "    </tr>\n",
              "    <tr>\n",
              "      <th rowspan=\"2\" valign=\"top\">male</th>\n",
              "      <th>(0, 18]</th>\n",
              "      <td>0.800000</td>\n",
              "      <td>0.600000</td>\n",
              "      <td>0.215686</td>\n",
              "    </tr>\n",
              "    <tr>\n",
              "      <th>(18, 80]</th>\n",
              "      <td>0.375000</td>\n",
              "      <td>0.071429</td>\n",
              "      <td>0.133663</td>\n",
              "    </tr>\n",
              "  </tbody>\n",
              "</table>\n",
              "</div>"
            ],
            "text/plain": [
              "class               First    Second     Third\n",
              "sex    age                                   \n",
              "female (0, 18]   0.909091  1.000000  0.511628\n",
              "       (18, 80]  0.972973  0.900000  0.423729\n",
              "male   (0, 18]   0.800000  0.600000  0.215686\n",
              "       (18, 80]  0.375000  0.071429  0.133663"
            ]
          },
          "metadata": {
            "tags": []
          },
          "execution_count": 14
        }
      ]
    },
    {
      "cell_type": "markdown",
      "metadata": {
        "id": "sLHoLn0bdPz1",
        "colab_type": "text"
      },
      "source": [
        "[pd.qcut](https://pandas.pydata.org/pandas-docs/stable/reference/api/pandas.qcut.html)\n",
        "\n",
        ">pandas.qcut(x, q, labels=None, retbins: bool = False, precision: int = 3, duplicates: str = 'raise')[source]\n",
        "\n",
        ">    Quantile-based discretization function.\n",
        "\n",
        ">    Discretize variable into equal-sized buckets based on rank or based on sample quantiles. For example 1000 values for 10 quantiles would produce a Categorical object indicating quantile membership for each data point."
      ]
    },
    {
      "cell_type": "code",
      "metadata": {
        "id": "yAJX-1LIdPz2",
        "colab_type": "code",
        "colab": {},
        "outputId": "b16bb8b4-8c1d-486c-c392-a73422b0a37e"
      },
      "source": [
        "fare = pd.qcut(titanic['fare'], 2)\n",
        "fare"
      ],
      "execution_count": null,
      "outputs": [
        {
          "output_type": "execute_result",
          "data": {
            "text/plain": [
              "0       (-0.001, 14.454]\n",
              "1      (14.454, 512.329]\n",
              "2       (-0.001, 14.454]\n",
              "3      (14.454, 512.329]\n",
              "4       (-0.001, 14.454]\n",
              "             ...        \n",
              "886     (-0.001, 14.454]\n",
              "887    (14.454, 512.329]\n",
              "888    (14.454, 512.329]\n",
              "889    (14.454, 512.329]\n",
              "890     (-0.001, 14.454]\n",
              "Name: fare, Length: 891, dtype: category\n",
              "Categories (2, interval[float64]): [(-0.001, 14.454] < (14.454, 512.329]]"
            ]
          },
          "metadata": {
            "tags": []
          },
          "execution_count": 15
        }
      ]
    },
    {
      "cell_type": "code",
      "metadata": {
        "id": "e4beKMIadPz4",
        "colab_type": "code",
        "colab": {},
        "outputId": "e97af6a3-53a4-44c7-d76e-6fb1cd5458eb"
      },
      "source": [
        "titanic.pivot_table('survived', ['sex', age], [fare, 'class'])"
      ],
      "execution_count": null,
      "outputs": [
        {
          "output_type": "execute_result",
          "data": {
            "text/html": [
              "<div>\n",
              "<style scoped>\n",
              "    .dataframe tbody tr th:only-of-type {\n",
              "        vertical-align: middle;\n",
              "    }\n",
              "\n",
              "    .dataframe tbody tr th {\n",
              "        vertical-align: top;\n",
              "    }\n",
              "\n",
              "    .dataframe thead tr th {\n",
              "        text-align: left;\n",
              "    }\n",
              "\n",
              "    .dataframe thead tr:last-of-type th {\n",
              "        text-align: right;\n",
              "    }\n",
              "</style>\n",
              "<table border=\"1\" class=\"dataframe\">\n",
              "  <thead>\n",
              "    <tr>\n",
              "      <th></th>\n",
              "      <th>fare</th>\n",
              "      <th colspan=\"3\" halign=\"left\">(-0.001, 14.454]</th>\n",
              "      <th colspan=\"3\" halign=\"left\">(14.454, 512.329]</th>\n",
              "    </tr>\n",
              "    <tr>\n",
              "      <th></th>\n",
              "      <th>class</th>\n",
              "      <th>First</th>\n",
              "      <th>Second</th>\n",
              "      <th>Third</th>\n",
              "      <th>First</th>\n",
              "      <th>Second</th>\n",
              "      <th>Third</th>\n",
              "    </tr>\n",
              "    <tr>\n",
              "      <th>sex</th>\n",
              "      <th>age</th>\n",
              "      <th></th>\n",
              "      <th></th>\n",
              "      <th></th>\n",
              "      <th></th>\n",
              "      <th></th>\n",
              "      <th></th>\n",
              "    </tr>\n",
              "  </thead>\n",
              "  <tbody>\n",
              "    <tr>\n",
              "      <th rowspan=\"2\" valign=\"top\">female</th>\n",
              "      <th>(0, 18]</th>\n",
              "      <td>NaN</td>\n",
              "      <td>1.000000</td>\n",
              "      <td>0.714286</td>\n",
              "      <td>0.909091</td>\n",
              "      <td>1.000000</td>\n",
              "      <td>0.318182</td>\n",
              "    </tr>\n",
              "    <tr>\n",
              "      <th>(18, 80]</th>\n",
              "      <td>NaN</td>\n",
              "      <td>0.880000</td>\n",
              "      <td>0.444444</td>\n",
              "      <td>0.972973</td>\n",
              "      <td>0.914286</td>\n",
              "      <td>0.391304</td>\n",
              "    </tr>\n",
              "    <tr>\n",
              "      <th rowspan=\"2\" valign=\"top\">male</th>\n",
              "      <th>(0, 18]</th>\n",
              "      <td>NaN</td>\n",
              "      <td>0.000000</td>\n",
              "      <td>0.260870</td>\n",
              "      <td>0.800000</td>\n",
              "      <td>0.818182</td>\n",
              "      <td>0.178571</td>\n",
              "    </tr>\n",
              "    <tr>\n",
              "      <th>(18, 80]</th>\n",
              "      <td>0.0</td>\n",
              "      <td>0.098039</td>\n",
              "      <td>0.125000</td>\n",
              "      <td>0.391304</td>\n",
              "      <td>0.030303</td>\n",
              "      <td>0.192308</td>\n",
              "    </tr>\n",
              "  </tbody>\n",
              "</table>\n",
              "</div>"
            ],
            "text/plain": [
              "fare            (-0.001, 14.454]                     (14.454, 512.329]  \\\n",
              "class                      First    Second     Third             First   \n",
              "sex    age                                                               \n",
              "female (0, 18]               NaN  1.000000  0.714286          0.909091   \n",
              "       (18, 80]              NaN  0.880000  0.444444          0.972973   \n",
              "male   (0, 18]               NaN  0.000000  0.260870          0.800000   \n",
              "       (18, 80]              0.0  0.098039  0.125000          0.391304   \n",
              "\n",
              "fare                                 \n",
              "class              Second     Third  \n",
              "sex    age                           \n",
              "female (0, 18]   1.000000  0.318182  \n",
              "       (18, 80]  0.914286  0.391304  \n",
              "male   (0, 18]   0.818182  0.178571  \n",
              "       (18, 80]  0.030303  0.192308  "
            ]
          },
          "metadata": {
            "tags": []
          },
          "execution_count": 16
        }
      ]
    },
    {
      "cell_type": "markdown",
      "metadata": {
        "id": "-XPS0AO4dPz6",
        "colab_type": "text"
      },
      "source": [
        "### Additional pivot table options\n",
        "\n",
        "- ``aggfunc`` argument controls the type of aggregation applied. The default is *mean*.\n",
        "  - Aggregation can be a string representing one of several choices including ``'sum'``, ``'mean'``, ``'count'``, ``'min'``, ``'max'``, etc. \n",
        "  - It can also be a function that implments an aggregation (`np.sum()`, `min()`, `sum()`, etc)\n",
        "  - A dictionary mapping a column to desired option can be specified\n",
        "\n",
        ">aggfunc: function, list of functions, dict, default numpy.mean\n",
        "\n",
        ">    If list of functions passed, the resulting pivot table will have hierarchical columns whose top level are the function names (inferred from the function objects themselves) If dict is passed, the key is column to aggregate and value is function or list of functions.\n"
      ]
    },
    {
      "cell_type": "code",
      "metadata": {
        "id": "Wbaiwsz_dPz6",
        "colab_type": "code",
        "colab": {},
        "outputId": "b51ab4f0-4fa8-4b3c-e9b6-b6ec5b286ada"
      },
      "source": [
        "titanic"
      ],
      "execution_count": null,
      "outputs": [
        {
          "output_type": "execute_result",
          "data": {
            "text/html": [
              "<div>\n",
              "<style scoped>\n",
              "    .dataframe tbody tr th:only-of-type {\n",
              "        vertical-align: middle;\n",
              "    }\n",
              "\n",
              "    .dataframe tbody tr th {\n",
              "        vertical-align: top;\n",
              "    }\n",
              "\n",
              "    .dataframe thead th {\n",
              "        text-align: right;\n",
              "    }\n",
              "</style>\n",
              "<table border=\"1\" class=\"dataframe\">\n",
              "  <thead>\n",
              "    <tr style=\"text-align: right;\">\n",
              "      <th></th>\n",
              "      <th>survived</th>\n",
              "      <th>pclass</th>\n",
              "      <th>sex</th>\n",
              "      <th>age</th>\n",
              "      <th>sibsp</th>\n",
              "      <th>parch</th>\n",
              "      <th>fare</th>\n",
              "      <th>embarked</th>\n",
              "      <th>class</th>\n",
              "      <th>who</th>\n",
              "      <th>adult_male</th>\n",
              "      <th>deck</th>\n",
              "      <th>embark_town</th>\n",
              "      <th>alive</th>\n",
              "      <th>alone</th>\n",
              "    </tr>\n",
              "  </thead>\n",
              "  <tbody>\n",
              "    <tr>\n",
              "      <th>0</th>\n",
              "      <td>0</td>\n",
              "      <td>3</td>\n",
              "      <td>male</td>\n",
              "      <td>22.0</td>\n",
              "      <td>1</td>\n",
              "      <td>0</td>\n",
              "      <td>7.2500</td>\n",
              "      <td>S</td>\n",
              "      <td>Third</td>\n",
              "      <td>man</td>\n",
              "      <td>True</td>\n",
              "      <td>NaN</td>\n",
              "      <td>Southampton</td>\n",
              "      <td>no</td>\n",
              "      <td>False</td>\n",
              "    </tr>\n",
              "    <tr>\n",
              "      <th>1</th>\n",
              "      <td>1</td>\n",
              "      <td>1</td>\n",
              "      <td>female</td>\n",
              "      <td>38.0</td>\n",
              "      <td>1</td>\n",
              "      <td>0</td>\n",
              "      <td>71.2833</td>\n",
              "      <td>C</td>\n",
              "      <td>First</td>\n",
              "      <td>woman</td>\n",
              "      <td>False</td>\n",
              "      <td>C</td>\n",
              "      <td>Cherbourg</td>\n",
              "      <td>yes</td>\n",
              "      <td>False</td>\n",
              "    </tr>\n",
              "    <tr>\n",
              "      <th>2</th>\n",
              "      <td>1</td>\n",
              "      <td>3</td>\n",
              "      <td>female</td>\n",
              "      <td>26.0</td>\n",
              "      <td>0</td>\n",
              "      <td>0</td>\n",
              "      <td>7.9250</td>\n",
              "      <td>S</td>\n",
              "      <td>Third</td>\n",
              "      <td>woman</td>\n",
              "      <td>False</td>\n",
              "      <td>NaN</td>\n",
              "      <td>Southampton</td>\n",
              "      <td>yes</td>\n",
              "      <td>True</td>\n",
              "    </tr>\n",
              "    <tr>\n",
              "      <th>3</th>\n",
              "      <td>1</td>\n",
              "      <td>1</td>\n",
              "      <td>female</td>\n",
              "      <td>35.0</td>\n",
              "      <td>1</td>\n",
              "      <td>0</td>\n",
              "      <td>53.1000</td>\n",
              "      <td>S</td>\n",
              "      <td>First</td>\n",
              "      <td>woman</td>\n",
              "      <td>False</td>\n",
              "      <td>C</td>\n",
              "      <td>Southampton</td>\n",
              "      <td>yes</td>\n",
              "      <td>False</td>\n",
              "    </tr>\n",
              "    <tr>\n",
              "      <th>4</th>\n",
              "      <td>0</td>\n",
              "      <td>3</td>\n",
              "      <td>male</td>\n",
              "      <td>35.0</td>\n",
              "      <td>0</td>\n",
              "      <td>0</td>\n",
              "      <td>8.0500</td>\n",
              "      <td>S</td>\n",
              "      <td>Third</td>\n",
              "      <td>man</td>\n",
              "      <td>True</td>\n",
              "      <td>NaN</td>\n",
              "      <td>Southampton</td>\n",
              "      <td>no</td>\n",
              "      <td>True</td>\n",
              "    </tr>\n",
              "    <tr>\n",
              "      <th>...</th>\n",
              "      <td>...</td>\n",
              "      <td>...</td>\n",
              "      <td>...</td>\n",
              "      <td>...</td>\n",
              "      <td>...</td>\n",
              "      <td>...</td>\n",
              "      <td>...</td>\n",
              "      <td>...</td>\n",
              "      <td>...</td>\n",
              "      <td>...</td>\n",
              "      <td>...</td>\n",
              "      <td>...</td>\n",
              "      <td>...</td>\n",
              "      <td>...</td>\n",
              "      <td>...</td>\n",
              "    </tr>\n",
              "    <tr>\n",
              "      <th>886</th>\n",
              "      <td>0</td>\n",
              "      <td>2</td>\n",
              "      <td>male</td>\n",
              "      <td>27.0</td>\n",
              "      <td>0</td>\n",
              "      <td>0</td>\n",
              "      <td>13.0000</td>\n",
              "      <td>S</td>\n",
              "      <td>Second</td>\n",
              "      <td>man</td>\n",
              "      <td>True</td>\n",
              "      <td>NaN</td>\n",
              "      <td>Southampton</td>\n",
              "      <td>no</td>\n",
              "      <td>True</td>\n",
              "    </tr>\n",
              "    <tr>\n",
              "      <th>887</th>\n",
              "      <td>1</td>\n",
              "      <td>1</td>\n",
              "      <td>female</td>\n",
              "      <td>19.0</td>\n",
              "      <td>0</td>\n",
              "      <td>0</td>\n",
              "      <td>30.0000</td>\n",
              "      <td>S</td>\n",
              "      <td>First</td>\n",
              "      <td>woman</td>\n",
              "      <td>False</td>\n",
              "      <td>B</td>\n",
              "      <td>Southampton</td>\n",
              "      <td>yes</td>\n",
              "      <td>True</td>\n",
              "    </tr>\n",
              "    <tr>\n",
              "      <th>888</th>\n",
              "      <td>0</td>\n",
              "      <td>3</td>\n",
              "      <td>female</td>\n",
              "      <td>NaN</td>\n",
              "      <td>1</td>\n",
              "      <td>2</td>\n",
              "      <td>23.4500</td>\n",
              "      <td>S</td>\n",
              "      <td>Third</td>\n",
              "      <td>woman</td>\n",
              "      <td>False</td>\n",
              "      <td>NaN</td>\n",
              "      <td>Southampton</td>\n",
              "      <td>no</td>\n",
              "      <td>False</td>\n",
              "    </tr>\n",
              "    <tr>\n",
              "      <th>889</th>\n",
              "      <td>1</td>\n",
              "      <td>1</td>\n",
              "      <td>male</td>\n",
              "      <td>26.0</td>\n",
              "      <td>0</td>\n",
              "      <td>0</td>\n",
              "      <td>30.0000</td>\n",
              "      <td>C</td>\n",
              "      <td>First</td>\n",
              "      <td>man</td>\n",
              "      <td>True</td>\n",
              "      <td>C</td>\n",
              "      <td>Cherbourg</td>\n",
              "      <td>yes</td>\n",
              "      <td>True</td>\n",
              "    </tr>\n",
              "    <tr>\n",
              "      <th>890</th>\n",
              "      <td>0</td>\n",
              "      <td>3</td>\n",
              "      <td>male</td>\n",
              "      <td>32.0</td>\n",
              "      <td>0</td>\n",
              "      <td>0</td>\n",
              "      <td>7.7500</td>\n",
              "      <td>Q</td>\n",
              "      <td>Third</td>\n",
              "      <td>man</td>\n",
              "      <td>True</td>\n",
              "      <td>NaN</td>\n",
              "      <td>Queenstown</td>\n",
              "      <td>no</td>\n",
              "      <td>True</td>\n",
              "    </tr>\n",
              "  </tbody>\n",
              "</table>\n",
              "<p>891 rows × 15 columns</p>\n",
              "</div>"
            ],
            "text/plain": [
              "     survived  pclass     sex   age  sibsp  parch     fare embarked   class  \\\n",
              "0           0       3    male  22.0      1      0   7.2500        S   Third   \n",
              "1           1       1  female  38.0      1      0  71.2833        C   First   \n",
              "2           1       3  female  26.0      0      0   7.9250        S   Third   \n",
              "3           1       1  female  35.0      1      0  53.1000        S   First   \n",
              "4           0       3    male  35.0      0      0   8.0500        S   Third   \n",
              "..        ...     ...     ...   ...    ...    ...      ...      ...     ...   \n",
              "886         0       2    male  27.0      0      0  13.0000        S  Second   \n",
              "887         1       1  female  19.0      0      0  30.0000        S   First   \n",
              "888         0       3  female   NaN      1      2  23.4500        S   Third   \n",
              "889         1       1    male  26.0      0      0  30.0000        C   First   \n",
              "890         0       3    male  32.0      0      0   7.7500        Q   Third   \n",
              "\n",
              "       who  adult_male deck  embark_town alive  alone  \n",
              "0      man        True  NaN  Southampton    no  False  \n",
              "1    woman       False    C    Cherbourg   yes  False  \n",
              "2    woman       False  NaN  Southampton   yes   True  \n",
              "3    woman       False    C  Southampton   yes  False  \n",
              "4      man        True  NaN  Southampton    no   True  \n",
              "..     ...         ...  ...          ...   ...    ...  \n",
              "886    man        True  NaN  Southampton    no   True  \n",
              "887  woman       False    B  Southampton   yes   True  \n",
              "888  woman       False  NaN  Southampton    no  False  \n",
              "889    man        True    C    Cherbourg   yes   True  \n",
              "890    man        True  NaN   Queenstown    no   True  \n",
              "\n",
              "[891 rows x 15 columns]"
            ]
          },
          "metadata": {
            "tags": []
          },
          "execution_count": 17
        }
      ]
    },
    {
      "cell_type": "code",
      "metadata": {
        "id": "diAV6cpQdPz8",
        "colab_type": "code",
        "colab": {},
        "outputId": "9588d8b6-01b1-4a93-a8c4-d5e7e7e426df"
      },
      "source": [
        "titanic.pivot_table(index='sex', columns='class',\n",
        "                    aggfunc={'survived':sum, 'fare':'mean'})"
      ],
      "execution_count": null,
      "outputs": [
        {
          "output_type": "execute_result",
          "data": {
            "text/html": [
              "<div>\n",
              "<style scoped>\n",
              "    .dataframe tbody tr th:only-of-type {\n",
              "        vertical-align: middle;\n",
              "    }\n",
              "\n",
              "    .dataframe tbody tr th {\n",
              "        vertical-align: top;\n",
              "    }\n",
              "\n",
              "    .dataframe thead tr th {\n",
              "        text-align: left;\n",
              "    }\n",
              "\n",
              "    .dataframe thead tr:last-of-type th {\n",
              "        text-align: right;\n",
              "    }\n",
              "</style>\n",
              "<table border=\"1\" class=\"dataframe\">\n",
              "  <thead>\n",
              "    <tr>\n",
              "      <th></th>\n",
              "      <th colspan=\"3\" halign=\"left\">fare</th>\n",
              "      <th colspan=\"3\" halign=\"left\">survived</th>\n",
              "    </tr>\n",
              "    <tr>\n",
              "      <th>class</th>\n",
              "      <th>First</th>\n",
              "      <th>Second</th>\n",
              "      <th>Third</th>\n",
              "      <th>First</th>\n",
              "      <th>Second</th>\n",
              "      <th>Third</th>\n",
              "    </tr>\n",
              "    <tr>\n",
              "      <th>sex</th>\n",
              "      <th></th>\n",
              "      <th></th>\n",
              "      <th></th>\n",
              "      <th></th>\n",
              "      <th></th>\n",
              "      <th></th>\n",
              "    </tr>\n",
              "  </thead>\n",
              "  <tbody>\n",
              "    <tr>\n",
              "      <th>female</th>\n",
              "      <td>106.125798</td>\n",
              "      <td>21.970121</td>\n",
              "      <td>16.118810</td>\n",
              "      <td>91</td>\n",
              "      <td>70</td>\n",
              "      <td>72</td>\n",
              "    </tr>\n",
              "    <tr>\n",
              "      <th>male</th>\n",
              "      <td>67.226127</td>\n",
              "      <td>19.741782</td>\n",
              "      <td>12.661633</td>\n",
              "      <td>45</td>\n",
              "      <td>17</td>\n",
              "      <td>47</td>\n",
              "    </tr>\n",
              "  </tbody>\n",
              "</table>\n",
              "</div>"
            ],
            "text/plain": [
              "              fare                       survived             \n",
              "class        First     Second      Third    First Second Third\n",
              "sex                                                           \n",
              "female  106.125798  21.970121  16.118810       91     70    72\n",
              "male     67.226127  19.741782  12.661633       45     17    47"
            ]
          },
          "metadata": {
            "tags": []
          },
          "execution_count": 18
        }
      ]
    },
    {
      "cell_type": "markdown",
      "metadata": {
        "id": "AJkS2xS7dPz9",
        "colab_type": "text"
      },
      "source": [
        "Computing totals along each grouping using ``margins`` keyword."
      ]
    },
    {
      "cell_type": "code",
      "metadata": {
        "id": "LH8phutHdPz-",
        "colab_type": "code",
        "colab": {},
        "outputId": "c17f33f3-50cb-477a-fe2c-3ac72247ff07"
      },
      "source": [
        "titanic.pivot_table('survived', index='sex', columns='class', margins=True)"
      ],
      "execution_count": null,
      "outputs": [
        {
          "output_type": "execute_result",
          "data": {
            "text/html": [
              "<div>\n",
              "<style scoped>\n",
              "    .dataframe tbody tr th:only-of-type {\n",
              "        vertical-align: middle;\n",
              "    }\n",
              "\n",
              "    .dataframe tbody tr th {\n",
              "        vertical-align: top;\n",
              "    }\n",
              "\n",
              "    .dataframe thead th {\n",
              "        text-align: right;\n",
              "    }\n",
              "</style>\n",
              "<table border=\"1\" class=\"dataframe\">\n",
              "  <thead>\n",
              "    <tr style=\"text-align: right;\">\n",
              "      <th>class</th>\n",
              "      <th>First</th>\n",
              "      <th>Second</th>\n",
              "      <th>Third</th>\n",
              "      <th>All</th>\n",
              "    </tr>\n",
              "    <tr>\n",
              "      <th>sex</th>\n",
              "      <th></th>\n",
              "      <th></th>\n",
              "      <th></th>\n",
              "      <th></th>\n",
              "    </tr>\n",
              "  </thead>\n",
              "  <tbody>\n",
              "    <tr>\n",
              "      <th>female</th>\n",
              "      <td>0.968085</td>\n",
              "      <td>0.921053</td>\n",
              "      <td>0.500000</td>\n",
              "      <td>0.742038</td>\n",
              "    </tr>\n",
              "    <tr>\n",
              "      <th>male</th>\n",
              "      <td>0.368852</td>\n",
              "      <td>0.157407</td>\n",
              "      <td>0.135447</td>\n",
              "      <td>0.188908</td>\n",
              "    </tr>\n",
              "    <tr>\n",
              "      <th>All</th>\n",
              "      <td>0.629630</td>\n",
              "      <td>0.472826</td>\n",
              "      <td>0.242363</td>\n",
              "      <td>0.383838</td>\n",
              "    </tr>\n",
              "  </tbody>\n",
              "</table>\n",
              "</div>"
            ],
            "text/plain": [
              "class      First    Second     Third       All\n",
              "sex                                           \n",
              "female  0.968085  0.921053  0.500000  0.742038\n",
              "male    0.368852  0.157407  0.135447  0.188908\n",
              "All     0.629630  0.472826  0.242363  0.383838"
            ]
          },
          "metadata": {
            "tags": []
          },
          "execution_count": 19
        }
      ]
    },
    {
      "cell_type": "markdown",
      "metadata": {
        "id": "rso4LIwAdPz_",
        "colab_type": "text"
      },
      "source": [
        "### Example: Birthrate Data"
      ]
    },
    {
      "cell_type": "code",
      "metadata": {
        "id": "haDMr8wjdP0A",
        "colab_type": "code",
        "colab": {}
      },
      "source": [
        "births = pd.read_csv('https://raw.githubusercontent.com/jakevdp/data-CDCbirths/master/births.csv ')"
      ],
      "execution_count": null,
      "outputs": []
    },
    {
      "cell_type": "code",
      "metadata": {
        "id": "3guAewJtdP0B",
        "colab_type": "code",
        "colab": {},
        "outputId": "5b2632d8-3be8-46cb-d1fc-aa3d7f1564c3"
      },
      "source": [
        "births.head()"
      ],
      "execution_count": null,
      "outputs": [
        {
          "output_type": "execute_result",
          "data": {
            "text/html": [
              "<div>\n",
              "<style scoped>\n",
              "    .dataframe tbody tr th:only-of-type {\n",
              "        vertical-align: middle;\n",
              "    }\n",
              "\n",
              "    .dataframe tbody tr th {\n",
              "        vertical-align: top;\n",
              "    }\n",
              "\n",
              "    .dataframe thead th {\n",
              "        text-align: right;\n",
              "    }\n",
              "</style>\n",
              "<table border=\"1\" class=\"dataframe\">\n",
              "  <thead>\n",
              "    <tr style=\"text-align: right;\">\n",
              "      <th></th>\n",
              "      <th>year</th>\n",
              "      <th>month</th>\n",
              "      <th>day</th>\n",
              "      <th>gender</th>\n",
              "      <th>births</th>\n",
              "    </tr>\n",
              "  </thead>\n",
              "  <tbody>\n",
              "    <tr>\n",
              "      <th>0</th>\n",
              "      <td>1969</td>\n",
              "      <td>1</td>\n",
              "      <td>1.0</td>\n",
              "      <td>F</td>\n",
              "      <td>4046</td>\n",
              "    </tr>\n",
              "    <tr>\n",
              "      <th>1</th>\n",
              "      <td>1969</td>\n",
              "      <td>1</td>\n",
              "      <td>1.0</td>\n",
              "      <td>M</td>\n",
              "      <td>4440</td>\n",
              "    </tr>\n",
              "    <tr>\n",
              "      <th>2</th>\n",
              "      <td>1969</td>\n",
              "      <td>1</td>\n",
              "      <td>2.0</td>\n",
              "      <td>F</td>\n",
              "      <td>4454</td>\n",
              "    </tr>\n",
              "    <tr>\n",
              "      <th>3</th>\n",
              "      <td>1969</td>\n",
              "      <td>1</td>\n",
              "      <td>2.0</td>\n",
              "      <td>M</td>\n",
              "      <td>4548</td>\n",
              "    </tr>\n",
              "    <tr>\n",
              "      <th>4</th>\n",
              "      <td>1969</td>\n",
              "      <td>1</td>\n",
              "      <td>3.0</td>\n",
              "      <td>F</td>\n",
              "      <td>4548</td>\n",
              "    </tr>\n",
              "  </tbody>\n",
              "</table>\n",
              "</div>"
            ],
            "text/plain": [
              "   year  month  day gender  births\n",
              "0  1969      1  1.0      F    4046\n",
              "1  1969      1  1.0      M    4440\n",
              "2  1969      1  2.0      F    4454\n",
              "3  1969      1  2.0      M    4548\n",
              "4  1969      1  3.0      F    4548"
            ]
          },
          "metadata": {
            "tags": []
          },
          "execution_count": 21
        }
      ]
    },
    {
      "cell_type": "markdown",
      "metadata": {
        "id": "v9GtsNycdP0D",
        "colab_type": "text"
      },
      "source": [
        "Adding a decade column and looking at male and female births as a function of decade:"
      ]
    },
    {
      "cell_type": "code",
      "metadata": {
        "id": "pCw8YaEHdP0E",
        "colab_type": "code",
        "colab": {},
        "outputId": "f150c7e7-2d70-42ec-c5f1-c562b9e0226e"
      },
      "source": [
        "births['decade'] = 10 * (births['year'] // 10)\n",
        "births.pivot_table('births', index='decade', columns='gender', aggfunc='sum')"
      ],
      "execution_count": null,
      "outputs": [
        {
          "output_type": "execute_result",
          "data": {
            "text/html": [
              "<div>\n",
              "<style scoped>\n",
              "    .dataframe tbody tr th:only-of-type {\n",
              "        vertical-align: middle;\n",
              "    }\n",
              "\n",
              "    .dataframe tbody tr th {\n",
              "        vertical-align: top;\n",
              "    }\n",
              "\n",
              "    .dataframe thead th {\n",
              "        text-align: right;\n",
              "    }\n",
              "</style>\n",
              "<table border=\"1\" class=\"dataframe\">\n",
              "  <thead>\n",
              "    <tr style=\"text-align: right;\">\n",
              "      <th>gender</th>\n",
              "      <th>F</th>\n",
              "      <th>M</th>\n",
              "    </tr>\n",
              "    <tr>\n",
              "      <th>decade</th>\n",
              "      <th></th>\n",
              "      <th></th>\n",
              "    </tr>\n",
              "  </thead>\n",
              "  <tbody>\n",
              "    <tr>\n",
              "      <th>1960</th>\n",
              "      <td>1753634</td>\n",
              "      <td>1846572</td>\n",
              "    </tr>\n",
              "    <tr>\n",
              "      <th>1970</th>\n",
              "      <td>16263075</td>\n",
              "      <td>17121550</td>\n",
              "    </tr>\n",
              "    <tr>\n",
              "      <th>1980</th>\n",
              "      <td>18310351</td>\n",
              "      <td>19243452</td>\n",
              "    </tr>\n",
              "    <tr>\n",
              "      <th>1990</th>\n",
              "      <td>19479454</td>\n",
              "      <td>20420553</td>\n",
              "    </tr>\n",
              "    <tr>\n",
              "      <th>2000</th>\n",
              "      <td>18229309</td>\n",
              "      <td>19106428</td>\n",
              "    </tr>\n",
              "  </tbody>\n",
              "</table>\n",
              "</div>"
            ],
            "text/plain": [
              "gender         F         M\n",
              "decade                    \n",
              "1960     1753634   1846572\n",
              "1970    16263075  17121550\n",
              "1980    18310351  19243452\n",
              "1990    19479454  20420553\n",
              "2000    18229309  19106428"
            ]
          },
          "metadata": {
            "tags": []
          },
          "execution_count": 22
        }
      ]
    },
    {
      "cell_type": "markdown",
      "metadata": {
        "id": "p-Af4lv3dP0G",
        "colab_type": "text"
      },
      "source": [
        "Male births outnumber female births. \n",
        "Using built-in plotting tools in Pandas to visualize the total number of births. "
      ]
    },
    {
      "cell_type": "code",
      "metadata": {
        "id": "g5cGNi8BdP0G",
        "colab_type": "code",
        "colab": {},
        "outputId": "feb7290a-25a9-4320-cc6d-e7f38f6af5c2"
      },
      "source": [
        "%matplotlib inline\n",
        "import matplotlib.pyplot as plt\n",
        "sns.set()  # use Seaborn styles\n",
        "births.pivot_table('births', index='year', columns='gender', aggfunc='sum').plot()\n",
        "plt.ylabel('total births per year');"
      ],
      "execution_count": null,
      "outputs": [
        {
          "output_type": "display_data",
          "data": {
            "image/png": "[encoded data removed]",
            "text/plain": [
              "<Figure size 432x288 with 1 Axes>"
            ]
          },
          "metadata": {
            "tags": []
          }
        }
      ]
    },
    {
      "cell_type": "markdown",
      "metadata": {
        "id": "8MPqo3FldP0I",
        "colab_type": "text"
      },
      "source": [
        "\n",
        "Breaking it apart ... \n"
      ]
    },
    {
      "cell_type": "code",
      "metadata": {
        "id": "ClFvkz3QdP0I",
        "colab_type": "code",
        "colab": {},
        "outputId": "751c9c49-b560-4e81-f620-0b1cb877adc7"
      },
      "source": [
        "births.head()"
      ],
      "execution_count": null,
      "outputs": [
        {
          "output_type": "execute_result",
          "data": {
            "text/html": [
              "<div>\n",
              "<style scoped>\n",
              "    .dataframe tbody tr th:only-of-type {\n",
              "        vertical-align: middle;\n",
              "    }\n",
              "\n",
              "    .dataframe tbody tr th {\n",
              "        vertical-align: top;\n",
              "    }\n",
              "\n",
              "    .dataframe thead th {\n",
              "        text-align: right;\n",
              "    }\n",
              "</style>\n",
              "<table border=\"1\" class=\"dataframe\">\n",
              "  <thead>\n",
              "    <tr style=\"text-align: right;\">\n",
              "      <th></th>\n",
              "      <th>year</th>\n",
              "      <th>month</th>\n",
              "      <th>day</th>\n",
              "      <th>gender</th>\n",
              "      <th>births</th>\n",
              "      <th>decade</th>\n",
              "    </tr>\n",
              "  </thead>\n",
              "  <tbody>\n",
              "    <tr>\n",
              "      <th>0</th>\n",
              "      <td>1969</td>\n",
              "      <td>1</td>\n",
              "      <td>1.0</td>\n",
              "      <td>F</td>\n",
              "      <td>4046</td>\n",
              "      <td>1960</td>\n",
              "    </tr>\n",
              "    <tr>\n",
              "      <th>1</th>\n",
              "      <td>1969</td>\n",
              "      <td>1</td>\n",
              "      <td>1.0</td>\n",
              "      <td>M</td>\n",
              "      <td>4440</td>\n",
              "      <td>1960</td>\n",
              "    </tr>\n",
              "    <tr>\n",
              "      <th>2</th>\n",
              "      <td>1969</td>\n",
              "      <td>1</td>\n",
              "      <td>2.0</td>\n",
              "      <td>F</td>\n",
              "      <td>4454</td>\n",
              "      <td>1960</td>\n",
              "    </tr>\n",
              "    <tr>\n",
              "      <th>3</th>\n",
              "      <td>1969</td>\n",
              "      <td>1</td>\n",
              "      <td>2.0</td>\n",
              "      <td>M</td>\n",
              "      <td>4548</td>\n",
              "      <td>1960</td>\n",
              "    </tr>\n",
              "    <tr>\n",
              "      <th>4</th>\n",
              "      <td>1969</td>\n",
              "      <td>1</td>\n",
              "      <td>3.0</td>\n",
              "      <td>F</td>\n",
              "      <td>4548</td>\n",
              "      <td>1960</td>\n",
              "    </tr>\n",
              "  </tbody>\n",
              "</table>\n",
              "</div>"
            ],
            "text/plain": [
              "   year  month  day gender  births  decade\n",
              "0  1969      1  1.0      F    4046    1960\n",
              "1  1969      1  1.0      M    4440    1960\n",
              "2  1969      1  2.0      F    4454    1960\n",
              "3  1969      1  2.0      M    4548    1960\n",
              "4  1969      1  3.0      F    4548    1960"
            ]
          },
          "metadata": {
            "tags": []
          },
          "execution_count": 24
        }
      ]
    },
    {
      "cell_type": "code",
      "metadata": {
        "id": "kgcelW-TdP0K",
        "colab_type": "code",
        "colab": {},
        "outputId": "d64a210b-6e28-4a54-9f60-ceb6eb5c8c05"
      },
      "source": [
        "births.pivot_table('births', index='year', columns='gender', aggfunc='sum')"
      ],
      "execution_count": null,
      "outputs": [
        {
          "output_type": "execute_result",
          "data": {
            "text/html": [
              "<div>\n",
              "<style scoped>\n",
              "    .dataframe tbody tr th:only-of-type {\n",
              "        vertical-align: middle;\n",
              "    }\n",
              "\n",
              "    .dataframe tbody tr th {\n",
              "        vertical-align: top;\n",
              "    }\n",
              "\n",
              "    .dataframe thead th {\n",
              "        text-align: right;\n",
              "    }\n",
              "</style>\n",
              "<table border=\"1\" class=\"dataframe\">\n",
              "  <thead>\n",
              "    <tr style=\"text-align: right;\">\n",
              "      <th>gender</th>\n",
              "      <th>F</th>\n",
              "      <th>M</th>\n",
              "    </tr>\n",
              "    <tr>\n",
              "      <th>year</th>\n",
              "      <th></th>\n",
              "      <th></th>\n",
              "    </tr>\n",
              "  </thead>\n",
              "  <tbody>\n",
              "    <tr>\n",
              "      <th>1969</th>\n",
              "      <td>1753634</td>\n",
              "      <td>1846572</td>\n",
              "    </tr>\n",
              "    <tr>\n",
              "      <th>1970</th>\n",
              "      <td>1819164</td>\n",
              "      <td>1918636</td>\n",
              "    </tr>\n",
              "    <tr>\n",
              "      <th>1971</th>\n",
              "      <td>1736774</td>\n",
              "      <td>1826774</td>\n",
              "    </tr>\n",
              "    <tr>\n",
              "      <th>1972</th>\n",
              "      <td>1592347</td>\n",
              "      <td>1673888</td>\n",
              "    </tr>\n",
              "    <tr>\n",
              "      <th>1973</th>\n",
              "      <td>1533102</td>\n",
              "      <td>1613023</td>\n",
              "    </tr>\n",
              "    <tr>\n",
              "      <th>1974</th>\n",
              "      <td>1543005</td>\n",
              "      <td>1627626</td>\n",
              "    </tr>\n",
              "    <tr>\n",
              "      <th>1975</th>\n",
              "      <td>1535546</td>\n",
              "      <td>1618010</td>\n",
              "    </tr>\n",
              "    <tr>\n",
              "      <th>1976</th>\n",
              "      <td>1547613</td>\n",
              "      <td>1628863</td>\n",
              "    </tr>\n",
              "    <tr>\n",
              "      <th>1977</th>\n",
              "      <td>1623363</td>\n",
              "      <td>1708796</td>\n",
              "    </tr>\n",
              "    <tr>\n",
              "      <th>1978</th>\n",
              "      <td>1626324</td>\n",
              "      <td>1711976</td>\n",
              "    </tr>\n",
              "    <tr>\n",
              "      <th>1979</th>\n",
              "      <td>1705837</td>\n",
              "      <td>1793958</td>\n",
              "    </tr>\n",
              "    <tr>\n",
              "      <th>1980</th>\n",
              "      <td>1762459</td>\n",
              "      <td>1855522</td>\n",
              "    </tr>\n",
              "    <tr>\n",
              "      <th>1981</th>\n",
              "      <td>1772037</td>\n",
              "      <td>1863478</td>\n",
              "    </tr>\n",
              "    <tr>\n",
              "      <th>1982</th>\n",
              "      <td>1797239</td>\n",
              "      <td>1888218</td>\n",
              "    </tr>\n",
              "    <tr>\n",
              "      <th>1983</th>\n",
              "      <td>1775299</td>\n",
              "      <td>1867522</td>\n",
              "    </tr>\n",
              "    <tr>\n",
              "      <th>1984</th>\n",
              "      <td>1791802</td>\n",
              "      <td>1881766</td>\n",
              "    </tr>\n",
              "    <tr>\n",
              "      <th>1985</th>\n",
              "      <td>1834774</td>\n",
              "      <td>1930290</td>\n",
              "    </tr>\n",
              "    <tr>\n",
              "      <th>1986</th>\n",
              "      <td>1833708</td>\n",
              "      <td>1926987</td>\n",
              "    </tr>\n",
              "    <tr>\n",
              "      <th>1987</th>\n",
              "      <td>1860111</td>\n",
              "      <td>1953105</td>\n",
              "    </tr>\n",
              "    <tr>\n",
              "      <th>1988</th>\n",
              "      <td>1909210</td>\n",
              "      <td>2004583</td>\n",
              "    </tr>\n",
              "    <tr>\n",
              "      <th>1989</th>\n",
              "      <td>1973712</td>\n",
              "      <td>2071981</td>\n",
              "    </tr>\n",
              "    <tr>\n",
              "      <th>1990</th>\n",
              "      <td>2030966</td>\n",
              "      <td>2131951</td>\n",
              "    </tr>\n",
              "    <tr>\n",
              "      <th>1991</th>\n",
              "      <td>2011601</td>\n",
              "      <td>2103741</td>\n",
              "    </tr>\n",
              "    <tr>\n",
              "      <th>1992</th>\n",
              "      <td>1985118</td>\n",
              "      <td>2084310</td>\n",
              "    </tr>\n",
              "    <tr>\n",
              "      <th>1993</th>\n",
              "      <td>1953456</td>\n",
              "      <td>2051067</td>\n",
              "    </tr>\n",
              "    <tr>\n",
              "      <th>1994</th>\n",
              "      <td>1932234</td>\n",
              "      <td>2024691</td>\n",
              "    </tr>\n",
              "    <tr>\n",
              "      <th>1995</th>\n",
              "      <td>1904871</td>\n",
              "      <td>1998141</td>\n",
              "    </tr>\n",
              "    <tr>\n",
              "      <th>1996</th>\n",
              "      <td>1902664</td>\n",
              "      <td>1992210</td>\n",
              "    </tr>\n",
              "    <tr>\n",
              "      <th>1997</th>\n",
              "      <td>1896928</td>\n",
              "      <td>1987401</td>\n",
              "    </tr>\n",
              "    <tr>\n",
              "      <th>1998</th>\n",
              "      <td>1927106</td>\n",
              "      <td>2018086</td>\n",
              "    </tr>\n",
              "    <tr>\n",
              "      <th>1999</th>\n",
              "      <td>1934510</td>\n",
              "      <td>2028955</td>\n",
              "    </tr>\n",
              "    <tr>\n",
              "      <th>2000</th>\n",
              "      <td>1984255</td>\n",
              "      <td>2079568</td>\n",
              "    </tr>\n",
              "    <tr>\n",
              "      <th>2001</th>\n",
              "      <td>1970770</td>\n",
              "      <td>2060761</td>\n",
              "    </tr>\n",
              "    <tr>\n",
              "      <th>2002</th>\n",
              "      <td>1966519</td>\n",
              "      <td>2060857</td>\n",
              "    </tr>\n",
              "    <tr>\n",
              "      <th>2003</th>\n",
              "      <td>1999387</td>\n",
              "      <td>2096705</td>\n",
              "    </tr>\n",
              "    <tr>\n",
              "      <th>2004</th>\n",
              "      <td>2010710</td>\n",
              "      <td>2108197</td>\n",
              "    </tr>\n",
              "    <tr>\n",
              "      <th>2005</th>\n",
              "      <td>2022892</td>\n",
              "      <td>2122727</td>\n",
              "    </tr>\n",
              "    <tr>\n",
              "      <th>2006</th>\n",
              "      <td>2084957</td>\n",
              "      <td>2188268</td>\n",
              "    </tr>\n",
              "    <tr>\n",
              "      <th>2007</th>\n",
              "      <td>2111890</td>\n",
              "      <td>2212118</td>\n",
              "    </tr>\n",
              "    <tr>\n",
              "      <th>2008</th>\n",
              "      <td>2077929</td>\n",
              "      <td>2177227</td>\n",
              "    </tr>\n",
              "  </tbody>\n",
              "</table>\n",
              "</div>"
            ],
            "text/plain": [
              "gender        F        M\n",
              "year                    \n",
              "1969    1753634  1846572\n",
              "1970    1819164  1918636\n",
              "1971    1736774  1826774\n",
              "1972    1592347  1673888\n",
              "1973    1533102  1613023\n",
              "1974    1543005  1627626\n",
              "1975    1535546  1618010\n",
              "1976    1547613  1628863\n",
              "1977    1623363  1708796\n",
              "1978    1626324  1711976\n",
              "1979    1705837  1793958\n",
              "1980    1762459  1855522\n",
              "1981    1772037  1863478\n",
              "1982    1797239  1888218\n",
              "1983    1775299  1867522\n",
              "1984    1791802  1881766\n",
              "1985    1834774  1930290\n",
              "1986    1833708  1926987\n",
              "1987    1860111  1953105\n",
              "1988    1909210  2004583\n",
              "1989    1973712  2071981\n",
              "1990    2030966  2131951\n",
              "1991    2011601  2103741\n",
              "1992    1985118  2084310\n",
              "1993    1953456  2051067\n",
              "1994    1932234  2024691\n",
              "1995    1904871  1998141\n",
              "1996    1902664  1992210\n",
              "1997    1896928  1987401\n",
              "1998    1927106  2018086\n",
              "1999    1934510  2028955\n",
              "2000    1984255  2079568\n",
              "2001    1970770  2060761\n",
              "2002    1966519  2060857\n",
              "2003    1999387  2096705\n",
              "2004    2010710  2108197\n",
              "2005    2022892  2122727\n",
              "2006    2084957  2188268\n",
              "2007    2111890  2212118\n",
              "2008    2077929  2177227"
            ]
          },
          "metadata": {
            "tags": []
          },
          "execution_count": 25
        }
      ]
    },
    {
      "cell_type": "markdown",
      "metadata": {
        "id": "x4xyd2NWdP0L",
        "colab_type": "text"
      },
      "source": [
        "# Vectorized String Operations\n",
        "\n",
        "Pandas provides a set of *vectorized string operations* for munging required when working with real-world text data. \n",
        "\n",
        "For more details, refer to ['Working with text data'](https://pandas.pydata.org/pandas-docs/stable/user_guide/text.html)."
      ]
    },
    {
      "cell_type": "markdown",
      "metadata": {
        "id": "g9ZV5xtUdP0M",
        "colab_type": "text"
      },
      "source": [
        "## Introducing Pandas String Operations"
      ]
    },
    {
      "cell_type": "markdown",
      "metadata": {
        "id": "j3XhY0LJdP0M",
        "colab_type": "text"
      },
      "source": [
        "Revising *vectorization* of operations"
      ]
    },
    {
      "cell_type": "code",
      "metadata": {
        "id": "3i_73oJsdP0M",
        "colab_type": "code",
        "colab": {},
        "outputId": "3b061d3e-44b5-488f-ccb8-9f1cd8225647"
      },
      "source": [
        "import numpy as np\n",
        "x = np.array([2, 3, 5, 7, 11, 13])\n",
        "x * 2"
      ],
      "execution_count": null,
      "outputs": [
        {
          "output_type": "execute_result",
          "data": {
            "text/plain": [
              "array([ 4,  6, 10, 14, 22, 26])"
            ]
          },
          "metadata": {
            "tags": []
          },
          "execution_count": 26
        }
      ]
    },
    {
      "cell_type": "markdown",
      "metadata": {
        "id": "UAlUbuMudP0O",
        "colab_type": "text"
      },
      "source": [
        "Such operation does not exist for the string type."
      ]
    },
    {
      "cell_type": "code",
      "metadata": {
        "id": "x2BGGBR3dP0O",
        "colab_type": "code",
        "colab": {},
        "outputId": "b783334d-cae5-4322-e29f-02c96481662e"
      },
      "source": [
        "data = ['peter', 'Paul', 'MARY', 'gUIDO']\n",
        "[s.capitalize() for s in data]"
      ],
      "execution_count": null,
      "outputs": [
        {
          "output_type": "execute_result",
          "data": {
            "text/plain": [
              "['Peter', 'Paul', 'Mary', 'Guido']"
            ]
          },
          "metadata": {
            "tags": []
          },
          "execution_count": 27
        }
      ]
    },
    {
      "cell_type": "code",
      "metadata": {
        "id": "jT1f8BcidP0Q",
        "colab_type": "code",
        "colab": {},
        "outputId": "84fce092-38de-4559-bf2a-8d894e2cdb9b"
      },
      "source": [
        "try:\n",
        "    data = ['peter', 'Paul', None, 'MARY', 'gUIDO']\n",
        "    [s.capitalize() for s in data]\n",
        "except AttributeError as e:\n",
        "    print(e)"
      ],
      "execution_count": null,
      "outputs": [
        {
          "output_type": "stream",
          "text": [
            "'NoneType' object has no attribute 'capitalize'\n"
          ],
          "name": "stdout"
        }
      ]
    },
    {
      "cell_type": "markdown",
      "metadata": {
        "id": "8h8FGD3FdP0S",
        "colab_type": "text"
      },
      "source": [
        "Pandas provides a capability to vectorize string operations and for handling missing data via the `str` attribute of Pandas Series and Index objects containing strings. "
      ]
    },
    {
      "cell_type": "code",
      "metadata": {
        "id": "LdhYAoqedP0S",
        "colab_type": "code",
        "colab": {},
        "outputId": "0bddf1f6-68cf-432c-c648-0afa5996990a"
      },
      "source": [
        "import pandas as pd\n",
        "names = pd.Series(data)\n",
        "names"
      ],
      "execution_count": null,
      "outputs": [
        {
          "output_type": "execute_result",
          "data": {
            "text/plain": [
              "0    peter\n",
              "1     Paul\n",
              "2     None\n",
              "3     MARY\n",
              "4    gUIDO\n",
              "dtype: object"
            ]
          },
          "metadata": {
            "tags": []
          },
          "execution_count": 29
        }
      ]
    },
    {
      "cell_type": "markdown",
      "metadata": {
        "id": "uEsWFJEvdP0U",
        "colab_type": "text"
      },
      "source": [
        "**Notice that the missing value is skipped over.**"
      ]
    },
    {
      "cell_type": "code",
      "metadata": {
        "id": "8j_xWsCCdP0U",
        "colab_type": "code",
        "colab": {},
        "outputId": "a4f2d1b0-38d6-4fc5-cd45-922c60c49b8d"
      },
      "source": [
        "names.str.capitalize()"
      ],
      "execution_count": null,
      "outputs": [
        {
          "output_type": "execute_result",
          "data": {
            "text/plain": [
              "0    Peter\n",
              "1     Paul\n",
              "2     None\n",
              "3     Mary\n",
              "4    Guido\n",
              "dtype: object"
            ]
          },
          "metadata": {
            "tags": []
          },
          "execution_count": 30
        }
      ]
    },
    {
      "cell_type": "markdown",
      "metadata": {
        "id": "q5pJF7EgdP0W",
        "colab_type": "text"
      },
      "source": [
        "## Tables of Pandas String Methods\n"
      ]
    },
    {
      "cell_type": "code",
      "metadata": {
        "id": "o_gQJ0u_dP0W",
        "colab_type": "code",
        "colab": {}
      },
      "source": [
        "monte = pd.Series(['Graham Chapman', 'John Cleese', 'Terry Gilliam',\n",
        "                   'Eric Idle', 'Terry Jones', 'Michael Palin'])"
      ],
      "execution_count": null,
      "outputs": []
    },
    {
      "cell_type": "markdown",
      "metadata": {
        "id": "1GgA1pWZdP0Y",
        "colab_type": "text"
      },
      "source": [
        "### Methods similar to Python string methods\n",
        "\n",
        "List of Pandas ``str`` vectorized string method:  \n",
        "\n",
        "|             |                  |                  |                  |\n",
        "|-------------|------------------|------------------|------------------|\n",
        "|``len()``    | ``lower()``      | ``translate()``  | ``islower()``    | \n",
        "|``ljust()``  | ``upper()``      | ``startswith()`` | ``isupper()``    | \n",
        "|``rjust()``  | ``find()``       | ``endswith()``   | ``isnumeric()``  | \n",
        "|``center()`` | ``rfind()``      | ``isalnum()``    | ``isdecimal()``  | \n",
        "|``zfill()``  | ``index()``      | ``isalpha()``    | ``split()``      | \n",
        "|``strip()``  | ``rindex()``     | ``isdigit()``    | ``rsplit()``     | \n",
        "|``rstrip()`` | ``capitalize()`` | ``isspace()``    | ``partition()``  | \n",
        "|``lstrip()`` |  ``swapcase()``  |  ``istitle()``   | ``rpartition()`` |\n"
      ]
    },
    {
      "cell_type": "code",
      "metadata": {
        "id": "EBRfCdEQdP0Z",
        "colab_type": "code",
        "colab": {},
        "outputId": "b594d428-30ce-4545-a5bc-c48044dc476e"
      },
      "source": [
        "monte.str.lower()"
      ],
      "execution_count": null,
      "outputs": [
        {
          "output_type": "execute_result",
          "data": {
            "text/plain": [
              "0    graham chapman\n",
              "1       john cleese\n",
              "2     terry gilliam\n",
              "3         eric idle\n",
              "4       terry jones\n",
              "5     michael palin\n",
              "dtype: object"
            ]
          },
          "metadata": {
            "tags": []
          },
          "execution_count": 32
        }
      ]
    },
    {
      "cell_type": "code",
      "metadata": {
        "id": "UJL2XBYddP0a",
        "colab_type": "code",
        "colab": {},
        "outputId": "e6f6bffd-16fb-439b-fcf0-eeaec7bdb4ff"
      },
      "source": [
        "monte.str.len()"
      ],
      "execution_count": null,
      "outputs": [
        {
          "output_type": "execute_result",
          "data": {
            "text/plain": [
              "0    14\n",
              "1    11\n",
              "2    13\n",
              "3     9\n",
              "4    11\n",
              "5    13\n",
              "dtype: int64"
            ]
          },
          "metadata": {
            "tags": []
          },
          "execution_count": 33
        }
      ]
    },
    {
      "cell_type": "code",
      "metadata": {
        "id": "6J41w_s1dP0c",
        "colab_type": "code",
        "colab": {},
        "outputId": "eeafb2b3-08b1-488c-e32a-793e6faffc5d"
      },
      "source": [
        "monte.str.startswith('T')"
      ],
      "execution_count": null,
      "outputs": [
        {
          "output_type": "execute_result",
          "data": {
            "text/plain": [
              "0    False\n",
              "1    False\n",
              "2     True\n",
              "3    False\n",
              "4     True\n",
              "5    False\n",
              "dtype: bool"
            ]
          },
          "metadata": {
            "tags": []
          },
          "execution_count": 34
        }
      ]
    },
    {
      "cell_type": "code",
      "metadata": {
        "id": "Z6dExjAxdP0e",
        "colab_type": "code",
        "colab": {},
        "outputId": "2b7e43f8-3634-4522-a198-6270d2185a1b"
      },
      "source": [
        "monte.str.split()"
      ],
      "execution_count": null,
      "outputs": [
        {
          "output_type": "execute_result",
          "data": {
            "text/plain": [
              "0    [Graham, Chapman]\n",
              "1       [John, Cleese]\n",
              "2     [Terry, Gilliam]\n",
              "3         [Eric, Idle]\n",
              "4       [Terry, Jones]\n",
              "5     [Michael, Palin]\n",
              "dtype: object"
            ]
          },
          "metadata": {
            "tags": []
          },
          "execution_count": 35
        }
      ]
    },
    {
      "cell_type": "markdown",
      "metadata": {
        "id": "G9NGDpvndP0h",
        "colab_type": "text"
      },
      "source": [
        "### Methods using regular expressions\n",
        "\n",
        "Methods that accept regular expressions and follow the API conventions of Python's built-in `re` module:  \n",
        "\n",
        "| Method | Description |\n",
        "|--------|-------------|\n",
        "| ``match()`` | Call ``re.match()`` on each element, returning a boolean. |\n",
        "| ``extract()`` | Call ``re.match()`` on each element, returning matched groups as strings.|\n",
        "| ``findall()`` | Call ``re.findall()`` on each element |\n",
        "| ``replace()`` | Replace occurrences of pattern with some other string|\n",
        "| ``contains()`` | Call ``re.search()`` on each element, returning a boolean |\n",
        "| ``count()`` | Count occurrences of pattern|\n",
        "| ``split()``   | Equivalent to ``str.split()``, but accepts regexps |\n",
        "| ``rsplit()`` | Equivalent to ``str.rsplit()``, but accepts regexps |\n"
      ]
    },
    {
      "cell_type": "markdown",
      "metadata": {
        "id": "OYKWUnJydP0h",
        "colab_type": "text"
      },
      "source": [
        "For a reference on regular expression, checkout this [website](https://www.regular-expressions.info/reference.html). \n",
        "\n",
        "Extracting the first name from each string. "
      ]
    },
    {
      "cell_type": "code",
      "metadata": {
        "id": "H2oImQuldP0i",
        "colab_type": "code",
        "colab": {},
        "outputId": "9def491e-ed3a-4e6b-afe4-bcdf234a1817"
      },
      "source": [
        "monte.str.extract('([A-Za-z]+)', expand=False)"
      ],
      "execution_count": null,
      "outputs": [
        {
          "output_type": "execute_result",
          "data": {
            "text/plain": [
              "0     Graham\n",
              "1       John\n",
              "2      Terry\n",
              "3       Eric\n",
              "4      Terry\n",
              "5    Michael\n",
              "dtype: object"
            ]
          },
          "metadata": {
            "tags": []
          },
          "execution_count": 36
        }
      ]
    },
    {
      "cell_type": "markdown",
      "metadata": {
        "id": "MbM1ysRPdP0k",
        "colab_type": "text"
      },
      "source": [
        "Finding all names that start and end with a consonant.  \n",
        "\n",
        "Note: `^` marks the start of the string, and `$` marks the end of the string. "
      ]
    },
    {
      "cell_type": "code",
      "metadata": {
        "id": "_WCkflktdP0m",
        "colab_type": "code",
        "colab": {},
        "outputId": "f91b7c25-4a67-4db7-f24e-52709af8f926"
      },
      "source": [
        "monte.str.findall(r'^[^AEIOU].*[^aeiou]$')"
      ],
      "execution_count": null,
      "outputs": [
        {
          "output_type": "execute_result",
          "data": {
            "text/plain": [
              "0    [Graham Chapman]\n",
              "1                  []\n",
              "2     [Terry Gilliam]\n",
              "3                  []\n",
              "4       [Terry Jones]\n",
              "5     [Michael Palin]\n",
              "dtype: object"
            ]
          },
          "metadata": {
            "tags": []
          },
          "execution_count": 37
        }
      ]
    },
    {
      "cell_type": "markdown",
      "metadata": {
        "id": "lMy8Gzt-dP0p",
        "colab_type": "text"
      },
      "source": [
        "### Miscellaneous methods\n",
        "\n",
        "| Method | Description |\n",
        "|--------|-------------|\n",
        "| ``get()`` | Index each element |\n",
        "| ``slice()`` | Slice each element|\n",
        "| ``slice_replace()`` | Replace slice in each element with passed value|\n",
        "| ``cat()``      | Concatenate strings|\n",
        "| ``repeat()`` | Repeat values |\n",
        "| ``normalize()`` | Return Unicode form of string |\n",
        "| ``pad()`` | Add whitespace to left, right, or both sides of strings|\n",
        "| ``wrap()`` | Split long strings into lines with length less than a given width|\n",
        "| ``join()`` | Join strings in each element of the Series with passed separator|\n",
        "| ``get_dummies()`` | extract dummy variables as a dataframe |\n"
      ]
    },
    {
      "cell_type": "code",
      "metadata": {
        "id": "PeD_icnTdP0p",
        "colab_type": "code",
        "colab": {},
        "outputId": "726a9049-2583-42f1-878e-70574db86aa7"
      },
      "source": [
        "monte.str.slice(0, 3)"
      ],
      "execution_count": null,
      "outputs": [
        {
          "output_type": "execute_result",
          "data": {
            "text/plain": [
              "0    Gra\n",
              "1    Joh\n",
              "2    Ter\n",
              "3    Eri\n",
              "4    Ter\n",
              "5    Mic\n",
              "dtype: object"
            ]
          },
          "metadata": {
            "tags": []
          },
          "execution_count": 38
        }
      ]
    },
    {
      "cell_type": "code",
      "metadata": {
        "id": "TBCMRNQwdP0r",
        "colab_type": "code",
        "colab": {},
        "outputId": "4ec1ef46-b31a-48d2-9de7-717916686051"
      },
      "source": [
        "monte.str[0:3]"
      ],
      "execution_count": null,
      "outputs": [
        {
          "output_type": "execute_result",
          "data": {
            "text/plain": [
              "0    Gra\n",
              "1    Joh\n",
              "2    Ter\n",
              "3    Eri\n",
              "4    Ter\n",
              "5    Mic\n",
              "dtype: object"
            ]
          },
          "metadata": {
            "tags": []
          },
          "execution_count": 39
        }
      ]
    },
    {
      "cell_type": "code",
      "metadata": {
        "id": "Pd05eT0YdP0u",
        "colab_type": "code",
        "colab": {},
        "outputId": "ca2ae1d5-7215-4182-b4c6-f0f6e072b3cf"
      },
      "source": [
        "monte.str.get(1)"
      ],
      "execution_count": null,
      "outputs": [
        {
          "output_type": "execute_result",
          "data": {
            "text/plain": [
              "0    r\n",
              "1    o\n",
              "2    e\n",
              "3    r\n",
              "4    e\n",
              "5    i\n",
              "dtype: object"
            ]
          },
          "metadata": {
            "tags": []
          },
          "execution_count": 40
        }
      ]
    },
    {
      "cell_type": "code",
      "metadata": {
        "id": "2YJZSBbedP0w",
        "colab_type": "code",
        "colab": {},
        "outputId": "83b48e50-e860-43ce-b670-2e518b9deb74"
      },
      "source": [
        "monte.str[1]"
      ],
      "execution_count": null,
      "outputs": [
        {
          "output_type": "execute_result",
          "data": {
            "text/plain": [
              "0    r\n",
              "1    o\n",
              "2    e\n",
              "3    r\n",
              "4    e\n",
              "5    i\n",
              "dtype: object"
            ]
          },
          "metadata": {
            "tags": []
          },
          "execution_count": 41
        }
      ]
    },
    {
      "cell_type": "code",
      "metadata": {
        "id": "2TqLN94jdP0z",
        "colab_type": "code",
        "colab": {},
        "outputId": "505bc316-ca6d-420b-a2c5-f28469dd8604"
      },
      "source": [
        "monte.str.split().str.get(-1)"
      ],
      "execution_count": null,
      "outputs": [
        {
          "output_type": "execute_result",
          "data": {
            "text/plain": [
              "0    Chapman\n",
              "1     Cleese\n",
              "2    Gilliam\n",
              "3       Idle\n",
              "4      Jones\n",
              "5      Palin\n",
              "dtype: object"
            ]
          },
          "metadata": {
            "tags": []
          },
          "execution_count": 42
        }
      ]
    },
    {
      "cell_type": "markdown",
      "metadata": {
        "id": "pQr1-8PndP00",
        "colab_type": "text"
      },
      "source": [
        "#### Indicator variables\n",
        "\n",
        "`get_dummies()` method - useful when the data has a column containing coded indicator. e.g. dataset that contains information in the form of codes:\n",
        "- A=\"born in America,\" B=\"born in the United Kingdom,\" C=\"likes cheese,\" D=\"likes spam\":"
      ]
    },
    {
      "cell_type": "code",
      "metadata": {
        "id": "uUZLu67wdP00",
        "colab_type": "code",
        "colab": {},
        "outputId": "414ed82a-8715-48f5-fd81-3445fa7bc1a2"
      },
      "source": [
        "full_monte = pd.DataFrame({'name': monte,\n",
        "                           'info': ['B|C|D', 'B|D', 'A|C',\n",
        "                                    'B|D', 'B|C', 'B|C|D']})\n",
        "full_monte"
      ],
      "execution_count": null,
      "outputs": [
        {
          "output_type": "execute_result",
          "data": {
            "text/html": [
              "<div>\n",
              "<style scoped>\n",
              "    .dataframe tbody tr th:only-of-type {\n",
              "        vertical-align: middle;\n",
              "    }\n",
              "\n",
              "    .dataframe tbody tr th {\n",
              "        vertical-align: top;\n",
              "    }\n",
              "\n",
              "    .dataframe thead th {\n",
              "        text-align: right;\n",
              "    }\n",
              "</style>\n",
              "<table border=\"1\" class=\"dataframe\">\n",
              "  <thead>\n",
              "    <tr style=\"text-align: right;\">\n",
              "      <th></th>\n",
              "      <th>name</th>\n",
              "      <th>info</th>\n",
              "    </tr>\n",
              "  </thead>\n",
              "  <tbody>\n",
              "    <tr>\n",
              "      <th>0</th>\n",
              "      <td>Graham Chapman</td>\n",
              "      <td>B|C|D</td>\n",
              "    </tr>\n",
              "    <tr>\n",
              "      <th>1</th>\n",
              "      <td>John Cleese</td>\n",
              "      <td>B|D</td>\n",
              "    </tr>\n",
              "    <tr>\n",
              "      <th>2</th>\n",
              "      <td>Terry Gilliam</td>\n",
              "      <td>A|C</td>\n",
              "    </tr>\n",
              "    <tr>\n",
              "      <th>3</th>\n",
              "      <td>Eric Idle</td>\n",
              "      <td>B|D</td>\n",
              "    </tr>\n",
              "    <tr>\n",
              "      <th>4</th>\n",
              "      <td>Terry Jones</td>\n",
              "      <td>B|C</td>\n",
              "    </tr>\n",
              "    <tr>\n",
              "      <th>5</th>\n",
              "      <td>Michael Palin</td>\n",
              "      <td>B|C|D</td>\n",
              "    </tr>\n",
              "  </tbody>\n",
              "</table>\n",
              "</div>"
            ],
            "text/plain": [
              "             name   info\n",
              "0  Graham Chapman  B|C|D\n",
              "1     John Cleese    B|D\n",
              "2   Terry Gilliam    A|C\n",
              "3       Eric Idle    B|D\n",
              "4     Terry Jones    B|C\n",
              "5   Michael Palin  B|C|D"
            ]
          },
          "metadata": {
            "tags": []
          },
          "execution_count": 43
        }
      ]
    },
    {
      "cell_type": "markdown",
      "metadata": {
        "id": "HljLTu9NdP03",
        "colab_type": "text"
      },
      "source": [
        "The `get_dummies()` method splits the indicator variables into a DataFrame"
      ]
    },
    {
      "cell_type": "code",
      "metadata": {
        "id": "C20IEzYfdP03",
        "colab_type": "code",
        "colab": {},
        "outputId": "fb86e45d-83cd-46e9-fbe4-25e238760aad"
      },
      "source": [
        "full_monte['info'].str.get_dummies('|')"
      ],
      "execution_count": null,
      "outputs": [
        {
          "output_type": "execute_result",
          "data": {
            "text/html": [
              "<div>\n",
              "<style scoped>\n",
              "    .dataframe tbody tr th:only-of-type {\n",
              "        vertical-align: middle;\n",
              "    }\n",
              "\n",
              "    .dataframe tbody tr th {\n",
              "        vertical-align: top;\n",
              "    }\n",
              "\n",
              "    .dataframe thead th {\n",
              "        text-align: right;\n",
              "    }\n",
              "</style>\n",
              "<table border=\"1\" class=\"dataframe\">\n",
              "  <thead>\n",
              "    <tr style=\"text-align: right;\">\n",
              "      <th></th>\n",
              "      <th>A</th>\n",
              "      <th>B</th>\n",
              "      <th>C</th>\n",
              "      <th>D</th>\n",
              "    </tr>\n",
              "  </thead>\n",
              "  <tbody>\n",
              "    <tr>\n",
              "      <th>0</th>\n",
              "      <td>0</td>\n",
              "      <td>1</td>\n",
              "      <td>1</td>\n",
              "      <td>1</td>\n",
              "    </tr>\n",
              "    <tr>\n",
              "      <th>1</th>\n",
              "      <td>0</td>\n",
              "      <td>1</td>\n",
              "      <td>0</td>\n",
              "      <td>1</td>\n",
              "    </tr>\n",
              "    <tr>\n",
              "      <th>2</th>\n",
              "      <td>1</td>\n",
              "      <td>0</td>\n",
              "      <td>1</td>\n",
              "      <td>0</td>\n",
              "    </tr>\n",
              "    <tr>\n",
              "      <th>3</th>\n",
              "      <td>0</td>\n",
              "      <td>1</td>\n",
              "      <td>0</td>\n",
              "      <td>1</td>\n",
              "    </tr>\n",
              "    <tr>\n",
              "      <th>4</th>\n",
              "      <td>0</td>\n",
              "      <td>1</td>\n",
              "      <td>1</td>\n",
              "      <td>0</td>\n",
              "    </tr>\n",
              "    <tr>\n",
              "      <th>5</th>\n",
              "      <td>0</td>\n",
              "      <td>1</td>\n",
              "      <td>1</td>\n",
              "      <td>1</td>\n",
              "    </tr>\n",
              "  </tbody>\n",
              "</table>\n",
              "</div>"
            ],
            "text/plain": [
              "   A  B  C  D\n",
              "0  0  1  1  1\n",
              "1  0  1  0  1\n",
              "2  1  0  1  0\n",
              "3  0  1  0  1\n",
              "4  0  1  1  0\n",
              "5  0  1  1  1"
            ]
          },
          "metadata": {
            "tags": []
          },
          "execution_count": 44
        }
      ]
    },
    {
      "cell_type": "markdown",
      "metadata": {
        "id": "dBvqahnfdP06",
        "colab_type": "text"
      },
      "source": [
        "# Working with Time Series\n",
        "\n",
        "Pandas provides a extensive tools for working with [time series data](https://en.wikipedia.org/wiki/Time_series).\n",
        "\n",
        ">A time series is a series of data points indexed (or listed or graphed) in time order. Most commonly, a time series is a sequence taken at successive equally spaced points in time. Thus it is a sequence of discrete-time data. Examples of time series are heights of ocean tides, counts of sunspots, and the daily closing value of the Dow Jones Industrial Average. \n",
        "\n",
        "Terms:\n",
        "- *Time stapms* particular moment in time\n",
        "- *Time intervals* (*periods*) length of a time between a particular beginning and end point\n",
        "- *Time deltas (*durations*) an exact length of time"
      ]
    },
    {
      "cell_type": "markdown",
      "metadata": {
        "id": "KK72FAVndP06",
        "colab_type": "text"
      },
      "source": [
        "## Datas and Times in Python\n",
        "### Native Python dates and times\n",
        "\n",
        "`datetime` ([built-in](https://docs.python.org/3/library/datetime.html)) and `dateutil` ([third-party](http://labix.org/python-dateutil))"
      ]
    },
    {
      "cell_type": "code",
      "metadata": {
        "id": "uX622uRFdP06",
        "colab_type": "code",
        "colab": {},
        "outputId": "b0dbbc27-fb64-4b8d-ad77-50304698125d"
      },
      "source": [
        "from datetime import datetime\n",
        "datetime(year=2015, month=7, day=4)"
      ],
      "execution_count": null,
      "outputs": [
        {
          "output_type": "execute_result",
          "data": {
            "text/plain": [
              "datetime.datetime(2015, 7, 4, 0, 0)"
            ]
          },
          "metadata": {
            "tags": []
          },
          "execution_count": 45
        }
      ]
    },
    {
      "cell_type": "markdown",
      "metadata": {
        "id": "4yXOdAXxdP09",
        "colab_type": "text"
      },
      "source": [
        "Using `dateutil` module, dates can be parsed using a variety of string formats."
      ]
    },
    {
      "cell_type": "code",
      "metadata": {
        "id": "Gr17UvM5dP09",
        "colab_type": "code",
        "colab": {},
        "outputId": "e86276e4-9e8a-43ff-fc1b-08108f49b5be"
      },
      "source": [
        "from dateutil import parser\n",
        "date = parser.parse(\"4th of July, 2015\")\n",
        "date"
      ],
      "execution_count": null,
      "outputs": [
        {
          "output_type": "execute_result",
          "data": {
            "text/plain": [
              "datetime.datetime(2015, 7, 4, 0, 0)"
            ]
          },
          "metadata": {
            "tags": []
          },
          "execution_count": 46
        }
      ]
    },
    {
      "cell_type": "markdown",
      "metadata": {
        "id": "yQrvOrJPdP0_",
        "colab_type": "text"
      },
      "source": [
        "Using format codes to get different parts of the date. "
      ]
    },
    {
      "cell_type": "code",
      "metadata": {
        "id": "2Pw1DTgQdP1A",
        "colab_type": "code",
        "colab": {},
        "outputId": "0cdcee2c-3b57-432b-a743-1d43b9296ea9"
      },
      "source": [
        "date.strftime('%A')"
      ],
      "execution_count": null,
      "outputs": [
        {
          "output_type": "execute_result",
          "data": {
            "text/plain": [
              "'Saturday'"
            ]
          },
          "metadata": {
            "tags": []
          },
          "execution_count": 47
        }
      ]
    },
    {
      "cell_type": "markdown",
      "metadata": {
        "id": "1QJpF0PRdP1D",
        "colab_type": "text"
      },
      "source": [
        "For a complete list of format codes, refer [here](https://docs.python.org/3/library/datetime.html#strftime-and-strptime-behavior).\n",
        "\n",
        "`datetime` and `dateutil`\n",
        "- Pros: flexibility and easy syntax\n",
        "- Cons: performance on a large arrays of dates and times.  "
      ]
    },
    {
      "cell_type": "markdown",
      "metadata": {
        "id": "di2YyHqxdP1D",
        "colab_type": "text"
      },
      "source": [
        "### Typed arrays of times: NumPy's `datetime64`\n",
        "`datatime64` dtype encodes dates as 64-bit integers\n",
        "- Allows for the arrays of dates to be represented compactly.\n",
        "- Requires a very specific input format"
      ]
    },
    {
      "cell_type": "code",
      "metadata": {
        "id": "jfIfZ025dP1D",
        "colab_type": "code",
        "colab": {},
        "outputId": "b2355223-f250-40df-d9b1-e9dcac47a9ec"
      },
      "source": [
        "import numpy as np\n",
        "date = np.array('2015-07-04', dtype=np.datetime64)\n",
        "date"
      ],
      "execution_count": null,
      "outputs": [
        {
          "output_type": "execute_result",
          "data": {
            "text/plain": [
              "array('2015-07-04', dtype='datetime64[D]')"
            ]
          },
          "metadata": {
            "tags": []
          },
          "execution_count": 48
        }
      ]
    },
    {
      "cell_type": "markdown",
      "metadata": {
        "id": "FCJ3KTdGdP1F",
        "colab_type": "text"
      },
      "source": [
        "Applying vectorized operation.  \n",
        "- The uniform type of `datetime64` in NumPy allows for high performanance operations of the objects. "
      ]
    },
    {
      "cell_type": "code",
      "metadata": {
        "id": "bAbN62omdP1F",
        "colab_type": "code",
        "colab": {},
        "outputId": "32b6eaa0-5035-49a6-d98c-d8641fd4497c"
      },
      "source": [
        "date + np.arange(12)"
      ],
      "execution_count": null,
      "outputs": [
        {
          "output_type": "execute_result",
          "data": {
            "text/plain": [
              "array(['2015-07-04', '2015-07-05', '2015-07-06', '2015-07-07',\n",
              "       '2015-07-08', '2015-07-09', '2015-07-10', '2015-07-11',\n",
              "       '2015-07-12', '2015-07-13', '2015-07-14', '2015-07-15'],\n",
              "      dtype='datetime64[D]')"
            ]
          },
          "metadata": {
            "tags": []
          },
          "execution_count": 49
        }
      ]
    },
    {
      "cell_type": "markdown",
      "metadata": {
        "id": "xuYka4uBdP1G",
        "colab_type": "text"
      },
      "source": [
        "NumPy's `datetime64` and `timedelta64` are built on a *fundamental time unit*. \n",
        "- The objects are limited to 64-bit precision\n",
        "- The range of encodable times is 2<sup>64</sup> times the fundamental unit\n",
        "- NumPy will infer the desired unit from the input."
      ]
    },
    {
      "cell_type": "code",
      "metadata": {
        "id": "qwhA7P2XdP1H",
        "colab_type": "code",
        "colab": {},
        "outputId": "6799bb59-2f12-4d51-cd6a-d7b08a50058a"
      },
      "source": [
        "np.datetime64('2015-07-04') # day-based datetime"
      ],
      "execution_count": null,
      "outputs": [
        {
          "output_type": "execute_result",
          "data": {
            "text/plain": [
              "numpy.datetime64('2015-07-04')"
            ]
          },
          "metadata": {
            "tags": []
          },
          "execution_count": 50
        }
      ]
    },
    {
      "cell_type": "code",
      "metadata": {
        "id": "up8l50ZDdP1I",
        "colab_type": "code",
        "colab": {},
        "outputId": "cc4b1ccc-2e1a-4330-b087-02816ad61c75"
      },
      "source": [
        "np.datetime64('2015-07-04 12:00') # minute-based datetime"
      ],
      "execution_count": null,
      "outputs": [
        {
          "output_type": "execute_result",
          "data": {
            "text/plain": [
              "numpy.datetime64('2015-07-04T12:00')"
            ]
          },
          "metadata": {
            "tags": []
          },
          "execution_count": 51
        }
      ]
    },
    {
      "cell_type": "markdown",
      "metadata": {
        "id": "szDdjo-UdP1K",
        "colab_type": "text"
      },
      "source": [
        "Time zone is automatically set to the local time on the computer executing the code. "
      ]
    },
    {
      "cell_type": "code",
      "metadata": {
        "id": "jVgT3eZIdP1K",
        "colab_type": "code",
        "colab": {},
        "outputId": "1e313787-2150-4043-ae81-9e1395e3946a"
      },
      "source": [
        "np.datetime64('2015-07-04 12:59:59.50', 'ns') # nanosecond-based time"
      ],
      "execution_count": null,
      "outputs": [
        {
          "output_type": "execute_result",
          "data": {
            "text/plain": [
              "numpy.datetime64('2015-07-04T12:59:59.500000000')"
            ]
          },
          "metadata": {
            "tags": []
          },
          "execution_count": 52
        }
      ]
    },
    {
      "cell_type": "markdown",
      "metadata": {
        "id": "KmArL47vdP1N",
        "colab_type": "text"
      },
      "source": [
        "Available format codes and relative absolute timespans.\n",
        "\n",
        "|Code    | Meaning     | Time span (relative) | Time span (absolute)   |\n",
        "|--------|-------------|----------------------|------------------------|\n",
        "| ``Y``  | Year\t       | ± 9.2e18 years       | [9.2e18 BC, 9.2e18 AD] |\n",
        "| ``M``  | Month       | ± 7.6e17 years       | [7.6e17 BC, 7.6e17 AD] |\n",
        "| ``W``  | Week\t       | ± 1.7e17 years       | [1.7e17 BC, 1.7e17 AD] |\n",
        "| ``D``  | Day         | ± 2.5e16 years       | [2.5e16 BC, 2.5e16 AD] |\n",
        "| ``h``  | Hour        | ± 1.0e15 years       | [1.0e15 BC, 1.0e15 AD] |\n",
        "| ``m``  | Minute      | ± 1.7e13 years       | [1.7e13 BC, 1.7e13 AD] |\n",
        "| ``s``  | Second      | ± 2.9e12 years       | [ 2.9e9 BC, 2.9e9 AD]  |\n",
        "| ``ms`` | Millisecond | ± 2.9e9 years        | [ 2.9e6 BC, 2.9e6 AD]  |\n",
        "| ``us`` | Microsecond | ± 2.9e6 years        | [290301 BC, 294241 AD] |\n",
        "| ``ns`` | Nanosecond  | ± 292 years          | [ 1678 AD, 2262 AD]    |\n",
        "| ``ps`` | Picosecond  | ± 106 days           | [ 1969 AD, 1970 AD]    |\n",
        "| ``fs`` | Femtosecond | ± 2.6 hours          | [ 1969 AD, 1970 AD]    |\n",
        "| ``as`` | Attosecond  | ± 9.2 seconds        | [ 1969 AD, 1970 AD]    |\n"
      ]
    },
    {
      "cell_type": "markdown",
      "metadata": {
        "id": "CdwAoxzydP1N",
        "colab_type": "text"
      },
      "source": [
        "For more discussion, refer to NumPy's Datetimes and Timedeltas [documentation](https://docs.scipy.org/doc/numpy/reference/arrays.datetime.html). "
      ]
    },
    {
      "cell_type": "markdown",
      "metadata": {
        "id": "0bgam7J1dP1N",
        "colab_type": "text"
      },
      "source": [
        "### Dates and times in pandas: best of both worlds"
      ]
    },
    {
      "cell_type": "markdown",
      "metadata": {
        "id": "q0IruimKdP1N",
        "colab_type": "text"
      },
      "source": [
        "Pandas provides `Timestamp` object\n",
        "- Combines the ease-of-use of `datetime` and `dateutil` with the efficient storage and vectorized interface of `numpy.datetime64`. \n",
        "- Using Timestamp objects, Pandas can construct a DatetimeIndex used to index data in a `Series` or `DataFrame`. "
      ]
    },
    {
      "cell_type": "code",
      "metadata": {
        "id": "rdVcxKsEdP1O",
        "colab_type": "code",
        "colab": {},
        "outputId": "03dbe9be-a7a2-4f62-9817-24371c89b37a"
      },
      "source": [
        "import pandas as pd\n",
        "date = pd.to_datetime(\"4th of July, 2015\")\n",
        "date"
      ],
      "execution_count": null,
      "outputs": [
        {
          "output_type": "execute_result",
          "data": {
            "text/plain": [
              "Timestamp('2015-07-04 00:00:00')"
            ]
          },
          "metadata": {
            "tags": []
          },
          "execution_count": 53
        }
      ]
    },
    {
      "cell_type": "code",
      "metadata": {
        "id": "SEYofU0XdP1Q",
        "colab_type": "code",
        "colab": {},
        "outputId": "3460ef7c-1809-4a4a-be33-27ebcac5c638"
      },
      "source": [
        "date.strftime('%A')"
      ],
      "execution_count": null,
      "outputs": [
        {
          "output_type": "execute_result",
          "data": {
            "text/plain": [
              "'Saturday'"
            ]
          },
          "metadata": {
            "tags": []
          },
          "execution_count": 54
        }
      ]
    },
    {
      "cell_type": "code",
      "metadata": {
        "id": "_QqKFAP6dP1S",
        "colab_type": "code",
        "colab": {},
        "outputId": "cce82578-29a6-4417-b50a-a26c1d4fd1c8"
      },
      "source": [
        "date + pd.to_timedelta(np.arange(12), 'D')"
      ],
      "execution_count": null,
      "outputs": [
        {
          "output_type": "execute_result",
          "data": {
            "text/plain": [
              "DatetimeIndex(['2015-07-04', '2015-07-05', '2015-07-06', '2015-07-07',\n",
              "               '2015-07-08', '2015-07-09', '2015-07-10', '2015-07-11',\n",
              "               '2015-07-12', '2015-07-13', '2015-07-14', '2015-07-15'],\n",
              "              dtype='datetime64[ns]', freq=None)"
            ]
          },
          "metadata": {
            "tags": []
          },
          "execution_count": 55
        }
      ]
    },
    {
      "cell_type": "markdown",
      "metadata": {
        "id": "l_mrR6QWdP1T",
        "colab_type": "text"
      },
      "source": [
        "## Pandas Time Series: Indexing by Time\n",
        "\n",
        "Indexing data by timestamps"
      ]
    },
    {
      "cell_type": "code",
      "metadata": {
        "id": "ooD2QXnldP1U",
        "colab_type": "code",
        "colab": {},
        "outputId": "dd442eb2-c499-4b70-f699-cac33aa9498b"
      },
      "source": [
        "index = pd.DatetimeIndex(['2014-07-04', '2014-08-04',\n",
        "                          '2015-07-04', '2015-08-04'])\n",
        "data = pd.Series([0, 1, 2, 3], index=index)\n",
        "data"
      ],
      "execution_count": null,
      "outputs": [
        {
          "output_type": "execute_result",
          "data": {
            "text/plain": [
              "2014-07-04    0\n",
              "2014-08-04    1\n",
              "2015-07-04    2\n",
              "2015-08-04    3\n",
              "dtype: int64"
            ]
          },
          "metadata": {
            "tags": []
          },
          "execution_count": 56
        }
      ]
    },
    {
      "cell_type": "markdown",
      "metadata": {
        "id": "EUVqlelFdP1V",
        "colab_type": "text"
      },
      "source": [
        "Using the `Series` indexing patterns"
      ]
    },
    {
      "cell_type": "code",
      "metadata": {
        "id": "XK5IhTl1dP1V",
        "colab_type": "code",
        "colab": {},
        "outputId": "8f7b1c8e-bb2c-48cc-9160-327d4bbb07b5"
      },
      "source": [
        "data['2014-07-04':'2015-07-04']"
      ],
      "execution_count": null,
      "outputs": [
        {
          "output_type": "execute_result",
          "data": {
            "text/plain": [
              "2014-07-04    0\n",
              "2014-08-04    1\n",
              "2015-07-04    2\n",
              "dtype: int64"
            ]
          },
          "metadata": {
            "tags": []
          },
          "execution_count": 57
        }
      ]
    },
    {
      "cell_type": "markdown",
      "metadata": {
        "id": "a4Pup8v_dP1W",
        "colab_type": "text"
      },
      "source": [
        "Special date-only indexing operations\n",
        "- Passing a year to obtain a slice of all data from that year."
      ]
    },
    {
      "cell_type": "code",
      "metadata": {
        "id": "wkVi0_oEdP1W",
        "colab_type": "code",
        "colab": {},
        "outputId": "7e465e3e-2a99-44df-ab74-b817ca4ef8c7"
      },
      "source": [
        "data['2015']"
      ],
      "execution_count": null,
      "outputs": [
        {
          "output_type": "execute_result",
          "data": {
            "text/plain": [
              "2015-07-04    2\n",
              "2015-08-04    3\n",
              "dtype: int64"
            ]
          },
          "metadata": {
            "tags": []
          },
          "execution_count": 58
        }
      ]
    },
    {
      "cell_type": "markdown",
      "metadata": {
        "id": "BVEGRE9wdP1Y",
        "colab_type": "text"
      },
      "source": [
        "# Pandas Time Series Data Structures\n",
        "\n",
        "- *time stamps*, Pandas provides the `Timestamp` type\n",
        "  - Replacement for Python's native `datetime`.\n",
        "  - Based on efficient `numpy.datetime64` data type. \n",
        "  - `DatetimeIndex` is the associated index structure. \n",
        "  - Use the `pd.to_datetime()` function to parse a wide variety of formats.\n",
        "- *time Periods*, Pandas provides the `Period` type.\n",
        "  - Encodes a fixed-frequency interval based on `numpy.datetime64`.\n",
        "  - Associated index structure is `PeriodIndex`.\n",
        "  - `DatatimeIndex` can be converted to a `PeriodIndex` with the `to_period()`.\n",
        "- *time deltas*/*durations*, Pandas provides the `Timedelta` type.\n",
        "  - Replacement for Python's native `datetime.timedelta` based on `numpy.timedelta64`\n",
        "  - Associated index structure is `TimedeltaIndex`."
      ]
    },
    {
      "cell_type": "code",
      "metadata": {
        "id": "iK8vw2FidP1Y",
        "colab_type": "code",
        "colab": {},
        "outputId": "6bf3e5e4-18e4-402d-ec80-5e938541ae7d"
      },
      "source": [
        "dates = pd.to_datetime([datetime(2015, 7, 3), '4th of July, 2015',\n",
        "                       '2015-Jul-6', '07-07-2015', '20150708'])\n",
        "dates"
      ],
      "execution_count": null,
      "outputs": [
        {
          "output_type": "execute_result",
          "data": {
            "text/plain": [
              "DatetimeIndex(['2015-07-03', '2015-07-04', '2015-07-06', '2015-07-07',\n",
              "               '2015-07-08'],\n",
              "              dtype='datetime64[ns]', freq=None)"
            ]
          },
          "metadata": {
            "tags": []
          },
          "execution_count": 59
        }
      ]
    },
    {
      "cell_type": "code",
      "metadata": {
        "id": "SPrd06YMdP1a",
        "colab_type": "code",
        "colab": {},
        "outputId": "e12ee53c-e39a-4dae-ad24-c58a43d41685"
      },
      "source": [
        "dates.to_period('D') # 'D' to indicate daily frequency"
      ],
      "execution_count": null,
      "outputs": [
        {
          "output_type": "execute_result",
          "data": {
            "text/plain": [
              "PeriodIndex(['2015-07-03', '2015-07-04', '2015-07-06', '2015-07-07',\n",
              "             '2015-07-08'],\n",
              "            dtype='period[D]', freq='D')"
            ]
          },
          "metadata": {
            "tags": []
          },
          "execution_count": 60
        }
      ]
    },
    {
      "cell_type": "code",
      "metadata": {
        "id": "_MycgFzJdP1c",
        "colab_type": "code",
        "colab": {},
        "outputId": "1483a882-89cd-43dc-9485-c68e48657d25"
      },
      "source": [
        "dates - dates[0]"
      ],
      "execution_count": null,
      "outputs": [
        {
          "output_type": "execute_result",
          "data": {
            "text/plain": [
              "TimedeltaIndex(['0 days', '1 days', '3 days', '4 days', '5 days'], dtype='timedelta64[ns]', freq=None)"
            ]
          },
          "metadata": {
            "tags": []
          },
          "execution_count": 61
        }
      ]
    },
    {
      "cell_type": "markdown",
      "metadata": {
        "id": "jyz09m9LdP1f",
        "colab_type": "text"
      },
      "source": [
        "## Regular sequences: `pd.date_range()`\n",
        "\n",
        "Creation of regular date sequences\n",
        "- `pd.date_range()` for timestamps\n",
        "- `pd.period_range()` for periods\n",
        "- `pd.timedelta_range()` for time deltas"
      ]
    },
    {
      "cell_type": "code",
      "metadata": {
        "id": "xkf_SIt5dP1f",
        "colab_type": "code",
        "colab": {},
        "outputId": "9d6aa083-148a-4d74-9347-51dd29193972"
      },
      "source": [
        "pd.date_range('2015-07-03', '2015-07-10')"
      ],
      "execution_count": null,
      "outputs": [
        {
          "output_type": "execute_result",
          "data": {
            "text/plain": [
              "DatetimeIndex(['2015-07-03', '2015-07-04', '2015-07-05', '2015-07-06',\n",
              "               '2015-07-07', '2015-07-08', '2015-07-09', '2015-07-10'],\n",
              "              dtype='datetime64[ns]', freq='D')"
            ]
          },
          "metadata": {
            "tags": []
          },
          "execution_count": 62
        }
      ]
    },
    {
      "cell_type": "code",
      "metadata": {
        "id": "Ij8rVf0bdP1g",
        "colab_type": "code",
        "colab": {},
        "outputId": "d26c7763-70d2-4b5a-ef38-d779e4ea1d98"
      },
      "source": [
        "pd.date_range('2015-07-03', periods=8)"
      ],
      "execution_count": null,
      "outputs": [
        {
          "output_type": "execute_result",
          "data": {
            "text/plain": [
              "DatetimeIndex(['2015-07-03', '2015-07-04', '2015-07-05', '2015-07-06',\n",
              "               '2015-07-07', '2015-07-08', '2015-07-09', '2015-07-10'],\n",
              "              dtype='datetime64[ns]', freq='D')"
            ]
          },
          "metadata": {
            "tags": []
          },
          "execution_count": 63
        }
      ]
    },
    {
      "cell_type": "code",
      "metadata": {
        "id": "RrRS8qzMdP1h",
        "colab_type": "code",
        "colab": {},
        "outputId": "60fd2a41-371d-4c8b-ac53-e7daf53a278b"
      },
      "source": [
        "pd.date_range('2015-07-03', periods=8, freq='H')"
      ],
      "execution_count": null,
      "outputs": [
        {
          "output_type": "execute_result",
          "data": {
            "text/plain": [
              "DatetimeIndex(['2015-07-03 00:00:00', '2015-07-03 01:00:00',\n",
              "               '2015-07-03 02:00:00', '2015-07-03 03:00:00',\n",
              "               '2015-07-03 04:00:00', '2015-07-03 05:00:00',\n",
              "               '2015-07-03 06:00:00', '2015-07-03 07:00:00'],\n",
              "              dtype='datetime64[ns]', freq='H')"
            ]
          },
          "metadata": {
            "tags": []
          },
          "execution_count": 64
        }
      ]
    },
    {
      "cell_type": "code",
      "metadata": {
        "id": "rmwRkNpHdP1j",
        "colab_type": "code",
        "colab": {},
        "outputId": "267adbc9-b8db-42eb-f650-2e27a59f5e19"
      },
      "source": [
        "pd.period_range('2015-07', periods=8, freq='M')"
      ],
      "execution_count": null,
      "outputs": [
        {
          "output_type": "execute_result",
          "data": {
            "text/plain": [
              "PeriodIndex(['2015-07', '2015-08', '2015-09', '2015-10', '2015-11', '2015-12',\n",
              "             '2016-01', '2016-02'],\n",
              "            dtype='period[M]', freq='M')"
            ]
          },
          "metadata": {
            "tags": []
          },
          "execution_count": 65
        }
      ]
    },
    {
      "cell_type": "code",
      "metadata": {
        "id": "HtQ8c1J0dP1l",
        "colab_type": "code",
        "colab": {},
        "outputId": "47e91b4a-d546-43b8-ab35-7e5d7822e5ad"
      },
      "source": [
        "pd.timedelta_range(0, periods=10, freq='H')"
      ],
      "execution_count": null,
      "outputs": [
        {
          "output_type": "execute_result",
          "data": {
            "text/plain": [
              "TimedeltaIndex(['00:00:00', '01:00:00', '02:00:00', '03:00:00', '04:00:00',\n",
              "                '05:00:00', '06:00:00', '07:00:00', '08:00:00', '09:00:00'],\n",
              "               dtype='timedelta64[ns]', freq='H')"
            ]
          },
          "metadata": {
            "tags": []
          },
          "execution_count": 66
        }
      ]
    },
    {
      "cell_type": "markdown",
      "metadata": {
        "id": "boUP_q9CdP1m",
        "colab_type": "text"
      },
      "source": [
        "### Frequencies and Offsets  \n",
        "\n",
        "| Code   | Description         | Code   | Description          |\n",
        "|--------|---------------------|--------|----------------------|\n",
        "| ``D``  | Calendar day        | ``B``  | Business day         |\n",
        "| ``W``  | Weekly              |        |                      |\n",
        "| ``M``  | Month end           | ``BM`` | Business month end   |\n",
        "| ``Q``  | Quarter end         | ``BQ`` | Business quarter end |\n",
        "| ``A``  | Year end            | ``BA`` | Business year end    |\n",
        "| ``H``  | Hours               | ``BH`` | Business hours       |\n",
        "| ``T``  | Minutes             |        |                      |\n",
        "| ``S``  | Seconds             |        |                      |\n",
        "| ``L``  | Milliseonds         |        |                      |\n",
        "| ``U``  | Microseconds        |        |                      |\n",
        "| ``N``  | nanoseconds         |        |                      |\n",
        "\n",
        "\n",
        "Monthly, quarterly, and annual frequencies are marked at the end of the specified period. Adding `s` suffix will be marked at the beginning.  \n",
        "\n",
        "| Code    | Description            || Code    | Description            |\n",
        "|---------|------------------------||---------|------------------------|\n",
        "| ``MS``  | Month start            ||``BMS``  | Business month start   |\n",
        "| ``QS``  | Quarter start          ||``BQS``  | Business quarter start |\n",
        "| ``AS``  | Year start             ||``BAS``  | Business year start    |\n",
        "\n",
        "Quarterly or annual code\n",
        "- ``Q-JAN``, ``BQ-FEB``, ``QS-MAR``, ``BQS-APR``, etc.\n",
        "- ``A-JAN``, ``BA-FEB``, ``AS-MAR``, ``BAS-APR``, etc.\n",
        "\n",
        "Split-point of weekly frequency\n",
        "- ``W-SUN``, ``W-MON``, ``W-TUE``, ``W-WED``, etc.\n",
        "\n",
        "These short codes refer to specific instances of Pandas time series offsets found in the `pd.tseries.offsets`."
      ]
    },
    {
      "cell_type": "code",
      "metadata": {
        "id": "mlljTdGXdP1n",
        "colab_type": "code",
        "colab": {},
        "outputId": "a4047a4c-bf86-4a48-a74c-399732a35f3b"
      },
      "source": [
        "pd.timedelta_range(0, periods=9, freq=\"2H30T\")"
      ],
      "execution_count": null,
      "outputs": [
        {
          "output_type": "execute_result",
          "data": {
            "text/plain": [
              "TimedeltaIndex(['00:00:00', '02:30:00', '05:00:00', '07:30:00', '10:00:00',\n",
              "                '12:30:00', '15:00:00', '17:30:00', '20:00:00'],\n",
              "               dtype='timedelta64[ns]', freq='150T')"
            ]
          },
          "metadata": {
            "tags": []
          },
          "execution_count": 67
        }
      ]
    },
    {
      "cell_type": "code",
      "metadata": {
        "id": "2E37GZ70dP1o",
        "colab_type": "code",
        "colab": {},
        "outputId": "07ed25b5-8691-4af9-811f-efa82c303419"
      },
      "source": [
        "from pandas.tseries.offsets import BDay\n",
        "pd.date_range('2015-07-01', periods=5, freq=BDay())"
      ],
      "execution_count": null,
      "outputs": [
        {
          "output_type": "execute_result",
          "data": {
            "text/plain": [
              "DatetimeIndex(['2015-07-01', '2015-07-02', '2015-07-03', '2015-07-06',\n",
              "               '2015-07-07'],\n",
              "              dtype='datetime64[ns]', freq='B')"
            ]
          },
          "metadata": {
            "tags": []
          },
          "execution_count": 68
        }
      ]
    },
    {
      "cell_type": "markdown",
      "metadata": {
        "id": "pNOW45pBdP1p",
        "colab_type": "text"
      },
      "source": [
        "## Resampling, Shifting, and Windowing"
      ]
    },
    {
      "cell_type": "code",
      "metadata": {
        "id": "1dsMfywrdP1p",
        "colab_type": "code",
        "colab": {},
        "outputId": "a554a0dd-a760-420d-f4a3-f1a1daf5559f"
      },
      "source": [
        "!pip install pandas-datareader"
      ],
      "execution_count": null,
      "outputs": [
        {
          "output_type": "stream",
          "text": [
            "Requirement already satisfied: pandas-datareader in c:\\users\\dongh\\documents\\venv\\jupyter_lab\\lib\\site-packages (0.8.1)\n",
            "Requirement already satisfied: lxml in c:\\users\\dongh\\documents\\venv\\jupyter_lab\\lib\\site-packages (from pandas-datareader) (4.5.0)\n",
            "Requirement already satisfied: pandas>=0.21 in c:\\users\\dongh\\documents\\venv\\jupyter_lab\\lib\\site-packages (from pandas-datareader) (1.0.3)\n",
            "Requirement already satisfied: requests>=2.3.0 in c:\\users\\dongh\\documents\\venv\\jupyter_lab\\lib\\site-packages (from pandas-datareader) (2.23.0)\n",
            "Requirement already satisfied: python-dateutil>=2.6.1 in c:\\users\\dongh\\documents\\venv\\jupyter_lab\\lib\\site-packages (from pandas>=0.21->pandas-datareader) (2.8.1)\n",
            "Requirement already satisfied: numpy>=1.13.3 in c:\\users\\dongh\\documents\\venv\\jupyter_lab\\lib\\site-packages (from pandas>=0.21->pandas-datareader) (1.18.2)\n",
            "Requirement already satisfied: pytz>=2017.2 in c:\\users\\dongh\\documents\\venv\\jupyter_lab\\lib\\site-packages (from pandas>=0.21->pandas-datareader) (2019.3)\n",
            "Requirement already satisfied: chardet<4,>=3.0.2 in c:\\users\\dongh\\documents\\venv\\jupyter_lab\\lib\\site-packages (from requests>=2.3.0->pandas-datareader) (3.0.4)\n",
            "Requirement already satisfied: certifi>=2017.4.17 in c:\\users\\dongh\\documents\\venv\\jupyter_lab\\lib\\site-packages (from requests>=2.3.0->pandas-datareader) (2020.4.5.1)\n",
            "Requirement already satisfied: idna<3,>=2.5 in c:\\users\\dongh\\documents\\venv\\jupyter_lab\\lib\\site-packages (from requests>=2.3.0->pandas-datareader) (2.9)\n",
            "Requirement already satisfied: urllib3!=1.25.0,!=1.25.1,<1.26,>=1.21.1 in c:\\users\\dongh\\documents\\venv\\jupyter_lab\\lib\\site-packages (from requests>=2.3.0->pandas-datareader) (1.25.9)\n",
            "Requirement already satisfied: six>=1.5 in c:\\users\\dongh\\documents\\venv\\jupyter_lab\\lib\\site-packages (from python-dateutil>=2.6.1->pandas>=0.21->pandas-datareader) (1.14.0)\n"
          ],
          "name": "stdout"
        }
      ]
    },
    {
      "cell_type": "code",
      "metadata": {
        "id": "33CYi_TVdP1q",
        "colab_type": "code",
        "colab": {},
        "outputId": "1777d58c-26f6-4f3c-ac2d-3a99b1ae908b"
      },
      "source": [
        "from pandas_datareader import data\n",
        "\n",
        "goog = data.DataReader('GOOG', start='2004', end='2016',\n",
        "                       data_source='yahoo')\n",
        "goog.head()"
      ],
      "execution_count": null,
      "outputs": [
        {
          "output_type": "stream",
          "text": [
            "c:\\users\\dongh\\documents\\venv\\jupyter_lab\\lib\\site-packages\\pandas_datareader\\compat\\__init__.py:7: FutureWarning: pandas.util.testing is deprecated. Use the functions in the public API at pandas.testing instead.\n",
            "  from pandas.util.testing import assert_frame_equal\n"
          ],
          "name": "stderr"
        },
        {
          "output_type": "execute_result",
          "data": {
            "text/html": [
              "<div>\n",
              "<style scoped>\n",
              "    .dataframe tbody tr th:only-of-type {\n",
              "        vertical-align: middle;\n",
              "    }\n",
              "\n",
              "    .dataframe tbody tr th {\n",
              "        vertical-align: top;\n",
              "    }\n",
              "\n",
              "    .dataframe thead th {\n",
              "        text-align: right;\n",
              "    }\n",
              "</style>\n",
              "<table border=\"1\" class=\"dataframe\">\n",
              "  <thead>\n",
              "    <tr style=\"text-align: right;\">\n",
              "      <th></th>\n",
              "      <th>High</th>\n",
              "      <th>Low</th>\n",
              "      <th>Open</th>\n",
              "      <th>Close</th>\n",
              "      <th>Volume</th>\n",
              "      <th>Adj Close</th>\n",
              "    </tr>\n",
              "    <tr>\n",
              "      <th>Date</th>\n",
              "      <th></th>\n",
              "      <th></th>\n",
              "      <th></th>\n",
              "      <th></th>\n",
              "      <th></th>\n",
              "      <th></th>\n",
              "    </tr>\n",
              "  </thead>\n",
              "  <tbody>\n",
              "    <tr>\n",
              "      <th>2004-08-19</th>\n",
              "      <td>51.835709</td>\n",
              "      <td>47.800831</td>\n",
              "      <td>49.813286</td>\n",
              "      <td>49.982655</td>\n",
              "      <td>44871300.0</td>\n",
              "      <td>49.982655</td>\n",
              "    </tr>\n",
              "    <tr>\n",
              "      <th>2004-08-20</th>\n",
              "      <td>54.336334</td>\n",
              "      <td>50.062355</td>\n",
              "      <td>50.316402</td>\n",
              "      <td>53.952770</td>\n",
              "      <td>22942800.0</td>\n",
              "      <td>53.952770</td>\n",
              "    </tr>\n",
              "    <tr>\n",
              "      <th>2004-08-23</th>\n",
              "      <td>56.528118</td>\n",
              "      <td>54.321388</td>\n",
              "      <td>55.168217</td>\n",
              "      <td>54.495735</td>\n",
              "      <td>18342800.0</td>\n",
              "      <td>54.495735</td>\n",
              "    </tr>\n",
              "    <tr>\n",
              "      <th>2004-08-24</th>\n",
              "      <td>55.591629</td>\n",
              "      <td>51.591621</td>\n",
              "      <td>55.412300</td>\n",
              "      <td>52.239193</td>\n",
              "      <td>15319700.0</td>\n",
              "      <td>52.239193</td>\n",
              "    </tr>\n",
              "    <tr>\n",
              "      <th>2004-08-25</th>\n",
              "      <td>53.798351</td>\n",
              "      <td>51.746044</td>\n",
              "      <td>52.284027</td>\n",
              "      <td>52.802086</td>\n",
              "      <td>9232100.0</td>\n",
              "      <td>52.802086</td>\n",
              "    </tr>\n",
              "  </tbody>\n",
              "</table>\n",
              "</div>"
            ],
            "text/plain": [
              "                 High        Low       Open      Close      Volume  Adj Close\n",
              "Date                                                                         \n",
              "2004-08-19  51.835709  47.800831  49.813286  49.982655  44871300.0  49.982655\n",
              "2004-08-20  54.336334  50.062355  50.316402  53.952770  22942800.0  53.952770\n",
              "2004-08-23  56.528118  54.321388  55.168217  54.495735  18342800.0  54.495735\n",
              "2004-08-24  55.591629  51.591621  55.412300  52.239193  15319700.0  52.239193\n",
              "2004-08-25  53.798351  51.746044  52.284027  52.802086   9232100.0  52.802086"
            ]
          },
          "metadata": {
            "tags": []
          },
          "execution_count": 70
        }
      ]
    },
    {
      "cell_type": "code",
      "metadata": {
        "id": "0CVGVzNedP1r",
        "colab_type": "code",
        "colab": {}
      },
      "source": [
        "goog = goog['Close']"
      ],
      "execution_count": null,
      "outputs": []
    },
    {
      "cell_type": "code",
      "metadata": {
        "id": "fuDibAx4dP1u",
        "colab_type": "code",
        "colab": {}
      },
      "source": [
        "%matplotlib inline\n",
        "import matplotlib.pyplot as plt\n",
        "import seaborn; seaborn.set()"
      ],
      "execution_count": null,
      "outputs": []
    },
    {
      "cell_type": "code",
      "metadata": {
        "id": "KBX2-K1jdP1w",
        "colab_type": "code",
        "colab": {},
        "outputId": "348818f7-5cc3-4907-fcd5-4ff5720249d1"
      },
      "source": [
        "goog.plot()"
      ],
      "execution_count": null,
      "outputs": [
        {
          "output_type": "execute_result",
          "data": {
            "text/plain": [
              "<matplotlib.axes._subplots.AxesSubplot at 0x24ad504e6d8>"
            ]
          },
          "metadata": {
            "tags": []
          },
          "execution_count": 73
        },
        {
          "output_type": "display_data",
          "data": {
            "image/png": "[encoded data removed]",
            "text/plain": [
              "<Figure size 432x288 with 1 Axes>"
            ]
          },
          "metadata": {
            "tags": []
          }
        }
      ]
    },
    {
      "cell_type": "markdown",
      "metadata": {
        "id": "sySyeEpZdP1x",
        "colab_type": "text"
      },
      "source": [
        "#### Resampling and converting frequencies\n",
        "\n",
        "Resampling at a higher or lower frequency can be done by [resample()](https://pandas.pydata.org/pandas-docs/stable/user_guide/timeseries.html#resampling) or `asfreq()` methods. \n",
        "\n",
        "- `resample()` is *data aggregation*\n",
        "- `asfreq()` is a *data selection*\n",
        "\n",
        "Refer [here](https://pandas.pydata.org/pandas-docs/stable/user_guide/timeseries.html#offset-aliases) for the definitions of resampling rule strings. "
      ]
    },
    {
      "cell_type": "code",
      "metadata": {
        "id": "uZV8HZtQdP1x",
        "colab_type": "code",
        "colab": {},
        "outputId": "eb686e9f-16b8-4e01-ef22-b7d694920dfe"
      },
      "source": [
        "goog.plot(alpha=0.5, style='-')\n",
        "goog.resample('BA').mean().plot(style=':')\n",
        "goog.asfreq('BA').plot(style='--'); # business year end frequency\n",
        "plt.legend(['input', 'resample', 'asfreq'],\n",
        "           loc='upper left');"
      ],
      "execution_count": null,
      "outputs": [
        {
          "output_type": "display_data",
          "data": {
            "image/png": "[encoded data removed]",
            "text/plain": [
              "<Figure size 432x288 with 1 Axes>"
            ]
          },
          "metadata": {
            "tags": []
          }
        }
      ]
    },
    {
      "cell_type": "markdown",
      "metadata": {
        "id": "lHJUcxCrdP1y",
        "colab_type": "text"
      },
      "source": [
        "### Time-shifts\n",
        "Pandas has two methods for shifting of data in time: \n",
        "- `shift()`, shifts data\n",
        "- `tshift()`, shifts the index\n",
        "- The shift is specified in multiples of the frequency."
      ]
    },
    {
      "cell_type": "code",
      "metadata": {
        "id": "Iy-ITEnIdP1y",
        "colab_type": "code",
        "colab": {},
        "outputId": "212572c0-7a0b-482b-f067-33380c11fcc4"
      },
      "source": [
        "fig, ax = plt.subplots(3, sharey=True)\n",
        "\n",
        "# apply a frequency to the data\n",
        "goog = goog.asfreq('D', method='pad')\n",
        "\n",
        "goog.plot(ax=ax[0])\n",
        "goog.shift(900).plot(ax=ax[1])\n",
        "goog.tshift(900).plot(ax=ax[2])\n",
        "\n",
        "# legends and annotations\n",
        "local_max = pd.to_datetime('2007-11-05')\n",
        "offset = pd.Timedelta(900, 'D')\n",
        "\n",
        "ax[0].legend(['input'], loc=2)\n",
        "ax[0].get_xticklabels()[2].set(weight='heavy', color='red')\n",
        "ax[0].axvline(local_max, alpha=0.3, color='red')\n",
        "\n",
        "ax[1].legend(['shift(900)'], loc=2)\n",
        "ax[1].get_xticklabels()[2].set(weight='heavy', color='red')\n",
        "ax[1].axvline(local_max + offset, alpha=0.3, color='red')\n",
        "\n",
        "ax[2].legend(['tshift(900)'], loc=2)\n",
        "ax[2].get_xticklabels()[1].set(weight='heavy', color='red')\n",
        "ax[2].axvline(local_max + offset, alpha=0.3, color='red');"
      ],
      "execution_count": null,
      "outputs": [
        {
          "output_type": "display_data",
          "data": {
            "image/png": "[encoded data removed]",
            "text/plain": [
              "<Figure size 432x288 with 3 Axes>"
            ]
          },
          "metadata": {
            "tags": []
          }
        }
      ]
    },
    {
      "cell_type": "markdown",
      "metadata": {
        "id": "pao0FBxRdP10",
        "colab_type": "text"
      },
      "source": [
        "### Rolling windows\n",
        "Rolling() method of `Series` and `DataFrame` objects provide [rolling statistics](https://www.mathworks.com/help/econ/rolling-window-estimation-of-state-space-models.html). This works similarly to `groupby` operation. "
      ]
    },
    {
      "cell_type": "code",
      "metadata": {
        "id": "n0I7WxqodP10",
        "colab_type": "code",
        "colab": {},
        "outputId": "431b4afc-27e9-4c01-f7e0-fec7401f909c"
      },
      "source": [
        "rolling = goog.rolling(365, center=True)\n",
        "\n",
        "data = pd.DataFrame({'input': goog,\n",
        "                     'one-year rolling_mean': rolling.mean(),\n",
        "                     'one-year rolling_std': rolling.std()})\n",
        "ax = data.plot(style=['-', '--', ':'])\n",
        "ax.lines[0].set_alpha(0.3)"
      ],
      "execution_count": null,
      "outputs": [
        {
          "output_type": "display_data",
          "data": {
            "image/png": "[encoded data removed]",
            "text/plain": [
              "<Figure size 432x288 with 1 Axes>"
            ]
          },
          "metadata": {
            "tags": []
          }
        }
      ]
    },
    {
      "cell_type": "markdown",
      "metadata": {
        "id": "P6q7dYItdP11",
        "colab_type": "text"
      },
      "source": [
        "# High-Performance Pandas\n",
        "\n",
        "`eval()` and `query()` functions allow Pandas to acces C-speed operations without allocating intermediate temporary objects. These functions rely on the [Fast numerical array expression evaluator for Python](https://github.com/pydata/numexpr), or Numexpr. "
      ]
    }
  ]
}