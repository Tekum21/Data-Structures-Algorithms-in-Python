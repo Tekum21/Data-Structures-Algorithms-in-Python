{
  "nbformat": 4,
  "nbformat_minor": 0,
  "metadata": {
    "colab": {
      "name": "Data 690 - Week 4.ipynb",
      "provenance": [],
      "collapsed_sections": []
    },
    "kernelspec": {
      "name": "python3",
      "display_name": "Python 3"
    }
  },
  "cells": [
    {
      "cell_type": "markdown",
      "metadata": {
        "id": "RJI69f5I8kqh",
        "colab_type": "text"
      },
      "source": [
        "# Testing\n",
        "## Input Partitioning"
      ]
    },
    {
      "cell_type": "code",
      "metadata": {
        "id": "FrQpnTq98Ft3",
        "colab_type": "code",
        "colab": {}
      },
      "source": [
        "def isBigger(x,y):\n",
        "  \"\"\" x and y parameters are assumed to be integer values\n",
        "    returns True if x is greater than y, False otherwise\n",
        "  \"\"\"\n",
        "  return x > y"
      ],
      "execution_count": 0,
      "outputs": []
    },
    {
      "cell_type": "markdown",
      "metadata": {
        "id": "tNaoOxse8bQp",
        "colab_type": "text"
      },
      "source": [
        "Possible input subsets\n",
        "\n",
        "| x Input             | y Input           | Condition | Example| Expected Result |\n",
        "|:-------:|:-------:|:----:|:------:|:-----:|\n",
        "| Positive | Positive | x != y and x < y  | x=2, y=5    | False |\n",
        "| Positive | Positive | x != y and x > y  | x=5, y=2    | True |\n",
        "| Positive | Positive | x = y             | x=2, y=2    | False |\n",
        "| Positive | Negative |                   | x=2, y=-5   | True  | \n",
        "| Negative | Positive |                   | x=-5, y=2   | False |\n",
        "| Negative | Negative | x != y and x < y  | x=-5, y=-2  | False  |           \n",
        "| Negative | Negative | x != y and x > y  | x=-2, y=-5  | True |              \n",
        "| Negative | Negative | x = y             | x=-2, y=-2  | False |              \n",
        "| 0        | 0        |                   |             | False |\n",
        "| 0        | Positive |                   | x=0, y=2    | False |\n",
        "| 0        | Negative |                   | X=0, y=-2   | True  |\n",
        "| Positive | 0        |                   | x=2, y=0    | True  |\n",
        "| Negative | 0        |                   | x=-2, y=0   | False |"
      ]
    },
    {
      "cell_type": "markdown",
      "metadata": {
        "id": "5o2b0W6iehOv",
        "colab_type": "text"
      },
      "source": [
        "Using Python's [assert](https://wiki.python.org/moin/UsingAssertionsEffectively) statment"
      ]
    },
    {
      "cell_type": "code",
      "metadata": {
        "id": "GlyPUsk58U46",
        "colab_type": "code",
        "colab": {}
      },
      "source": [
        "try: \n",
        "  assert isBigger(2, 5) == False\n",
        "  assert isBigger(5, 2) == True\n",
        "  assert isBigger(2, 2) == False\n",
        "  assert isBigger(2, -5) == True\n",
        "  assert isBigger(-5, 2) == False\n",
        "  assert isBigger(-5, -2) == False\n",
        "  assert isBigger(-2, -5) == True\n",
        "  assert isBigger(-2, -2) == False\n",
        "  assert isBigger(0, 0) == False\n",
        "  assert isBigger(0, 2) == False\n",
        "  assert isBigger(0, -2) == True\n",
        "  assert isBigger(2, 0) == True\n",
        "  assert isBigger(-2, 0) == False\n",
        "except:\n",
        "  print(\"Test failed\")\n",
        "else:\n",
        "  print(\"Test succeeded\")"
      ],
      "execution_count": 0,
      "outputs": []
    },
    {
      "cell_type": "markdown",
      "metadata": {
        "id": "Y4CD0SHkz8CG",
        "colab_type": "text"
      },
      "source": [
        "## Block-Box Testing"
      ]
    },
    {
      "cell_type": "markdown",
      "metadata": {
        "id": "BcQO_5QgFZGO",
        "colab_type": "text"
      },
      "source": [
        "### Specification"
      ]
    },
    {
      "cell_type": "code",
      "metadata": {
        "id": "r5Dgu_Th0AMA",
        "colab_type": "code",
        "colab": {}
      },
      "source": [
        "def sqrt(x, epsilon):\n",
        "  \"\"\"Assumes x, epsilon floats\n",
        "      x >= 0\n",
        "      empsilon > 0\n",
        "    Returns result such that \n",
        "      x-epsilon <= result*result <= x\n",
        "      +epsilon\"\"\""
      ],
      "execution_count": 0,
      "outputs": []
    },
    {
      "cell_type": "markdown",
      "metadata": {
        "id": "M7BhmiPsFVMT",
        "colab_type": "text"
      },
      "source": [
        "### Aliasing"
      ]
    },
    {
      "cell_type": "code",
      "metadata": {
        "id": "ywutd9XIFcMW",
        "colab_type": "code",
        "colab": {}
      },
      "source": [
        "def copy(L1, L2):\n",
        "  \"\"\"Assumes L1, L2 are lists \n",
        "  Mutates L2 to be a copy of L1\"\"\"\n",
        "\n",
        "  while len(L2) > 0: #remove all elements from L2\n",
        "    L2.pop() #remove last element of L2\n",
        "\n",
        "  for e in L1: #append L1's elements to initially empty L2\n",
        "    L2.append(e)"
      ],
      "execution_count": 0,
      "outputs": []
    },
    {
      "cell_type": "code",
      "metadata": {
        "id": "CW6R6ADN0Z2g",
        "colab_type": "code",
        "colab": {}
      },
      "source": [
        "# This will work\n",
        "L1 = [1,2,3]\n",
        "L2 = []\n",
        "copy(L1, L2)\n",
        "L2"
      ],
      "execution_count": 0,
      "outputs": []
    },
    {
      "cell_type": "code",
      "metadata": {
        "id": "-Edn3cRWGNR0",
        "colab_type": "code",
        "colab": {}
      },
      "source": [
        "# This won't\n",
        "L1 = [1,2,3]\n",
        "L2 = L1\n",
        "copy(L1, L2)\n",
        "L2"
      ],
      "execution_count": 0,
      "outputs": []
    },
    {
      "cell_type": "markdown",
      "metadata": {
        "id": "cyfU0DEJGtGL",
        "colab_type": "text"
      },
      "source": [
        "#Debugging"
      ]
    },
    {
      "cell_type": "code",
      "metadata": {
        "id": "va-Oi3X-GYr_",
        "colab_type": "code",
        "colab": {}
      },
      "source": [
        "def isPal(x):\n",
        "  \"\"\"Assumes x is a list\n",
        "    Returns True if the list is a palindrome; False otherwise\"\"\"\n",
        "  temp = x\n",
        "  temp.reverse\n",
        "  if temp == x:\n",
        "    return True\n",
        "  else: \n",
        "    return False\n",
        "\n",
        "def silly(n):\n",
        "  \"\"\"Assumes n is an int > 0\n",
        "    Gets n inputs from user\n",
        "    Prints 'Yes' if the sequence of inputs forms a palindrome;\n",
        "      'No' Otherwise\"\"\"\n",
        "  for i in range(n):\n",
        "    result = []\n",
        "    elem = input(\"Enter element: \")\n",
        "    result.append(elem)\n",
        "  if isPal(result):\n",
        "    print('Yes')\n",
        "  else:\n",
        "    print('No')"
      ],
      "execution_count": 0,
      "outputs": []
    },
    {
      "cell_type": "code",
      "metadata": {
        "id": "YCsvYS8bH8-B",
        "colab_type": "code",
        "colab": {}
      },
      "source": [
        "silly(6)"
      ],
      "execution_count": 0,
      "outputs": []
    },
    {
      "cell_type": "markdown",
      "metadata": {
        "id": "suWQbq7ZvW4v",
        "colab_type": "text"
      },
      "source": [
        "# Exception\n",
        "Follow along the sample and note how the execution flow of the the code changes. "
      ]
    },
    {
      "cell_type": "code",
      "metadata": {
        "id": "wicZgEhpd6ud",
        "colab_type": "code",
        "colab": {}
      },
      "source": [
        "def zeroDiv(n):\n",
        "  print(\"About to cause an error\")\n",
        "  n/0\n",
        "  print(\"This statement is never executed\")\n",
        "  return\n",
        "\n",
        "try:\n",
        "  print(\"In try block\")\n",
        "  # zeroDiv(5)\n",
        "except ZeroDivisionError as zde:\n",
        "  print(\"In ZeroDivisionError exception handler\")  \n",
        "  print(zde)\n",
        "except:\n",
        "  print(\"This is catch-all error handling block\")  \n",
        "else:\n",
        "    try:\n",
        "      print(\"Yes, There can be an exception even in an else block.\")\n",
        "    except:\n",
        "      print(\"This is catch-all error handling block\")\n",
        "    else:\n",
        "      print(\"Although in this instance there was none\")\n",
        "finally:\n",
        "  print(\"This block is executed all the time. Mainly used for resource cleaning\")\n"
      ],
      "execution_count": 0,
      "outputs": []
    },
    {
      "cell_type": "markdown",
      "metadata": {
        "id": "cVWTv8Lt0IzE",
        "colab_type": "text"
      },
      "source": [
        "Using Tuple of exceptions"
      ]
    },
    {
      "cell_type": "code",
      "metadata": {
        "id": "qWtGyQ_GzSPj",
        "colab_type": "code",
        "colab": {}
      },
      "source": [
        "import sys\n",
        "def raiseValueError():\n",
        "  raise ValueError(\"There was a ValueError\")\n",
        "\n",
        "def raiseTypeError():\n",
        "  raise TypeError(\"There was a TypeError\")\n",
        "\n",
        "try:\n",
        "  print(\"In try block\")\n",
        "  raiseValueError();\n",
        "  #raiseTypeError();\n",
        "except (ValueError, TypeError) as e:\n",
        "  except_info = sys.exc_info()\n",
        "  print(\"In exception handler\")  \n",
        "  print(\"Type of exception\", except_info[0])\n",
        "  print(\"-\", except_info[1])"
      ],
      "execution_count": 0,
      "outputs": []
    },
    {
      "cell_type": "code",
      "metadata": {
        "id": "mxBb-Yw-wGLe",
        "colab_type": "code",
        "colab": {}
      },
      "source": [
        ""
      ],
      "execution_count": 0,
      "outputs": []
    }
  ]
}