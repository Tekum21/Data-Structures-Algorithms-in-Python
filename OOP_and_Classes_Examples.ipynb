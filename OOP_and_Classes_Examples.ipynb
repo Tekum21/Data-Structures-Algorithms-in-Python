{
  "nbformat": 4,
  "nbformat_minor": 0,
  "metadata": {
    "colab": {
      "name": "OOP and Classes Examples.ipynb",
      "provenance": []
    },
    "kernelspec": {
      "name": "python3",
      "display_name": "Python 3"
    }
  },
  "cells": [
    {
      "cell_type": "code",
      "metadata": {
        "id": "LhwdTk4Te3gh",
        "colab_type": "code",
        "colab": {}
      },
      "source": [
        "class Product(object):\n",
        "  def __init__(self, name, manufacturer, price):\n",
        "    self.productName = name\n",
        "    self.productManufacturer = manufacturer\n",
        "    self.price = price\n",
        "\n",
        "  def applyDiscount(self, percent):\n",
        "    self.price = self.price - (self.price * (percent /100))\n",
        "\n",
        "  def __lt__(self, other):\n",
        "    print('Calling __lt__')\n",
        "    if self.price < other.price:\n",
        "      return True\n",
        "    else: \n",
        "      return False\n",
        "\n",
        "\n",
        "  def __gt__(self, other):\n",
        "    print('Calling __gt__')\n",
        "    if self.price > other.price:\n",
        "      return True\n",
        "    else: \n",
        "      return False      \n",
        "\n",
        "  def __str__(self):\n",
        "    return f'Product Name: {self.productName}, price: {self.price}'"
      ],
      "execution_count": 0,
      "outputs": []
    },
    {
      "cell_type": "code",
      "metadata": {
        "id": "J4PmJrAafkx_",
        "colab_type": "code",
        "colab": {}
      },
      "source": [
        "myIpad = Product('iPadPro2020', 'apple', 1000)\n",
        "mySamsungGalaxySTab4 = Product('GalaxyS4', 'samsung', 1800)"
      ],
      "execution_count": 0,
      "outputs": []
    },
    {
      "cell_type": "code",
      "metadata": {
        "id": "h9JKJfEaf4Ga",
        "colab_type": "code",
        "colab": {
          "base_uri": "https://localhost:8080/",
          "height": 51
        },
        "outputId": "975862ab-3976-4fd9-dea7-77f62cf2e5bd"
      },
      "source": [
        "if myIpad > mySamsungGalaxySTab4:\n",
        "  print('Ipad is cheaper')\n",
        "else:\n",
        "  print('Samsung is cheaper')"
      ],
      "execution_count": 24,
      "outputs": [
        {
          "output_type": "stream",
          "text": [
            "Calling __gt__\n",
            "Samsung is cheaper\n"
          ],
          "name": "stdout"
        }
      ]
    },
    {
      "cell_type": "code",
      "metadata": {
        "id": "_kybaXiKgAkL",
        "colab_type": "code",
        "colab": {
          "base_uri": "https://localhost:8080/",
          "height": 34
        },
        "outputId": "b24da6ab-5d4c-47ec-d218-d868f9d12bb8"
      },
      "source": [
        "print(myIpad)"
      ],
      "execution_count": 17,
      "outputs": [
        {
          "output_type": "stream",
          "text": [
            "Product Name: iPadPro2020, price: 1000\n"
          ],
          "name": "stdout"
        }
      ]
    },
    {
      "cell_type": "code",
      "metadata": {
        "id": "JoJmiDcIgh-w",
        "colab_type": "code",
        "colab": {}
      },
      "source": [
        ""
      ],
      "execution_count": 0,
      "outputs": []
    }
  ]
}