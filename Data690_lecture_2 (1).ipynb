{
  "nbformat": 4,
  "nbformat_minor": 0,
  "metadata": {
    "colab": {
      "name": "Data 690 - Week 2.ipynb",
      "provenance": [],
      "collapsed_sections": [
        "TJ8fEXqQotkC",
        "2ekqtyjFtoz8",
        "0ghGRnABxBZw",
        "ddILwUUCFaWm",
        "G0laUwf5imNN"
      ]
    },
    "kernelspec": {
      "name": "python3",
      "display_name": "Python 3"
    }
  },
  "cells": [
    {
      "cell_type": "markdown",
      "metadata": {
        "id": "keJ2Wr8pwsia",
        "colab_type": "text"
      },
      "source": [
        "# Exhautive Enumeration"
      ]
    },
    {
      "cell_type": "markdown",
      "metadata": {
        "id": "xZqyonKZtVRx",
        "colab_type": "text"
      },
      "source": [
        "##While-loop implementation"
      ]
    },
    {
      "cell_type": "code",
      "metadata": {
        "id": "W0BRVf3VZmz8",
        "colab_type": "code",
        "outputId": "5fef727b-e44f-4877-ca28-c4ddb9393a6e",
        "colab": {
          "base_uri": "https://localhost:8080/",
          "height": 51
        }
      },
      "source": [
        "x = int(input('Enter an integer: '))\n",
        "ans = 0\n",
        "while ans**3 < abs(x):\n",
        "  ans = ans + 1\n",
        "if ans**3 != abs(x):\n",
        "  print(x, 'is not a perfect cube')\n",
        "else:\n",
        "  if x < 0:\n",
        "      ans = -ans\n",
        "  print('Cube root of', x, 'is', ans)"
      ],
      "execution_count": 8,
      "outputs": [
        {
          "output_type": "stream",
          "text": [
            "Enter an integer: -27\n",
            "Cube root of -27 is -3\n"
          ],
          "name": "stdout"
        }
      ]
    },
    {
      "cell_type": "markdown",
      "metadata": {
        "id": "TJ8fEXqQotkC",
        "colab_type": "text"
      },
      "source": [
        "## WARNING - Do not do this - inifinite loop\n",
        "The value of *ans* does properly increment, causing the loop to execute infinitely. "
      ]
    },
    {
      "cell_type": "code",
      "metadata": {
        "id": "lqntGLJXaK4_",
        "colab_type": "code",
        "colab": {}
      },
      "source": [
        "x = int(input('Enter an integer: '))\n",
        "ans = 0\n",
        "while ans**3 < abs(x):\n",
        "  print(\"Value of the decrementing function abs(x) - ans**3 is\", abs(x) - ans**3)\n",
        "  ans = ans\n",
        "if ans**3 != abs(x):\n",
        "  print(x, 'is not a perfect cube')\n",
        "else:\n",
        "  if x < 0:\n",
        "      ans = -ans\n",
        "  print('Cube root of', x, 'is', ans)"
      ],
      "execution_count": 0,
      "outputs": []
    },
    {
      "cell_type": "markdown",
      "metadata": {
        "id": "2ekqtyjFtoz8",
        "colab_type": "text"
      },
      "source": [
        "## For-loop implementation"
      ]
    },
    {
      "cell_type": "code",
      "metadata": {
        "id": "JusarZY2pvOm",
        "colab_type": "code",
        "outputId": "4bfb736a-fecd-4998-94c9-a4306a15a4e9",
        "colab": {
          "base_uri": "https://localhost:8080/",
          "height": 51
        }
      },
      "source": [
        "x = int(input('Enter an integer: '))\n",
        "for ans in range(0, abs(x) + 1):\n",
        "  if ans**3 >= abs(x):\n",
        "    break\n",
        "if ans**3 != abs(x):\n",
        "  print(x, 'is not a perfect cube')\n",
        "else:\n",
        "  if x < 0:\n",
        "    ans = - ans\n",
        "  print('Cube root of', x, 'is', ans)"
      ],
      "execution_count": 0,
      "outputs": [
        {
          "output_type": "stream",
          "text": [
            "Enter an integer: 27\n",
            "Cube root of 27 is 3\n"
          ],
          "name": "stdout"
        }
      ]
    },
    {
      "cell_type": "markdown",
      "metadata": {
        "id": "0ghGRnABxBZw",
        "colab_type": "text"
      },
      "source": [
        "# Approximation"
      ]
    },
    {
      "cell_type": "code",
      "metadata": {
        "id": "HdFHuSR1xGtS",
        "colab_type": "code",
        "outputId": "f2472021-ad0d-4153-a44b-e46f38a646c6",
        "colab": {
          "base_uri": "https://localhost:8080/",
          "height": 85
        }
      },
      "source": [
        "x = int(input(\"Enter a number to find the square root of:\"))\n",
        "epsilon = float(input(\"Enter the value for epsilon: \")) # Approximation tolerance\n",
        "step = epsilon**2 # This is the step by which potential answer value will be incremented\n",
        "numGuesses = 0 # Incremented each time we go through the while loop\n",
        "ans = 0.0 # Initial answer candidate\n",
        "\n",
        "while abs(ans**2 - x) >= epsilon and ans <= x:\n",
        "  ans += step\n",
        "  numGuesses += 1 # This is semantically same as numGuesses = numGuesses + 1\n",
        "print('numGuesses =', numGuesses)\n",
        "\n",
        "# Check to see if we have an approximation that is close enough, or we failed\n",
        "if abs(ans**2 - x) >= epsilon:\n",
        "  print('Failed on square root of', x)\n",
        "else:\n",
        "  print(ans, 'is close to square root of', x)"
      ],
      "execution_count": 7,
      "outputs": [
        {
          "output_type": "stream",
          "text": [
            "Enter a number to find the square root of:2\n",
            "Enter the value for epsilon: 0.001\n",
            "numGuesses = 1413860\n",
            "1.4138599999738712 is close to square root of 2\n"
          ],
          "name": "stdout"
        }
      ]
    },
    {
      "cell_type": "markdown",
      "metadata": {
        "id": "ddILwUUCFaWm",
        "colab_type": "text"
      },
      "source": [
        "#Bisection Search"
      ]
    },
    {
      "cell_type": "code",
      "metadata": {
        "id": "LLCd7AHFFceH",
        "colab_type": "code",
        "outputId": "1c78401f-eafb-4a0e-d9fa-36ba3d8e5f60",
        "colab": {
          "base_uri": "https://localhost:8080/",
          "height": 204
        }
      },
      "source": [
        "x = int(input(\"Enter a number to find the square root of:\"))\n",
        "epsilon = float(input(\"Enter the value for epsilon: \")) # Approximation tolerance\n",
        "numGuesses = 0 # Counter, incremented each time we go through the while loop\n",
        "low = 0.0\n",
        "high = max(1.0, x)\n",
        "ans = (high + low) / 2.0\n",
        "\n",
        "while abs(ans**2 - x) >= epsilon:\n",
        "  print('low=', low, 'high=', high, 'ans=', ans)\n",
        "  numGuesses += 1 # This is semantically same as numGuesses = numGuesses + 1\n",
        "  if ans**2 < x:\n",
        "    low = ans\n",
        "  else:\n",
        "    high = ans\n",
        "  ans = (high + low)/2.0\n",
        "print('numGuesses =', numGuesses)\n",
        "print(ans, 'is close to square root of', x)"
      ],
      "execution_count": 15,
      "outputs": [
        {
          "output_type": "stream",
          "text": [
            "Enter a number to find the square root of:2\n",
            "Enter the value for epsilon: 0.001\n",
            "low= 0.0 high= 2 ans= 1.0\n",
            "low= 1.0 high= 2 ans= 1.5\n",
            "low= 1.0 high= 1.5 ans= 1.25\n",
            "low= 1.25 high= 1.5 ans= 1.375\n",
            "low= 1.375 high= 1.5 ans= 1.4375\n",
            "low= 1.375 high= 1.4375 ans= 1.40625\n",
            "low= 1.40625 high= 1.4375 ans= 1.421875\n",
            "numGuesses = 7\n",
            "1.4140625 is close to square root of 2\n"
          ],
          "name": "stdout"
        }
      ]
    },
    {
      "cell_type": "markdown",
      "metadata": {
        "id": "3EyZ1plhcg60",
        "colab_type": "text"
      },
      "source": [
        ""
      ]
    },
    {
      "cell_type": "markdown",
      "metadata": {
        "id": "WIJLoVuhcjPI",
        "colab_type": "text"
      },
      "source": [
        "##Newton-Raphson"
      ]
    },
    {
      "cell_type": "code",
      "metadata": {
        "id": "9GbXgdSZcgaE",
        "colab_type": "code",
        "outputId": "362df35d-a126-470b-97c8-0c540a3d5949",
        "colab": {
          "base_uri": "https://localhost:8080/",
          "height": 34
        }
      },
      "source": [
        "epsilon = 0.01\n",
        "k = 24.0\n",
        "guess = k/2.0\n",
        "while abs(guess * guess - k) >= epsilon:\n",
        "  guess = guess - (((guess ** 2) - k) / (2*guess))\n",
        "print('Square root of', k, 'is about', guess)"
      ],
      "execution_count": 0,
      "outputs": [
        {
          "output_type": "stream",
          "text": [
            "Square root of 24.0 is about 4.8989887432139305\n"
          ],
          "name": "stdout"
        }
      ]
    },
    {
      "cell_type": "markdown",
      "metadata": {
        "id": "G0laUwf5imNN",
        "colab_type": "text"
      },
      "source": [
        "# Functions"
      ]
    },
    {
      "cell_type": "code",
      "metadata": {
        "id": "Dr8rNGFsdFiE",
        "colab_type": "code",
        "colab": {}
      },
      "source": [
        "def addMe(a,b):\n",
        "  return a+b\n"
      ],
      "execution_count": 0,
      "outputs": []
    },
    {
      "cell_type": "code",
      "metadata": {
        "id": "lGK07xpvivW1",
        "colab_type": "code",
        "colab": {}
      },
      "source": [
        "\n",
        "iAmAdded = addMe(3,4) * 20"
      ],
      "execution_count": 0,
      "outputs": []
    },
    {
      "cell_type": "code",
      "metadata": {
        "id": "39cIXgsEiw-H",
        "colab_type": "code",
        "outputId": "a2d7f52b-8b46-4a32-fd49-664217249f53",
        "colab": {
          "base_uri": "https://localhost:8080/",
          "height": 34
        }
      },
      "source": [
        "iAmAdded"
      ],
      "execution_count": 0,
      "outputs": [
        {
          "output_type": "execute_result",
          "data": {
            "text/plain": [
              "140"
            ]
          },
          "metadata": {
            "tags": []
          },
          "execution_count": 28
        }
      ]
    },
    {
      "cell_type": "markdown",
      "metadata": {
        "id": "n67dxCS9nRo9",
        "colab_type": "text"
      },
      "source": [
        "## Keyword Arguments and Default Values"
      ]
    },
    {
      "cell_type": "code",
      "metadata": {
        "id": "bnHLFGgbi8Ju",
        "colab_type": "code",
        "outputId": "d5c31387-5431-4750-90f3-68e046e3211a",
        "colab": {
          "base_uri": "https://localhost:8080/",
          "height": 85
        }
      },
      "source": [
        "def connectMe(me, you, reverse=False):\n",
        "  if reverse:\n",
        "    return you + \" is connected to \" + me\n",
        "  else:\n",
        "    return me + \" is connected to \" + you\n",
        "print(connectMe(\"john\", \"jane\"))    \n",
        "print(connectMe(you=\"john\", me=\"jane\"))\n",
        "print(connectMe(\"john\", \"jane\", True))\n",
        "print(connectMe(me=\"jane\", you=\"john\", reverse=True))"
      ],
      "execution_count": 17,
      "outputs": [
        {
          "output_type": "stream",
          "text": [
            "john is connected to jane\n",
            "jane is connected to john\n",
            "jane is connected to john\n",
            "john is connected to jane\n"
          ],
          "name": "stdout"
        }
      ]
    },
    {
      "cell_type": "markdown",
      "metadata": {
        "id": "GDlHGRBswcaX",
        "colab_type": "text"
      },
      "source": [
        "## Scoping"
      ]
    },
    {
      "cell_type": "code",
      "metadata": {
        "id": "vboFayyBu2Yb",
        "colab_type": "code",
        "outputId": "b04fa418-e2ca-4a46-f716-625bc08dca07",
        "colab": {
          "base_uri": "https://localhost:8080/",
          "height": 84
        }
      },
      "source": [
        "def f(x):\n",
        "  y = 1 # y is a local variable\n",
        "  x = x + y # x is a local variable\n",
        "  print('In f x=', x)\n",
        "  return x\n",
        "\n",
        "x = 3 # x is a global variable\n",
        "y = 2 # y is a global variable\n",
        "z = f(x) # z is also a global variable\n",
        "\n",
        "print('z=', z)\n",
        "print('x=', x)\n",
        "print('y=', y)"
      ],
      "execution_count": 0,
      "outputs": [
        {
          "output_type": "stream",
          "text": [
            "In f x= 4\n",
            "z= 4\n",
            "x= 3\n",
            "y= 2\n"
          ],
          "name": "stdout"
        }
      ]
    },
    {
      "cell_type": "code",
      "metadata": {
        "id": "baz6Tw1twlZk",
        "colab_type": "code",
        "outputId": "c632f610-1ba6-4611-e290-e45133dc3f7d",
        "colab": {
          "base_uri": "https://localhost:8080/",
          "height": 85
        }
      },
      "source": [
        "def f_global_test(x):\n",
        "  x = x + y # Here x is a local variable, y is the global variable\n",
        "  print('In f_global_test x=', x)\n",
        "  return x\n",
        "\n",
        "x = 3\n",
        "p = 6\n",
        "y = 2\n",
        "z = f_global_test(p)\n",
        "print('z=', z)\n",
        "print('x=', x)\n",
        "print('y=', y)"
      ],
      "execution_count": 18,
      "outputs": [
        {
          "output_type": "stream",
          "text": [
            "In f_global_test x= 8\n",
            "z= 8\n",
            "x= 3\n",
            "y= 2\n"
          ],
          "name": "stdout"
        }
      ]
    },
    {
      "cell_type": "code",
      "metadata": {
        "id": "v4eYuMGoSaM5",
        "colab_type": "code",
        "outputId": "4e69d13f-8c54-463f-fc8c-e6104cba891a",
        "colab": {
          "base_uri": "https://localhost:8080/",
          "height": 346
        }
      },
      "source": [
        "def f_global_test_error(x):\n",
        "  x = x + y # Here x is a local variable, y is the global variable\n",
        "  y = 1000000 # This will throw an UnboundLocalError\n",
        "  print('In f_global_test_error x=', x)\n",
        "  return x\n",
        "\n",
        "x = 3\n",
        "y = 2\n",
        "z = f_global_test_error(x)\n",
        "print('z=', z)\n",
        "print('x=', x)\n",
        "print('y=', y)"
      ],
      "execution_count": 0,
      "outputs": [
        {
          "output_type": "error",
          "ename": "UnboundLocalError",
          "evalue": "ignored",
          "traceback": [
            "\u001b[0;31m---------------------------------------------------------------------------\u001b[0m",
            "\u001b[0;31mUnboundLocalError\u001b[0m                         Traceback (most recent call last)",
            "\u001b[0;32m<ipython-input-52-da7fecc4d0cd>\u001b[0m in \u001b[0;36m<module>\u001b[0;34m()\u001b[0m\n\u001b[1;32m      7\u001b[0m \u001b[0mx\u001b[0m \u001b[0;34m=\u001b[0m \u001b[0;36m3\u001b[0m\u001b[0;34m\u001b[0m\u001b[0;34m\u001b[0m\u001b[0m\n\u001b[1;32m      8\u001b[0m \u001b[0my\u001b[0m \u001b[0;34m=\u001b[0m \u001b[0;36m2\u001b[0m\u001b[0;34m\u001b[0m\u001b[0;34m\u001b[0m\u001b[0m\n\u001b[0;32m----> 9\u001b[0;31m \u001b[0mz\u001b[0m \u001b[0;34m=\u001b[0m \u001b[0mf_global_test_error\u001b[0m\u001b[0;34m(\u001b[0m\u001b[0mx\u001b[0m\u001b[0;34m)\u001b[0m\u001b[0;34m\u001b[0m\u001b[0;34m\u001b[0m\u001b[0m\n\u001b[0m\u001b[1;32m     10\u001b[0m \u001b[0mprint\u001b[0m\u001b[0;34m(\u001b[0m\u001b[0;34m'z='\u001b[0m\u001b[0;34m,\u001b[0m \u001b[0mz\u001b[0m\u001b[0;34m)\u001b[0m\u001b[0;34m\u001b[0m\u001b[0;34m\u001b[0m\u001b[0m\n\u001b[1;32m     11\u001b[0m \u001b[0mprint\u001b[0m\u001b[0;34m(\u001b[0m\u001b[0;34m'x='\u001b[0m\u001b[0;34m,\u001b[0m \u001b[0mx\u001b[0m\u001b[0;34m)\u001b[0m\u001b[0;34m\u001b[0m\u001b[0;34m\u001b[0m\u001b[0m\n",
            "\u001b[0;32m<ipython-input-52-da7fecc4d0cd>\u001b[0m in \u001b[0;36mf_global_test_error\u001b[0;34m(x)\u001b[0m\n\u001b[1;32m      1\u001b[0m \u001b[0;32mdef\u001b[0m \u001b[0mf_global_test_error\u001b[0m\u001b[0;34m(\u001b[0m\u001b[0mx\u001b[0m\u001b[0;34m)\u001b[0m\u001b[0;34m:\u001b[0m\u001b[0;34m\u001b[0m\u001b[0;34m\u001b[0m\u001b[0m\n\u001b[0;32m----> 2\u001b[0;31m   \u001b[0mx\u001b[0m \u001b[0;34m=\u001b[0m \u001b[0mx\u001b[0m \u001b[0;34m+\u001b[0m \u001b[0my\u001b[0m \u001b[0;31m# Here x is a local variable, y is the global variable\u001b[0m\u001b[0;34m\u001b[0m\u001b[0;34m\u001b[0m\u001b[0m\n\u001b[0m\u001b[1;32m      3\u001b[0m   \u001b[0my\u001b[0m \u001b[0;34m=\u001b[0m \u001b[0;36m1000000\u001b[0m\u001b[0;34m\u001b[0m\u001b[0;34m\u001b[0m\u001b[0m\n\u001b[1;32m      4\u001b[0m   \u001b[0mprint\u001b[0m\u001b[0;34m(\u001b[0m\u001b[0;34m'In f_global_test_error x='\u001b[0m\u001b[0;34m,\u001b[0m \u001b[0mx\u001b[0m\u001b[0;34m)\u001b[0m\u001b[0;34m\u001b[0m\u001b[0;34m\u001b[0m\u001b[0m\n\u001b[1;32m      5\u001b[0m   \u001b[0;32mreturn\u001b[0m \u001b[0mx\u001b[0m\u001b[0;34m\u001b[0m\u001b[0;34m\u001b[0m\u001b[0m\n",
            "\u001b[0;31mUnboundLocalError\u001b[0m: local variable 'y' referenced before assignment"
          ]
        }
      ]
    },
    {
      "cell_type": "code",
      "metadata": {
        "id": "YPu0-meiZXi8",
        "colab_type": "code",
        "outputId": "ec56ad74-0d4d-4fef-815b-a7f447890b22",
        "colab": {
          "base_uri": "https://localhost:8080/",
          "height": 136
        }
      },
      "source": [
        "def f(x):\n",
        "  def g():\n",
        "    x = 'abc'\n",
        "    print('   In g() x =', x)\n",
        "  def h():\n",
        "    z = x\n",
        "    print('   In h() z = ', z)\n",
        "  x = x + 1\n",
        "  print(' In f() x = ', x)\n",
        "  h()\n",
        "  g()\n",
        "  print(' In f() x = ', x)\n",
        "  return g\n",
        "\n",
        "x = 3\n",
        "z = f(x)\n",
        "print('x = ', x)\n",
        "print('z = ', z)\n",
        "z()"
      ],
      "execution_count": 20,
      "outputs": [
        {
          "output_type": "stream",
          "text": [
            " In f() x =  4\n",
            "   In h() z =  4\n",
            "   In g() x = abc\n",
            " In f() x =  4\n",
            "x =  3\n",
            "z =  <function f.<locals>.g at 0x7f684d2a4d90>\n",
            "   In g() x = abc\n"
          ],
          "name": "stdout"
        }
      ]
    },
    {
      "cell_type": "markdown",
      "metadata": {
        "id": "PeYnDYqpupE8",
        "colab_type": "text"
      },
      "source": [
        "##Recursion"
      ]
    },
    {
      "cell_type": "code",
      "metadata": {
        "id": "Z5oN0gCSeZnX",
        "colab_type": "code",
        "outputId": "0ea12435-ab6a-42a1-87bd-57399fa16666",
        "colab": {
          "base_uri": "https://localhost:8080/",
          "height": 34
        }
      },
      "source": [
        "def factI(n):\n",
        "  result = 1\n",
        "  while n > 1:\n",
        "    result = result * n\n",
        "    n -= 1\n",
        "  return result\n",
        "\n",
        "factI(10)"
      ],
      "execution_count": 0,
      "outputs": [
        {
          "output_type": "execute_result",
          "data": {
            "text/plain": [
              "3628800"
            ]
          },
          "metadata": {
            "tags": []
          },
          "execution_count": 66
        }
      ]
    },
    {
      "cell_type": "code",
      "metadata": {
        "id": "moOF4Fsz4Ktt",
        "colab_type": "code",
        "outputId": "34450a64-f241-40d8-d8e3-595b1ebde69d",
        "colab": {
          "base_uri": "https://localhost:8080/",
          "height": 34
        }
      },
      "source": [
        "def factR(n):\n",
        "  if n== 1: # Base case\n",
        "    return n\n",
        "  else: # Recursive case\n",
        "    return n * factR(n - 1)\n",
        "\n",
        "factR(10)"
      ],
      "execution_count": 0,
      "outputs": [
        {
          "output_type": "execute_result",
          "data": {
            "text/plain": [
              "3628800"
            ]
          },
          "metadata": {
            "tags": []
          },
          "execution_count": 74
        }
      ]
    },
    {
      "cell_type": "code",
      "metadata": {
        "id": "LP64uoXb475h",
        "colab_type": "code",
        "outputId": "89cdd977-c948-45ff-df75-a43440b3f4bb",
        "colab": {
          "base_uri": "https://localhost:8080/",
          "height": 51
        }
      },
      "source": [
        "numFibCalls = 0\n",
        "\n",
        "def fib(n):\n",
        "  global numFibCalls # Note: numFibCalls must already be defined.\n",
        "  numFibCalls += 1\n",
        "\n",
        "  if n == 0 or n == 1: # More than 1 base case\n",
        "    return 1\n",
        "  else:\n",
        "    return fib(n-1) + fib(n-2)\n",
        "\n",
        "print('Fibonacci result: ', fib(10))\n",
        "\n",
        "print('Number of fib calls: ', numFibCalls)"
      ],
      "execution_count": 0,
      "outputs": [
        {
          "output_type": "stream",
          "text": [
            "Fibonacci result:  89\n",
            "Number of fib calls:  177\n"
          ],
          "name": "stdout"
        }
      ]
    },
    {
      "cell_type": "code",
      "metadata": {
        "id": "qYTV_dF76nxl",
        "colab_type": "code",
        "colab": {}
      },
      "source": [
        ""
      ],
      "execution_count": 0,
      "outputs": []
    }
  ]
}