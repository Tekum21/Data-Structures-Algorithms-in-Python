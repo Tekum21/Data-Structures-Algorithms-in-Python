{
  "nbformat": 4,
  "nbformat_minor": 0,
  "metadata": {
    "colab": {
      "name": "Data690-03_Week6 - Computational Complexity.ipynb",
      "provenance": []
    },
    "kernelspec": {
      "name": "python3",
      "display_name": "Python 3"
    }
  },
  "cells": [
    {
      "cell_type": "code",
      "metadata": {
        "id": "STSPJZ5L4lAQ",
        "colab_type": "code",
        "colab": {}
      },
      "source": [
        "def f(i):\n",
        "  \"\"\"Assumes i is an int and i >=0\"\"\"\n",
        "  answer = 1\n",
        "  while i >= 1:\n",
        "    answer *= i\n",
        "    i -= 1 \n",
        "\n",
        "  return answer"
      ],
      "execution_count": 0,
      "outputs": []
    },
    {
      "cell_type": "code",
      "metadata": {
        "id": "AfDn7ldpDbXT",
        "colab_type": "code",
        "colab": {}
      },
      "source": [
        "f(1000)"
      ],
      "execution_count": 0,
      "outputs": []
    },
    {
      "cell_type": "code",
      "metadata": {
        "id": "LX7DjPOlDJcz",
        "colab_type": "code",
        "colab": {}
      },
      "source": [
        "def linearSearch(L, x):\n",
        "  for e in L:\n",
        "    if e == x:\n",
        "      return True\n",
        "  return False"
      ],
      "execution_count": 0,
      "outputs": []
    },
    {
      "cell_type": "code",
      "metadata": {
        "id": "ln4kW4scDTE6",
        "colab_type": "code",
        "colab": {}
      },
      "source": [
        "linearSearch([2, 4, 3, 1, 6], 10)"
      ],
      "execution_count": 0,
      "outputs": []
    },
    {
      "cell_type": "code",
      "metadata": {
        "id": "9Ia3Z-yU6SWX",
        "colab_type": "code",
        "colab": {}
      },
      "source": [
        "f(1000)"
      ],
      "execution_count": 0,
      "outputs": []
    },
    {
      "cell_type": "code",
      "metadata": {
        "id": "1G-FR6sGLkXt",
        "colab_type": "code",
        "colab": {}
      },
      "source": [
        "def fact(n):\n",
        "  \"\"\"Assumes n is a natural numbrer\n",
        "    Returns n!\"\"\"\n",
        "  answer = 1\n",
        "  while n > 1:\n",
        "    answer *= n\n",
        "    n -= 1\n",
        "  return answer"
      ],
      "execution_count": 0,
      "outputs": []
    },
    {
      "cell_type": "code",
      "metadata": {
        "id": "OqVIuTlnL3QV",
        "colab_type": "code",
        "colab": {}
      },
      "source": [
        "fact(10)"
      ],
      "execution_count": 0,
      "outputs": []
    },
    {
      "cell_type": "code",
      "metadata": {
        "id": "H_Oy6Q0dhFG6",
        "colab_type": "code",
        "colab": {}
      },
      "source": [
        "def squareRootExhaustive(x, epsilon):\n",
        "  \"\"\"Assumes x and epsilon are positive floats & epsilon < 1\n",
        "    Returns a y such  that y*y is within epsilon of x\"\"\"\n",
        "  step = epsilon ** 2\n",
        "  ans = 0.0\n",
        "  while abs(ans**2 - x) >= epsilon and ans*ans <= x:\n",
        "    ans += step\n",
        "  if ans*ans > x:\n",
        "    raise ValueError\n",
        "  return ans"
      ],
      "execution_count": 0,
      "outputs": []
    },
    {
      "cell_type": "code",
      "metadata": {
        "id": "TbBVA5zxheNc",
        "colab_type": "code",
        "outputId": "8907009c-6560-4a0e-97d8-b333637037a2",
        "colab": {
          "base_uri": "https://localhost:8080/",
          "height": 34
        }
      },
      "source": [
        "squareRootExhaustive(10, 0.1)"
      ],
      "execution_count": 0,
      "outputs": [
        {
          "output_type": "execute_result",
          "data": {
            "text/plain": [
              "3.149999999999977"
            ]
          },
          "metadata": {
            "tags": []
          },
          "execution_count": 28
        }
      ]
    },
    {
      "cell_type": "code",
      "metadata": {
        "id": "shxNbdKRhlFl",
        "colab_type": "code",
        "colab": {}
      },
      "source": [
        "def squareRootBi(x, epsilon):\n",
        "  \"\"\"Assumes x and epsilon are positive floats & epsilon < 1\n",
        "  Returns a y such that y*y is within epsilon of x\"\"\"\n",
        "\n",
        "  low = 0.0\n",
        "  high = max(1.0, x)\n",
        "  ans = (high + low)/2.0\n",
        "  while abs(ans**2 -x) >= epsilon:\n",
        "    if ans**2 < x:\n",
        "      low = ans\n",
        "    else:\n",
        "      high = ans\n",
        "    ans = (high + low)/2.0\n",
        "  return ans"
      ],
      "execution_count": 0,
      "outputs": []
    },
    {
      "cell_type": "code",
      "metadata": {
        "id": "qHh2qAIZiI_g",
        "colab_type": "code",
        "outputId": "657d542b-4725-4113-e7dd-b9ec4f20506e",
        "colab": {
          "base_uri": "https://localhost:8080/",
          "height": 34
        }
      },
      "source": [
        "squareRootBi(10, 0.1)"
      ],
      "execution_count": 0,
      "outputs": [
        {
          "output_type": "execute_result",
          "data": {
            "text/plain": [
              "3.1640625"
            ]
          },
          "metadata": {
            "tags": []
          },
          "execution_count": 31
        }
      ]
    },
    {
      "cell_type": "code",
      "metadata": {
        "id": "gMscgEJBGNHU",
        "colab_type": "code",
        "colab": {}
      },
      "source": [
        "def g(x):\n",
        "    \"\"\"Assumes x is an int > 0\"\"\"\n",
        "    ans = 0\n",
        "    # Loop that takes constant time\n",
        "    for i in range(1000):\n",
        "        ans += 1\n",
        "    print('Number of additions so far', ans)\n",
        "\n",
        "    # Loop that takes time x\n",
        "    for i in range(x):\n",
        "        ans += 1\n",
        "    print('Number of additions so far', ans)\n",
        "\n",
        "    # Nested loops take time x**2\n",
        "    for i in range(x):\n",
        "        for j in range(x):\n",
        "            ans += 1\n",
        "            ans += 1\n",
        "    print('Number of additions so far', ans)\n",
        "    \n",
        "    return ans"
      ],
      "execution_count": 0,
      "outputs": []
    },
    {
      "cell_type": "code",
      "metadata": {
        "id": "r2LS8XX6k8sq",
        "colab_type": "code",
        "outputId": "61d802c6-87e3-4753-fcbd-f1e30ab7e0e6",
        "colab": {
          "base_uri": "https://localhost:8080/",
          "height": 170
        }
      },
      "source": [
        "# Running time = 1000 + x + 2*x**2 if each line of code takes one unit\n",
        "# of time\n",
        "print(\"Calling g with \", 10)\n",
        "g(10)\n",
        "\n",
        "print(\"Calling g with\", 1000)\n",
        "g(1000)"
      ],
      "execution_count": 0,
      "outputs": [
        {
          "output_type": "stream",
          "text": [
            "Calling g with  10\n",
            "Number of additions so far 1000\n",
            "Number of additions so far 1010\n",
            "Number of additions so far 1210\n",
            "Calling g with 1000\n",
            "Number of additions so far 1000\n",
            "Number of additions so far 2000\n",
            "Number of additions so far 2002000\n"
          ],
          "name": "stdout"
        },
        {
          "output_type": "execute_result",
          "data": {
            "text/plain": [
              "2002000"
            ]
          },
          "metadata": {
            "tags": []
          },
          "execution_count": 34
        }
      ]
    },
    {
      "cell_type": "markdown",
      "metadata": {
        "id": "8EoMJCKM3j6u",
        "colab_type": "text"
      },
      "source": [
        "# Complexity Classes"
      ]
    },
    {
      "cell_type": "markdown",
      "metadata": {
        "id": "iluCCaBX3qCu",
        "colab_type": "text"
      },
      "source": [
        "## Constant Complexity\n",
        "- Asymptotic complexity is independent of the size of inputs.\n",
        "- Constant running time does not imply there are no loops or recursive calls in code, just that the number of iterations or calls\n",
        "- Is independent of the size of the inputs."
      ]
    },
    {
      "cell_type": "markdown",
      "metadata": {
        "id": "JUpScI783-4r",
        "colab_type": "text"
      },
      "source": [
        "## Logarithmic Complexity\n",
        "- Complexity grows as the log of at least one of the inputs"
      ]
    },
    {
      "cell_type": "code",
      "metadata": {
        "id": "UwaL3Kzg0yIG",
        "colab_type": "code",
        "colab": {}
      },
      "source": [
        "def int_to_str(i):\n",
        "    \"\"\"Assumes i is a nonnegative int\n",
        "       Returns a decimal string representation of i\"\"\"\n",
        "    digits = '0123456789'\n",
        "    if i == 0:\n",
        "        return '0'\n",
        "    result = ''\n",
        "    while i > 0:\n",
        "        result = digits[i%10] + result\n",
        "        i = i // 10\n",
        "    return result"
      ],
      "execution_count": 0,
      "outputs": []
    },
    {
      "cell_type": "code",
      "metadata": {
        "id": "TDdFNRZTlCno",
        "colab_type": "code",
        "outputId": "f5bfac2f-44b2-417b-b5aa-8b4dbd8b6dd9",
        "colab": {
          "base_uri": "https://localhost:8080/",
          "height": 35
        }
      },
      "source": [
        "int_to_str(1333749)"
      ],
      "execution_count": 4,
      "outputs": [
        {
          "output_type": "execute_result",
          "data": {
            "text/plain": [
              "'1333749'"
            ]
          },
          "metadata": {
            "tags": []
          },
          "execution_count": 4
        }
      ]
    },
    {
      "cell_type": "code",
      "metadata": {
        "id": "_z4pa8sb00bC",
        "colab_type": "code",
        "colab": {}
      },
      "source": [
        "def add_digits(n):\n",
        "    \"\"\"Assumes n is a nonnegative int\n",
        "       Returns the sum of the digits in n\"\"\"\n",
        "    string_rep = int_to_str(n)\n",
        "    val = 0\n",
        "    for c in string_rep:\n",
        "        val += int(c)\n",
        "    return val"
      ],
      "execution_count": 0,
      "outputs": []
    },
    {
      "cell_type": "code",
      "metadata": {
        "id": "INhD_KSZ1DQp",
        "colab_type": "code",
        "outputId": "c695eb19-e155-4d36-9cc5-cdaabae0ace0",
        "colab": {
          "base_uri": "https://localhost:8080/",
          "height": 35
        }
      },
      "source": [
        "add_digits(1333749)"
      ],
      "execution_count": 6,
      "outputs": [
        {
          "output_type": "execute_result",
          "data": {
            "text/plain": [
              "30"
            ]
          },
          "metadata": {
            "tags": []
          },
          "execution_count": 6
        }
      ]
    },
    {
      "cell_type": "markdown",
      "metadata": {
        "id": "NdzEWnsQ1ylu",
        "colab_type": "text"
      },
      "source": [
        "The complexity of converting n to a string using *intToStr* is O(log(n)), and *intToStr* returns a string of length O(log(n))."
      ]
    },
    {
      "cell_type": "markdown",
      "metadata": {
        "id": "MxSg6z5y4fBi",
        "colab_type": "text"
      },
      "source": [
        "## Linear Complexity\n",
        "- Many algorithms that deal with lists or sequences are linear.\n",
        "- They touch each element of the sequence a constant number of times."
      ]
    },
    {
      "cell_type": "code",
      "metadata": {
        "id": "_4_WUBRC1EwD",
        "colab_type": "code",
        "colab": {}
      },
      "source": [
        "def add_digits_linear(s):\n",
        "    \"\"\"Assumes s is a str each character of which is a decimal\n",
        "       digit. Returns an int that is the sum of the digits in s.\"\"\"\n",
        "    val = 0\n",
        "    for c in s:\n",
        "        val += int(c)\n",
        "    return val"
      ],
      "execution_count": 0,
      "outputs": []
    },
    {
      "cell_type": "code",
      "metadata": {
        "id": "lgDNH-mf7LuU",
        "colab_type": "code",
        "outputId": "75ef0f41-1620-4e40-d0cd-a243445120bd",
        "colab": {
          "base_uri": "https://localhost:8080/",
          "height": 35
        }
      },
      "source": [
        "add_digits_linear(\"123456\")"
      ],
      "execution_count": 8,
      "outputs": [
        {
          "output_type": "execute_result",
          "data": {
            "text/plain": [
              "21"
            ]
          },
          "metadata": {
            "tags": []
          },
          "execution_count": 8
        }
      ]
    },
    {
      "cell_type": "markdown",
      "metadata": {
        "id": "_bQT-vIk8iHC",
        "colab_type": "text"
      },
      "source": [
        "Note: A program does not need to have a loop to have linear complexity"
      ]
    },
    {
      "cell_type": "code",
      "metadata": {
        "id": "byd_tQ4Q4tnZ",
        "colab_type": "code",
        "colab": {}
      },
      "source": [
        "def factorial(x):\n",
        "    \"\"\"Assumes that x is a postive int\n",
        "       Returns x!\"\"\"\n",
        "    if x == 1:\n",
        "        return 1\n",
        "    else:\n",
        "        return x * factorial(x - 1)"
      ],
      "execution_count": 0,
      "outputs": []
    },
    {
      "cell_type": "markdown",
      "metadata": {
        "id": "GvPCiuQo9Hdf",
        "colab_type": "text"
      },
      "source": [
        "There are no loops in the code, in order to analyze the complexity we need to figure out how many recursive calls get made."
      ]
    },
    {
      "cell_type": "code",
      "metadata": {
        "id": "0sPqMYFT4vog",
        "colab_type": "code",
        "outputId": "72495f9a-dcf4-41d9-957e-d9056189858f",
        "colab": {
          "base_uri": "https://localhost:8080/",
          "height": 35
        }
      },
      "source": [
        "factorial(6)"
      ],
      "execution_count": 10,
      "outputs": [
        {
          "output_type": "execute_result",
          "data": {
            "text/plain": [
              "720"
            ]
          },
          "metadata": {
            "tags": []
          },
          "execution_count": 10
        }
      ]
    },
    {
      "cell_type": "markdown",
      "metadata": {
        "id": "Sb0FdPyA8ZXC",
        "colab_type": "text"
      },
      "source": [
        "### Time Complexity vs. Space Complexity\n",
        "- Each recursive call of factorial causes a new stack frame to be allocated.\n",
        "- At the maximum depth of recursion, this code will have allocated x stack frames\n",
        "- The space complexity is also O(x)\n",
        "- Typically more attendtion is given to the time complexity - memory is invisible to the users\n",
        "- The exception occurs when a program needs more space than available in the system"
      ]
    },
    {
      "cell_type": "code",
      "metadata": {
        "id": "ZBKEf4gh-YUr",
        "colab_type": "code",
        "outputId": "828e95cd-f2dd-46b4-820f-03341f632cb6",
        "colab": {
          "base_uri": "https://localhost:8080/",
          "height": 311
        }
      },
      "source": [
        "factorial(1000)"
      ],
      "execution_count": 11,
      "outputs": [
        {
          "output_type": "error",
          "ename": "RecursionError",
          "evalue": "ignored",
          "traceback": [
            "\u001b[0;31m---------------------------------------------------------------------------\u001b[0m",
            "\u001b[0;31mRecursionError\u001b[0m                            Traceback (most recent call last)",
            "\u001b[0;32m<ipython-input-11-0b8d23898b9b>\u001b[0m in \u001b[0;36m<module>\u001b[0;34m()\u001b[0m\n\u001b[0;32m----> 1\u001b[0;31m \u001b[0mfactorial\u001b[0m\u001b[0;34m(\u001b[0m\u001b[0;36m1000\u001b[0m\u001b[0;34m)\u001b[0m\u001b[0;34m\u001b[0m\u001b[0;34m\u001b[0m\u001b[0m\n\u001b[0m",
            "\u001b[0;32m<ipython-input-9-f440026dfdde>\u001b[0m in \u001b[0;36mfactorial\u001b[0;34m(x)\u001b[0m\n\u001b[1;32m      5\u001b[0m         \u001b[0;32mreturn\u001b[0m \u001b[0;36m1\u001b[0m\u001b[0;34m\u001b[0m\u001b[0;34m\u001b[0m\u001b[0m\n\u001b[1;32m      6\u001b[0m     \u001b[0;32melse\u001b[0m\u001b[0;34m:\u001b[0m\u001b[0;34m\u001b[0m\u001b[0;34m\u001b[0m\u001b[0m\n\u001b[0;32m----> 7\u001b[0;31m         \u001b[0;32mreturn\u001b[0m \u001b[0mx\u001b[0m \u001b[0;34m*\u001b[0m \u001b[0mfactorial\u001b[0m\u001b[0;34m(\u001b[0m\u001b[0mx\u001b[0m \u001b[0;34m-\u001b[0m \u001b[0;36m1\u001b[0m\u001b[0;34m)\u001b[0m\u001b[0;34m\u001b[0m\u001b[0;34m\u001b[0m\u001b[0m\n\u001b[0m",
            "... last 1 frames repeated, from the frame below ...\n",
            "\u001b[0;32m<ipython-input-9-f440026dfdde>\u001b[0m in \u001b[0;36mfactorial\u001b[0;34m(x)\u001b[0m\n\u001b[1;32m      5\u001b[0m         \u001b[0;32mreturn\u001b[0m \u001b[0;36m1\u001b[0m\u001b[0;34m\u001b[0m\u001b[0;34m\u001b[0m\u001b[0m\n\u001b[1;32m      6\u001b[0m     \u001b[0;32melse\u001b[0m\u001b[0;34m:\u001b[0m\u001b[0;34m\u001b[0m\u001b[0;34m\u001b[0m\u001b[0m\n\u001b[0;32m----> 7\u001b[0;31m         \u001b[0;32mreturn\u001b[0m \u001b[0mx\u001b[0m \u001b[0;34m*\u001b[0m \u001b[0mfactorial\u001b[0m\u001b[0;34m(\u001b[0m\u001b[0mx\u001b[0m \u001b[0;34m-\u001b[0m \u001b[0;36m1\u001b[0m\u001b[0;34m)\u001b[0m\u001b[0;34m\u001b[0m\u001b[0;34m\u001b[0m\u001b[0m\n\u001b[0m",
            "\u001b[0;31mRecursionError\u001b[0m: maximum recursion depth exceeded in comparison"
          ]
        }
      ]
    },
    {
      "cell_type": "markdown",
      "metadata": {
        "id": "1N3w-SJLADn7",
        "colab_type": "text"
      },
      "source": [
        "## Polynomial Complexity\n",
        "- Most common polynomial algorithms are quadratic."
      ]
    },
    {
      "cell_type": "code",
      "metadata": {
        "id": "GyqiwW0t-Zw1",
        "colab_type": "code",
        "colab": {}
      },
      "source": [
        "def is_subset(L1, L2):\n",
        "    \"\"\"Assumes L1 and L2 are lists.\n",
        "       Returns True if each element in L1 is also in L2\n",
        "       and False otherwise.\"\"\"\n",
        "    for e1 in L1:\n",
        "        matched = False\n",
        "        for e2 in L2:\n",
        "            if e1 == e2:\n",
        "                matched = True\n",
        "                break\n",
        "        if not matched:\n",
        "            return False\n",
        "    return True"
      ],
      "execution_count": 0,
      "outputs": []
    },
    {
      "cell_type": "markdown",
      "metadata": {
        "id": "C2ypsj1AAV3-",
        "colab_type": "text"
      },
      "source": [
        "Complexity of is_subset is O(len(L1)*Len(L2))"
      ]
    },
    {
      "cell_type": "code",
      "metadata": {
        "id": "a2NBleh2Ao4Y",
        "colab_type": "code",
        "colab": {}
      },
      "source": [
        "def intersect(L1, L2):\n",
        "    \"\"\"Assumes: L1 and L2 are lists\n",
        "       Returns a list without duplicates that is the intersection\n",
        "       of L1 and L2\"\"\"\n",
        "       # Build a list containing common elements\n",
        "    tmp = []\n",
        "    for e1 in L1:\n",
        "        for e2 in L2:\n",
        "           if e1 == e2:\n",
        "               tmp.append(e1)\n",
        "               break\n",
        "    # Build a list without duplicates\n",
        "    result = []\n",
        "    for e in tmp:\n",
        "        if e not in result:\n",
        "            result.append(e)\n",
        "    return result"
      ],
      "execution_count": 0,
      "outputs": []
    },
    {
      "cell_type": "markdown",
      "metadata": {
        "id": "pqXmXk4uAr-k",
        "colab_type": "text"
      },
      "source": [
        "First part building the list that might contain duplicates is O(len(L1)*len(L2)). The second part is NOT linear since e not in result potentially involves looking at each element in result, hence is O(len(tmp)*len(result)); however len(result) and len(tmp) are bounded by the min(len(L1), len(L2))\n",
        "Therefore complexity of intersect is O(len(L1) * len(L2))"
      ]
    },
    {
      "cell_type": "code",
      "metadata": {
        "id": "ecwtyZjaA1rF",
        "colab_type": "code",
        "colab": {}
      },
      "source": [
        ""
      ],
      "execution_count": 0,
      "outputs": []
    }
  ]
}