{
  "nbformat": 4,
  "nbformat_minor": 0,
  "metadata": {
    "colab": {
      "name": "Data 690 Week 3 - Python Modules.ipynb",
      "provenance": []
    },
    "kernelspec": {
      "name": "python3",
      "display_name": "Python 3"
    }
  },
  "cells": [
    {
      "cell_type": "markdown",
      "metadata": {
        "id": "usbO1k1c1Att",
        "colab_type": "text"
      },
      "source": [
        "# Global Variable\n",
        "## Fib using a global variable"
      ]
    },
    {
      "cell_type": "code",
      "metadata": {
        "id": "JfTvebXbyiy7",
        "colab_type": "code",
        "colab": {}
      },
      "source": [
        "def fib(x):\n",
        "  \"\"\"Assumes x an int >= 0\n",
        "    Returns Fibonacci of x\"\"\"\n",
        "  global numFibCalls\n",
        "  numFibCalls += 1\n",
        "  if x== 0 or x == 1:\n",
        "    return 1\n",
        "  else:\n",
        "    return fib(x-1) + fib(x-2)\n",
        "  \n",
        "def testFib(n):\n",
        "  for i in range(n+1):\n",
        "    global numFibCalls\n",
        "    numFibCalls = 0\n",
        "    print('fib of', i, '=', fib(i))\n",
        "    print('fib called', numFibCalls, 'times.')\n",
        "\n",
        "# numFibCalls = 0\n",
        "testFib(5)\n"
      ],
      "execution_count": 0,
      "outputs": []
    },
    {
      "cell_type": "markdown",
      "metadata": {
        "id": "79sdJitneivM",
        "colab_type": "text"
      },
      "source": [
        "# Modules"
      ]
    },
    {
      "cell_type": "code",
      "metadata": {
        "id": "E1OMQXzLeWuM",
        "colab_type": "code",
        "colab": {}
      },
      "source": [
        "!rm data690mod.py"
      ],
      "execution_count": 0,
      "outputs": []
    },
    {
      "cell_type": "code",
      "metadata": {
        "colab_type": "code",
        "id": "wB_q2L3z_I89",
        "colab": {}
      },
      "source": [
        "!ls"
      ],
      "execution_count": 0,
      "outputs": []
    },
    {
      "cell_type": "markdown",
      "metadata": {
        "id": "3RGGZwc1_L6s",
        "colab_type": "text"
      },
      "source": [
        "Note: *!rm* and *!ls* are called magic commands within Jupyter.\n",
        "For more information on magic commands, refer to the [iPython documentation](https://ipython.readthedocs.io/en/stable/interactive/magics.html)."
      ]
    },
    {
      "cell_type": "code",
      "metadata": {
        "id": "xdnC27ryajXa",
        "colab_type": "code",
        "colab": {}
      },
      "source": [
        "%%writefile data690mod.py\n",
        "\n",
        "def myFunction1():\n",
        "    print ('Hello DATA 690. I am in myFunction()')\n",
        "\n",
        "print(f\"I will be printed only the first time module {__name__} is imported\")"
      ],
      "execution_count": 0,
      "outputs": []
    },
    {
      "cell_type": "code",
      "metadata": {
        "id": "hbEG5MTxaw8t",
        "colab_type": "code",
        "colab": {}
      },
      "source": [
        "!ls"
      ],
      "execution_count": 0,
      "outputs": []
    },
    {
      "cell_type": "code",
      "metadata": {
        "id": "-lgb4nE-ayxp",
        "colab_type": "code",
        "colab": {}
      },
      "source": [
        "!cat data690mod.py"
      ],
      "execution_count": 0,
      "outputs": []
    },
    {
      "cell_type": "code",
      "metadata": {
        "id": "MgDkFUTDfcJc",
        "colab_type": "code",
        "colab": {}
      },
      "source": [
        "import data690mod"
      ],
      "execution_count": 0,
      "outputs": []
    },
    {
      "cell_type": "markdown",
      "metadata": {
        "id": "kS_vOBTpnxeD",
        "colab_type": "text"
      },
      "source": [
        "# Files"
      ]
    },
    {
      "cell_type": "markdown",
      "metadata": {
        "id": "23fx1Ar0n0R8",
        "colab_type": "text"
      },
      "source": [
        "## Wring to a file"
      ]
    },
    {
      "cell_type": "code",
      "metadata": {
        "id": "a7TsFgRPa9WD",
        "colab_type": "code",
        "colab": {}
      },
      "source": [
        "# f = open('mytestfile.txt', 'w')\n",
        "#f.write('This is a test data')\n",
        "f.flush()"
      ],
      "execution_count": 0,
      "outputs": []
    },
    {
      "cell_type": "code",
      "metadata": {
        "id": "-b5oNrpHJL59",
        "colab_type": "code",
        "colab": {}
      },
      "source": [
        "!ls\n"
      ],
      "execution_count": 0,
      "outputs": []
    },
    {
      "cell_type": "code",
      "metadata": {
        "id": "EHDqN6JcKFGB",
        "colab_type": "code",
        "colab": {}
      },
      "source": [
        "!cat mytestfile.txt"
      ],
      "execution_count": 0,
      "outputs": []
    },
    {
      "cell_type": "code",
      "metadata": {
        "id": "DaDR9ambtG6G",
        "colab_type": "code",
        "colab": {}
      },
      "source": [
        "f.close()"
      ],
      "execution_count": 0,
      "outputs": []
    },
    {
      "cell_type": "code",
      "metadata": {
        "id": "LV9cbkNetJux",
        "colab_type": "code",
        "colab": {}
      },
      "source": [
        "f.closed"
      ],
      "execution_count": 0,
      "outputs": []
    },
    {
      "cell_type": "markdown",
      "metadata": {
        "id": "5qx0sM-Ls1a7",
        "colab_type": "text"
      },
      "source": [
        "## Reading from a file"
      ]
    },
    {
      "cell_type": "code",
      "metadata": {
        "id": "C6IvSt75s6rH",
        "colab_type": "code",
        "colab": {}
      },
      "source": [
        "fr = open('mytestfile.txt', 'r')"
      ],
      "execution_count": 0,
      "outputs": []
    },
    {
      "cell_type": "code",
      "metadata": {
        "id": "ek-rr0l2tSti",
        "colab_type": "code",
        "colab": {}
      },
      "source": [
        "print(fr.read())"
      ],
      "execution_count": 0,
      "outputs": []
    },
    {
      "cell_type": "code",
      "metadata": {
        "id": "SPYFFnH3tV24",
        "colab_type": "code",
        "colab": {}
      },
      "source": [
        "fr.close()"
      ],
      "execution_count": 0,
      "outputs": []
    },
    {
      "cell_type": "code",
      "metadata": {
        "id": "ctw4JJVIteNX",
        "colab_type": "code",
        "colab": {}
      },
      "source": [
        "fr = open('mytestfile.txt', 'r')\n",
        "fr.write('This will fail')"
      ],
      "execution_count": 0,
      "outputs": []
    },
    {
      "cell_type": "code",
      "metadata": {
        "id": "I6gNXABBtu-F",
        "colab_type": "code",
        "colab": {}
      },
      "source": [
        "fr.close()"
      ],
      "execution_count": 0,
      "outputs": []
    },
    {
      "cell_type": "markdown",
      "metadata": {
        "id": "E9eM7gLRqFwb",
        "colab_type": "text"
      },
      "source": [
        "### *with* statement"
      ]
    },
    {
      "cell_type": "code",
      "metadata": {
        "id": "oih8x0L2qEmH",
        "colab_type": "code",
        "colab": {}
      },
      "source": [
        "with open('mytestfile.txt') as f:\n",
        "  read_data = f.read()\n",
        "  print(\"File contains \", read_data)\n",
        "  \n",
        "f.closed"
      ],
      "execution_count": 0,
      "outputs": []
    },
    {
      "cell_type": "markdown",
      "metadata": {
        "id": "oPA1_3qXyR9K",
        "colab_type": "text"
      },
      "source": [
        "## Multi-line"
      ]
    },
    {
      "cell_type": "code",
      "metadata": {
        "id": "57NIbTBSuJiE",
        "colab_type": "code",
        "colab": {}
      },
      "source": [
        "line1 = \"First line\\n\"\n",
        "line2 = \"Second line\\n\"\n",
        "line3 = \"Third line\\n\"\n",
        "with open('multilinefile', 'w') as mf:\n",
        "  mf.writelines([line1, line2, line3])"
      ],
      "execution_count": 0,
      "outputs": []
    },
    {
      "cell_type": "code",
      "metadata": {
        "id": "14Sna6JayWxs",
        "colab_type": "code",
        "colab": {}
      },
      "source": [
        "mf = open('multilinefile', 'r')\n",
        "\n",
        "for l in mf:\n",
        "  print(l)"
      ],
      "execution_count": 0,
      "outputs": []
    },
    {
      "cell_type": "code",
      "metadata": {
        "id": "wdoqlRHYznJt",
        "colab_type": "code",
        "colab": {}
      },
      "source": [
        "mf.close()"
      ],
      "execution_count": 0,
      "outputs": []
    },
    {
      "cell_type": "markdown",
      "metadata": {
        "id": "fK_wbifF034t",
        "colab_type": "text"
      },
      "source": [
        "## Append"
      ]
    },
    {
      "cell_type": "code",
      "metadata": {
        "id": "haqWgAKD02Bj",
        "colab_type": "code",
        "colab": {}
      },
      "source": [
        "line1 = \"First line\\n\"\n",
        "line2 = \"Second line\\n\"\n",
        "line3 = \"Third line\\n\"\n",
        "with open('multilinefile', 'w') as mf:\n",
        "  mf.writelines([line1, line2, line3])"
      ],
      "execution_count": 0,
      "outputs": []
    },
    {
      "cell_type": "code",
      "metadata": {
        "id": "ZnutWWMn0-3W",
        "colab_type": "code",
        "colab": {}
      },
      "source": [
        "af = open('multilinefile', 'a')\n",
        "af.write('\\nappending to the file')\n",
        "af.close()"
      ],
      "execution_count": 0,
      "outputs": []
    },
    {
      "cell_type": "code",
      "metadata": {
        "id": "ZL4lARWM1MGg",
        "colab_type": "code",
        "colab": {}
      },
      "source": [
        "%cat multilinefile"
      ],
      "execution_count": 0,
      "outputs": []
    },
    {
      "cell_type": "code",
      "metadata": {
        "id": "-RVsPXod1PKw",
        "colab_type": "code",
        "colab": {}
      },
      "source": [
        "%rm multilinefile"
      ],
      "execution_count": 0,
      "outputs": []
    },
    {
      "cell_type": "markdown",
      "metadata": {
        "id": "lmzWqXXz7fnG",
        "colab_type": "text"
      },
      "source": [
        "# Equality"
      ]
    },
    {
      "cell_type": "code",
      "metadata": {
        "id": "5kpM_7_D7eC-",
        "colab_type": "code",
        "colab": {}
      },
      "source": [
        "var1 = 'This is a test'\n",
        "var2 = 'This is a test'\n",
        "print(\"var1 == var2\", var1 == var2)\n",
        "print(\"var1 is var2\", var1 is var2)\n",
        "print(\"id(var1) == id(var2)\", id(var1) == id(var2))"
      ],
      "execution_count": 0,
      "outputs": []
    },
    {
      "cell_type": "code",
      "metadata": {
        "id": "FVl188MFTztE",
        "colab_type": "code",
        "colab": {}
      },
      "source": [
        "id(var1)"
      ],
      "execution_count": 0,
      "outputs": []
    },
    {
      "cell_type": "code",
      "metadata": {
        "id": "R2xuBA15T17G",
        "colab_type": "code",
        "colab": {}
      },
      "source": [
        "id(var2)"
      ],
      "execution_count": 0,
      "outputs": []
    },
    {
      "cell_type": "markdown",
      "metadata": {
        "id": "W986inyQ9Dl6",
        "colab_type": "text"
      },
      "source": [
        "# Aliasing"
      ]
    },
    {
      "cell_type": "code",
      "metadata": {
        "id": "FSfDMyLb7nbk",
        "colab_type": "code",
        "colab": {}
      },
      "source": [
        "var1 = [1, 2, \"three\", 4, 5]\n",
        "var2 = var1\n",
        "var2[2] = 3\n",
        "print(\"var1:\", var1)\n",
        "print(\"var2:\", var2)"
      ],
      "execution_count": 0,
      "outputs": []
    },
    {
      "cell_type": "code",
      "metadata": {
        "id": "XJqkKUMM9S5z",
        "colab_type": "code",
        "colab": {}
      },
      "source": [
        "var1 is var2"
      ],
      "execution_count": 0,
      "outputs": []
    },
    {
      "cell_type": "markdown",
      "metadata": {
        "id": "92NGvNXe_y6o",
        "colab_type": "text"
      },
      "source": [
        "# Size Matters"
      ]
    },
    {
      "cell_type": "code",
      "metadata": {
        "id": "HKohTHN29l2v",
        "colab_type": "code",
        "colab": {}
      },
      "source": [
        "import sys\n",
        "range1 = range(0, 4, 1)\n",
        "list1 = [0,1,2,3]\n",
        "print(sys.getsizeof(range1), sys.getsizeof(list1))"
      ],
      "execution_count": 0,
      "outputs": []
    },
    {
      "cell_type": "code",
      "metadata": {
        "id": "fuVLXyXN_k76",
        "colab_type": "code",
        "colab": {}
      },
      "source": [
        "range2 = range(0, 1000000, 1)\n",
        "list2 = [0, 1, 2, 3, 4, 5, 6, 7, 8]\n",
        "print(sys.getsizeof(range2), sys.getsizeof(list2))"
      ],
      "execution_count": 0,
      "outputs": []
    },
    {
      "cell_type": "markdown",
      "metadata": {
        "id": "Hy8gLwoCBjnq",
        "colab_type": "text"
      },
      "source": [
        "# Cloning"
      ]
    },
    {
      "cell_type": "code",
      "metadata": {
        "id": "d2-ZP_uhDWrS",
        "colab_type": "code",
        "colab": {}
      },
      "source": [
        "def removeDups(L1, L2):\n",
        "  \"\"\"Assumes that L1 and L2 are lists.\n",
        "      Removes any element from L1 that also occurs in L2\"\"\"\n",
        "  for e1 in L1:\n",
        "    for e1 in L2:\n",
        "      L1.remove(e1)\n",
        "\n",
        "L1 = [1, 2, 3, 4]\n",
        "L2 = [1, 2, 5, 6]\n",
        "removeDups(L1, L2)\n",
        "print('L1 = ', L1)"
      ],
      "execution_count": 0,
      "outputs": []
    },
    {
      "cell_type": "code",
      "metadata": {
        "id": "ep3h-ubo_vEm",
        "colab_type": "code",
        "colab": {}
      },
      "source": [
        "def removeDupsNew(L1, L2):\n",
        "  \"\"\"Assumes that L1 and L2 are lists.\n",
        "      Removes any element from L1 that also occurs in L2\"\"\"\n",
        "  for e1 in L1:\n",
        "    for e1 in L2:\n",
        "      try: \n",
        "        L1.remove(e1)\n",
        "      except ValueError:\n",
        "        pass  # do nothing!\n",
        "      \n",
        "L1 = [1, 2, 3, 4]\n",
        "L2 = [1, 2, 5, 6]\n",
        "removeDupsNew(L1, L2)\n",
        "print('L1 = ', L1)"
      ],
      "execution_count": 0,
      "outputs": []
    },
    {
      "cell_type": "code",
      "metadata": {
        "id": "rzQ1Bpc2E9kF",
        "colab_type": "code",
        "colab": {}
      },
      "source": [
        "L1 = [1, 2, 3, 4]\n",
        "L2 = L1\n",
        "L3 = list(L1)\n",
        "\n",
        "print(\"L1 is L2\", L1 is L2)\n",
        "print(\"L1 is L3\", L1 is L3)\n",
        "\n",
        "L2[0] = 999\n",
        "L3[1] = 12345678\n",
        "print(\"L1\", L1)"
      ],
      "execution_count": 0,
      "outputs": []
    },
    {
      "cell_type": "markdown",
      "metadata": {
        "id": "94AWXvdwL2n3",
        "colab_type": "text"
      },
      "source": [
        "# Functinons as Objects/High-Order Functions"
      ]
    },
    {
      "cell_type": "code",
      "metadata": {
        "id": "4nc3v0S0CE8H",
        "colab_type": "code",
        "outputId": "b7d9e91c-135c-4822-e6cf-632dba338ad6",
        "colab": {
          "base_uri": "https://localhost:8080/",
          "height": 67
        }
      },
      "source": [
        "def applyToEach(L, f):\n",
        "  \"\"\"Assumes L is a list, f a function\n",
        "    Mutates L by replacing each element, e, of L by f(e)\"\"\"\n",
        "  for i in range(len(L)):\n",
        "    L[i] = f(L[i])\n",
        "\n",
        "L = [1, -2, 3.333]\n",
        "print('L = ', L)\n",
        "print('Apply abs to each element of L.')\n",
        "applyToEach(L, abs)\n",
        "print('L = ', L)"
      ],
      "execution_count": 0,
      "outputs": [
        {
          "output_type": "stream",
          "text": [
            "L =  [1, -2, 3.333]\n",
            "Apply abs to each element of L.\n",
            "L =  [1, 2, 3.333]\n"
          ],
          "name": "stdout"
        }
      ]
    },
    {
      "cell_type": "markdown",
      "metadata": {
        "id": "b-JGxonrM3kc",
        "colab_type": "text"
      },
      "source": [
        "## map() function"
      ]
    },
    {
      "cell_type": "code",
      "metadata": {
        "id": "JKK1FskhMwu7",
        "colab_type": "code",
        "outputId": "e3e4deee-7cca-4046-fecf-7daf3ffeb22c",
        "colab": {
          "base_uri": "https://localhost:8080/",
          "height": 67
        }
      },
      "source": [
        "def squared(number):\n",
        "  return number ** 2\n",
        "\n",
        "for i in map(squared, [2, 6, 4]):\n",
        "  print(i)"
      ],
      "execution_count": 0,
      "outputs": [
        {
          "output_type": "stream",
          "text": [
            "4\n",
            "36\n",
            "16\n"
          ],
          "name": "stdout"
        }
      ]
    },
    {
      "cell_type": "markdown",
      "metadata": {
        "id": "0T4ZkD77N0na",
        "colab_type": "text"
      },
      "source": [
        "## Lambda Expression"
      ]
    },
    {
      "cell_type": "markdown",
      "metadata": {
        "id": "LNY_tro9OLCI",
        "colab_type": "text"
      },
      "source": [
        ""
      ]
    },
    {
      "cell_type": "code",
      "metadata": {
        "id": "6425Ho-fNBC0",
        "colab_type": "code",
        "outputId": "dbb1dcb7-570b-4951-c332-481d63682faf",
        "colab": {
          "base_uri": "https://localhost:8080/",
          "height": 67
        }
      },
      "source": [
        "for i in map(lambda x: x**2, [2, 6, 4]):\n",
        "  print(i)"
      ],
      "execution_count": 0,
      "outputs": [
        {
          "output_type": "stream",
          "text": [
            "4\n",
            "36\n",
            "16\n"
          ],
          "name": "stdout"
        }
      ]
    },
    {
      "cell_type": "code",
      "metadata": {
        "id": "Ja93W0R0N75O",
        "colab_type": "code",
        "outputId": "badf7bce-1d21-4840-cdde-6e246759db2c",
        "colab": {
          "base_uri": "https://localhost:8080/",
          "height": 67
        }
      },
      "source": [
        "for i in map(lambda x, y:x*y, [2, 6, 4], [10, 100, 1000]):\n",
        "  print(i)"
      ],
      "execution_count": 0,
      "outputs": [
        {
          "output_type": "stream",
          "text": [
            "20\n",
            "600\n",
            "4000\n"
          ],
          "name": "stdout"
        }
      ]
    },
    {
      "cell_type": "code",
      "metadata": {
        "id": "6EPadFc-ODZd",
        "colab_type": "code",
        "colab": {}
      },
      "source": [
        ""
      ],
      "execution_count": 0,
      "outputs": []
    }
  ]
}